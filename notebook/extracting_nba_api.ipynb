{
 "metadata": {
  "language_info": {
   "codemirror_mode": {
    "name": "ipython",
    "version": 3
   },
   "file_extension": ".py",
   "mimetype": "text/x-python",
   "name": "python",
   "nbconvert_exporter": "python",
   "pygments_lexer": "ipython3",
   "version": "3.8.3"
  },
  "orig_nbformat": 2,
  "kernelspec": {
   "name": "python383jvsc74a57bd0aee8b7b246df8f9039afb4144a1f6fd8d2ca17a180786b69acc140d282b71a49",
   "display_name": "Python 3.8.3 64-bit"
  },
  "metadata": {
   "interpreter": {
    "hash": "aee8b7b246df8f9039afb4144a1f6fd8d2ca17a180786b69acc140d282b71a49"
   }
  }
 },
 "nbformat": 4,
 "nbformat_minor": 2,
 "cells": [
  {
   "cell_type": "code",
   "execution_count": 1,
   "metadata": {},
   "outputs": [],
   "source": [
    "import requests\n",
    "import pandas as pd\n",
    "import datetime\n",
    "\n",
    "from nba_api.stats.static import teams\n",
    "from nba_api.stats.endpoints import leaguegamefinder"
   ]
  },
  {
   "cell_type": "code",
   "execution_count": 2,
   "metadata": {},
   "outputs": [
    {
     "output_type": "execute_result",
     "data": {
      "text/plain": [
       "           id             full_name abbreviation   nickname         city  \\\n",
       "0  1610612737         Atlanta Hawks          ATL      Hawks      Atlanta   \n",
       "1  1610612738        Boston Celtics          BOS    Celtics       Boston   \n",
       "2  1610612739   Cleveland Cavaliers          CLE  Cavaliers    Cleveland   \n",
       "3  1610612740  New Orleans Pelicans          NOP   Pelicans  New Orleans   \n",
       "4  1610612741         Chicago Bulls          CHI      Bulls      Chicago   \n",
       "\n",
       "           state  year_founded  \n",
       "0        Atlanta          1949  \n",
       "1  Massachusetts          1946  \n",
       "2           Ohio          1970  \n",
       "3      Louisiana          2002  \n",
       "4       Illinois          1966  "
      ],
      "text/html": "<div>\n<style scoped>\n    .dataframe tbody tr th:only-of-type {\n        vertical-align: middle;\n    }\n\n    .dataframe tbody tr th {\n        vertical-align: top;\n    }\n\n    .dataframe thead th {\n        text-align: right;\n    }\n</style>\n<table border=\"1\" class=\"dataframe\">\n  <thead>\n    <tr style=\"text-align: right;\">\n      <th></th>\n      <th>id</th>\n      <th>full_name</th>\n      <th>abbreviation</th>\n      <th>nickname</th>\n      <th>city</th>\n      <th>state</th>\n      <th>year_founded</th>\n    </tr>\n  </thead>\n  <tbody>\n    <tr>\n      <th>0</th>\n      <td>1610612737</td>\n      <td>Atlanta Hawks</td>\n      <td>ATL</td>\n      <td>Hawks</td>\n      <td>Atlanta</td>\n      <td>Atlanta</td>\n      <td>1949</td>\n    </tr>\n    <tr>\n      <th>1</th>\n      <td>1610612738</td>\n      <td>Boston Celtics</td>\n      <td>BOS</td>\n      <td>Celtics</td>\n      <td>Boston</td>\n      <td>Massachusetts</td>\n      <td>1946</td>\n    </tr>\n    <tr>\n      <th>2</th>\n      <td>1610612739</td>\n      <td>Cleveland Cavaliers</td>\n      <td>CLE</td>\n      <td>Cavaliers</td>\n      <td>Cleveland</td>\n      <td>Ohio</td>\n      <td>1970</td>\n    </tr>\n    <tr>\n      <th>3</th>\n      <td>1610612740</td>\n      <td>New Orleans Pelicans</td>\n      <td>NOP</td>\n      <td>Pelicans</td>\n      <td>New Orleans</td>\n      <td>Louisiana</td>\n      <td>2002</td>\n    </tr>\n    <tr>\n      <th>4</th>\n      <td>1610612741</td>\n      <td>Chicago Bulls</td>\n      <td>CHI</td>\n      <td>Bulls</td>\n      <td>Chicago</td>\n      <td>Illinois</td>\n      <td>1966</td>\n    </tr>\n  </tbody>\n</table>\n</div>"
     },
     "metadata": {},
     "execution_count": 2
    }
   ],
   "source": [
    "nba_teams = pd.DataFrame(teams.get_teams())\n",
    "nba_teams.head()"
   ]
  },
  {
   "cell_type": "code",
   "execution_count": 3,
   "metadata": {},
   "outputs": [
    {
     "output_type": "execute_result",
     "data": {
      "text/plain": [
       "array([1610612737, 1610612738, 1610612739, 1610612740, 1610612741,\n",
       "       1610612742, 1610612743, 1610612744, 1610612745, 1610612746,\n",
       "       1610612747, 1610612748, 1610612749, 1610612750, 1610612751,\n",
       "       1610612752, 1610612753, 1610612754, 1610612755, 1610612756,\n",
       "       1610612757, 1610612758, 1610612759, 1610612760, 1610612761,\n",
       "       1610612762, 1610612763, 1610612764, 1610612765, 1610612766])"
      ]
     },
     "metadata": {},
     "execution_count": 3
    }
   ],
   "source": [
    "team_ids = nba_teams['id'].unique()\n",
    "team_ids"
   ]
  },
  {
   "source": [
    "# Getting all game records of season 20/21 up till now"
   ],
   "cell_type": "markdown",
   "metadata": {}
  },
  {
   "cell_type": "code",
   "execution_count": 4,
   "metadata": {},
   "outputs": [],
   "source": [
    "main_df = pd.DataFrame()\n",
    "for team_id in team_ids:\n",
    "    gamefinder = leaguegamefinder.LeagueGameFinder(team_id_nullable=team_id)\n",
    "    games = gamefinder.get_data_frames()[0]\n",
    "    games = games[(games['GAME_DATE'] >= '2020-12-22') & (games['WL'].isnull() == False)]\n",
    "    main_df = main_df.append(games)\n",
    "\n",
    "main_df = main_df.sort_values('GAME_DATE',ascending=False)"
   ]
  },
  {
   "cell_type": "code",
   "execution_count": 5,
   "metadata": {},
   "outputs": [
    {
     "output_type": "execute_result",
     "data": {
      "text/plain": [
       "   SEASON_ID     TEAM_ID TEAM_ABBREVIATION              TEAM_NAME     GAME_ID  \\\n",
       "0      22020  1610612737               ATL          Atlanta Hawks  0022001026   \n",
       "0      22020  1610612759               SAS      San Antonio Spurs  0022001029   \n",
       "0      22020  1610612740               NOP   New Orleans Pelicans  0022001028   \n",
       "0      22020  1610612744               GSW  Golden State Warriors  0022001030   \n",
       "0      22020  1610612745               HOU        Houston Rockets  0022001031   \n",
       "..       ...         ...               ...                    ...         ...   \n",
       "67     22020  1610612766               CHA      Charlotte Hornets  0022000010   \n",
       "68     22020  1610612744               GSW  Golden State Warriors  0022000001   \n",
       "67     22020  1610612747               LAL     Los Angeles Lakers  0022000002   \n",
       "67     22020  1610612746               LAC            LA Clippers  0022000002   \n",
       "67     22020  1610612751               BKN          Brooklyn Nets  0022000001   \n",
       "\n",
       "     GAME_DATE      MATCHUP WL  MIN  PTS  ...  FT_PCT  OREB  DREB   REB  AST  \\\n",
       "0   2021-05-10  ATL vs. WAS  W  241  125  ...   0.885  13.0  42.0  55.0   23   \n",
       "0   2021-05-10  SAS vs. MIL  W  239  146  ...   0.810   9.0  37.0  46.0   27   \n",
       "0   2021-05-10    NOP @ MEM  L  241  110  ...   0.667  14.0  36.0  50.0   29   \n",
       "0   2021-05-10  GSW vs. UTA  W  241  119  ...   0.920   9.0  32.0  41.0   26   \n",
       "0   2021-05-10    HOU @ POR  L  239  129  ...   0.964   7.0  37.0  44.0   30   \n",
       "..         ...          ... ..  ...  ...  ...     ...   ...   ...   ...  ...   \n",
       "67  2020-12-23    CHA @ CLE  L  240  114  ...   0.533   8.0  24.0  32.0   29   \n",
       "68  2020-12-22    GSW @ BKN  L  240   99  ...   0.652  13.0  34.0  47.0   26   \n",
       "67  2020-12-22  LAL vs. LAC  L  240  109  ...   0.774   8.0  37.0  45.0   22   \n",
       "67  2020-12-22    LAC @ LAL  W  241  116  ...   0.737  11.0  29.0  40.0   22   \n",
       "67  2020-12-22  BKN vs. GSW  W  242  125  ...   0.813  13.0  44.0  57.0   24   \n",
       "\n",
       "     STL  BLK  TOV  PF  PLUS_MINUS  \n",
       "0    4.0    6   12  17         1.0  \n",
       "0    6.0    5   12  16        21.0  \n",
       "0    9.0    4   12  18        -5.0  \n",
       "0    8.0    2   10  20         3.0  \n",
       "0    5.0    2   13  26       -11.0  \n",
       "..   ...  ...  ...  ..         ...  \n",
       "67  10.0    4   15  17        -7.0  \n",
       "68   6.0    6   18  24       -26.0  \n",
       "67   4.0    2   19  20        -7.0  \n",
       "67  10.0    3   16  29         7.0  \n",
       "67  11.0    7   20  22        26.0  \n",
       "\n",
       "[2050 rows x 28 columns]"
      ],
      "text/html": "<div>\n<style scoped>\n    .dataframe tbody tr th:only-of-type {\n        vertical-align: middle;\n    }\n\n    .dataframe tbody tr th {\n        vertical-align: top;\n    }\n\n    .dataframe thead th {\n        text-align: right;\n    }\n</style>\n<table border=\"1\" class=\"dataframe\">\n  <thead>\n    <tr style=\"text-align: right;\">\n      <th></th>\n      <th>SEASON_ID</th>\n      <th>TEAM_ID</th>\n      <th>TEAM_ABBREVIATION</th>\n      <th>TEAM_NAME</th>\n      <th>GAME_ID</th>\n      <th>GAME_DATE</th>\n      <th>MATCHUP</th>\n      <th>WL</th>\n      <th>MIN</th>\n      <th>PTS</th>\n      <th>...</th>\n      <th>FT_PCT</th>\n      <th>OREB</th>\n      <th>DREB</th>\n      <th>REB</th>\n      <th>AST</th>\n      <th>STL</th>\n      <th>BLK</th>\n      <th>TOV</th>\n      <th>PF</th>\n      <th>PLUS_MINUS</th>\n    </tr>\n  </thead>\n  <tbody>\n    <tr>\n      <th>0</th>\n      <td>22020</td>\n      <td>1610612737</td>\n      <td>ATL</td>\n      <td>Atlanta Hawks</td>\n      <td>0022001026</td>\n      <td>2021-05-10</td>\n      <td>ATL vs. WAS</td>\n      <td>W</td>\n      <td>241</td>\n      <td>125</td>\n      <td>...</td>\n      <td>0.885</td>\n      <td>13.0</td>\n      <td>42.0</td>\n      <td>55.0</td>\n      <td>23</td>\n      <td>4.0</td>\n      <td>6</td>\n      <td>12</td>\n      <td>17</td>\n      <td>1.0</td>\n    </tr>\n    <tr>\n      <th>0</th>\n      <td>22020</td>\n      <td>1610612759</td>\n      <td>SAS</td>\n      <td>San Antonio Spurs</td>\n      <td>0022001029</td>\n      <td>2021-05-10</td>\n      <td>SAS vs. MIL</td>\n      <td>W</td>\n      <td>239</td>\n      <td>146</td>\n      <td>...</td>\n      <td>0.810</td>\n      <td>9.0</td>\n      <td>37.0</td>\n      <td>46.0</td>\n      <td>27</td>\n      <td>6.0</td>\n      <td>5</td>\n      <td>12</td>\n      <td>16</td>\n      <td>21.0</td>\n    </tr>\n    <tr>\n      <th>0</th>\n      <td>22020</td>\n      <td>1610612740</td>\n      <td>NOP</td>\n      <td>New Orleans Pelicans</td>\n      <td>0022001028</td>\n      <td>2021-05-10</td>\n      <td>NOP @ MEM</td>\n      <td>L</td>\n      <td>241</td>\n      <td>110</td>\n      <td>...</td>\n      <td>0.667</td>\n      <td>14.0</td>\n      <td>36.0</td>\n      <td>50.0</td>\n      <td>29</td>\n      <td>9.0</td>\n      <td>4</td>\n      <td>12</td>\n      <td>18</td>\n      <td>-5.0</td>\n    </tr>\n    <tr>\n      <th>0</th>\n      <td>22020</td>\n      <td>1610612744</td>\n      <td>GSW</td>\n      <td>Golden State Warriors</td>\n      <td>0022001030</td>\n      <td>2021-05-10</td>\n      <td>GSW vs. UTA</td>\n      <td>W</td>\n      <td>241</td>\n      <td>119</td>\n      <td>...</td>\n      <td>0.920</td>\n      <td>9.0</td>\n      <td>32.0</td>\n      <td>41.0</td>\n      <td>26</td>\n      <td>8.0</td>\n      <td>2</td>\n      <td>10</td>\n      <td>20</td>\n      <td>3.0</td>\n    </tr>\n    <tr>\n      <th>0</th>\n      <td>22020</td>\n      <td>1610612745</td>\n      <td>HOU</td>\n      <td>Houston Rockets</td>\n      <td>0022001031</td>\n      <td>2021-05-10</td>\n      <td>HOU @ POR</td>\n      <td>L</td>\n      <td>239</td>\n      <td>129</td>\n      <td>...</td>\n      <td>0.964</td>\n      <td>7.0</td>\n      <td>37.0</td>\n      <td>44.0</td>\n      <td>30</td>\n      <td>5.0</td>\n      <td>2</td>\n      <td>13</td>\n      <td>26</td>\n      <td>-11.0</td>\n    </tr>\n    <tr>\n      <th>...</th>\n      <td>...</td>\n      <td>...</td>\n      <td>...</td>\n      <td>...</td>\n      <td>...</td>\n      <td>...</td>\n      <td>...</td>\n      <td>...</td>\n      <td>...</td>\n      <td>...</td>\n      <td>...</td>\n      <td>...</td>\n      <td>...</td>\n      <td>...</td>\n      <td>...</td>\n      <td>...</td>\n      <td>...</td>\n      <td>...</td>\n      <td>...</td>\n      <td>...</td>\n      <td>...</td>\n    </tr>\n    <tr>\n      <th>67</th>\n      <td>22020</td>\n      <td>1610612766</td>\n      <td>CHA</td>\n      <td>Charlotte Hornets</td>\n      <td>0022000010</td>\n      <td>2020-12-23</td>\n      <td>CHA @ CLE</td>\n      <td>L</td>\n      <td>240</td>\n      <td>114</td>\n      <td>...</td>\n      <td>0.533</td>\n      <td>8.0</td>\n      <td>24.0</td>\n      <td>32.0</td>\n      <td>29</td>\n      <td>10.0</td>\n      <td>4</td>\n      <td>15</td>\n      <td>17</td>\n      <td>-7.0</td>\n    </tr>\n    <tr>\n      <th>68</th>\n      <td>22020</td>\n      <td>1610612744</td>\n      <td>GSW</td>\n      <td>Golden State Warriors</td>\n      <td>0022000001</td>\n      <td>2020-12-22</td>\n      <td>GSW @ BKN</td>\n      <td>L</td>\n      <td>240</td>\n      <td>99</td>\n      <td>...</td>\n      <td>0.652</td>\n      <td>13.0</td>\n      <td>34.0</td>\n      <td>47.0</td>\n      <td>26</td>\n      <td>6.0</td>\n      <td>6</td>\n      <td>18</td>\n      <td>24</td>\n      <td>-26.0</td>\n    </tr>\n    <tr>\n      <th>67</th>\n      <td>22020</td>\n      <td>1610612747</td>\n      <td>LAL</td>\n      <td>Los Angeles Lakers</td>\n      <td>0022000002</td>\n      <td>2020-12-22</td>\n      <td>LAL vs. LAC</td>\n      <td>L</td>\n      <td>240</td>\n      <td>109</td>\n      <td>...</td>\n      <td>0.774</td>\n      <td>8.0</td>\n      <td>37.0</td>\n      <td>45.0</td>\n      <td>22</td>\n      <td>4.0</td>\n      <td>2</td>\n      <td>19</td>\n      <td>20</td>\n      <td>-7.0</td>\n    </tr>\n    <tr>\n      <th>67</th>\n      <td>22020</td>\n      <td>1610612746</td>\n      <td>LAC</td>\n      <td>LA Clippers</td>\n      <td>0022000002</td>\n      <td>2020-12-22</td>\n      <td>LAC @ LAL</td>\n      <td>W</td>\n      <td>241</td>\n      <td>116</td>\n      <td>...</td>\n      <td>0.737</td>\n      <td>11.0</td>\n      <td>29.0</td>\n      <td>40.0</td>\n      <td>22</td>\n      <td>10.0</td>\n      <td>3</td>\n      <td>16</td>\n      <td>29</td>\n      <td>7.0</td>\n    </tr>\n    <tr>\n      <th>67</th>\n      <td>22020</td>\n      <td>1610612751</td>\n      <td>BKN</td>\n      <td>Brooklyn Nets</td>\n      <td>0022000001</td>\n      <td>2020-12-22</td>\n      <td>BKN vs. GSW</td>\n      <td>W</td>\n      <td>242</td>\n      <td>125</td>\n      <td>...</td>\n      <td>0.813</td>\n      <td>13.0</td>\n      <td>44.0</td>\n      <td>57.0</td>\n      <td>24</td>\n      <td>11.0</td>\n      <td>7</td>\n      <td>20</td>\n      <td>22</td>\n      <td>26.0</td>\n    </tr>\n  </tbody>\n</table>\n<p>2050 rows × 28 columns</p>\n</div>"
     },
     "metadata": {},
     "execution_count": 5
    }
   ],
   "source": [
    "main_df"
   ]
  },
  {
   "source": [
    "# Process raw api data"
   ],
   "cell_type": "markdown",
   "metadata": {}
  },
  {
   "cell_type": "code",
   "execution_count": 30,
   "metadata": {},
   "outputs": [
    {
     "output_type": "execute_result",
     "data": {
      "text/plain": [
       "      SEASON_ID     TEAM_ID TEAM_ABBREVIATION              TEAM_NAME  \\\n",
       "0         22020  1610612737               ATL          Atlanta Hawks   \n",
       "1         22020  1610612759               SAS      San Antonio Spurs   \n",
       "2         22020  1610612740               NOP   New Orleans Pelicans   \n",
       "3         22020  1610612744               GSW  Golden State Warriors   \n",
       "4         22020  1610612745               HOU        Houston Rockets   \n",
       "...         ...         ...               ...                    ...   \n",
       "2045      22020  1610612766               CHA      Charlotte Hornets   \n",
       "2046      22020  1610612744               GSW  Golden State Warriors   \n",
       "2047      22020  1610612747               LAL     Los Angeles Lakers   \n",
       "2048      22020  1610612746               LAC            LA Clippers   \n",
       "2049      22020  1610612751               BKN          Brooklyn Nets   \n",
       "\n",
       "       GAME_ID   GAME_DATE      MATCHUP WL  MIN  PTS  ...  FT_PCT  OREB  DREB  \\\n",
       "0     22001026  2021-05-10  ATL vs. WAS  W  241  125  ...   0.885  13.0  42.0   \n",
       "1     22001029  2021-05-10  SAS vs. MIL  W  239  146  ...   0.810   9.0  37.0   \n",
       "2     22001028  2021-05-10    NOP @ MEM  L  241  110  ...   0.667  14.0  36.0   \n",
       "3     22001030  2021-05-10  GSW vs. UTA  W  241  119  ...   0.920   9.0  32.0   \n",
       "4     22001031  2021-05-10    HOU @ POR  L  239  129  ...   0.964   7.0  37.0   \n",
       "...        ...         ...          ... ..  ...  ...  ...     ...   ...   ...   \n",
       "2045  22000010  2020-12-23    CHA @ CLE  L  240  114  ...   0.533   8.0  24.0   \n",
       "2046  22000001  2020-12-22    GSW @ BKN  L  240   99  ...   0.652  13.0  34.0   \n",
       "2047  22000002  2020-12-22  LAL vs. LAC  L  240  109  ...   0.774   8.0  37.0   \n",
       "2048  22000002  2020-12-22    LAC @ LAL  W  241  116  ...   0.737  11.0  29.0   \n",
       "2049  22000001  2020-12-22  BKN vs. GSW  W  242  125  ...   0.813  13.0  44.0   \n",
       "\n",
       "       REB  AST   STL  BLK  TOV  PF  PLUS_MINUS  \n",
       "0     55.0   23   4.0    6   12  17         1.0  \n",
       "1     46.0   27   6.0    5   12  16        21.0  \n",
       "2     50.0   29   9.0    4   12  18        -5.0  \n",
       "3     41.0   26   8.0    2   10  20         3.0  \n",
       "4     44.0   30   5.0    2   13  26       -11.0  \n",
       "...    ...  ...   ...  ...  ...  ..         ...  \n",
       "2045  32.0   29  10.0    4   15  17        -7.0  \n",
       "2046  47.0   26   6.0    6   18  24       -26.0  \n",
       "2047  45.0   22   4.0    2   19  20        -7.0  \n",
       "2048  40.0   22  10.0    3   16  29         7.0  \n",
       "2049  57.0   24  11.0    7   20  22        26.0  \n",
       "\n",
       "[2050 rows x 28 columns]"
      ],
      "text/html": "<div>\n<style scoped>\n    .dataframe tbody tr th:only-of-type {\n        vertical-align: middle;\n    }\n\n    .dataframe tbody tr th {\n        vertical-align: top;\n    }\n\n    .dataframe thead th {\n        text-align: right;\n    }\n</style>\n<table border=\"1\" class=\"dataframe\">\n  <thead>\n    <tr style=\"text-align: right;\">\n      <th></th>\n      <th>SEASON_ID</th>\n      <th>TEAM_ID</th>\n      <th>TEAM_ABBREVIATION</th>\n      <th>TEAM_NAME</th>\n      <th>GAME_ID</th>\n      <th>GAME_DATE</th>\n      <th>MATCHUP</th>\n      <th>WL</th>\n      <th>MIN</th>\n      <th>PTS</th>\n      <th>...</th>\n      <th>FT_PCT</th>\n      <th>OREB</th>\n      <th>DREB</th>\n      <th>REB</th>\n      <th>AST</th>\n      <th>STL</th>\n      <th>BLK</th>\n      <th>TOV</th>\n      <th>PF</th>\n      <th>PLUS_MINUS</th>\n    </tr>\n  </thead>\n  <tbody>\n    <tr>\n      <th>0</th>\n      <td>22020</td>\n      <td>1610612737</td>\n      <td>ATL</td>\n      <td>Atlanta Hawks</td>\n      <td>22001026</td>\n      <td>2021-05-10</td>\n      <td>ATL vs. WAS</td>\n      <td>W</td>\n      <td>241</td>\n      <td>125</td>\n      <td>...</td>\n      <td>0.885</td>\n      <td>13.0</td>\n      <td>42.0</td>\n      <td>55.0</td>\n      <td>23</td>\n      <td>4.0</td>\n      <td>6</td>\n      <td>12</td>\n      <td>17</td>\n      <td>1.0</td>\n    </tr>\n    <tr>\n      <th>1</th>\n      <td>22020</td>\n      <td>1610612759</td>\n      <td>SAS</td>\n      <td>San Antonio Spurs</td>\n      <td>22001029</td>\n      <td>2021-05-10</td>\n      <td>SAS vs. MIL</td>\n      <td>W</td>\n      <td>239</td>\n      <td>146</td>\n      <td>...</td>\n      <td>0.810</td>\n      <td>9.0</td>\n      <td>37.0</td>\n      <td>46.0</td>\n      <td>27</td>\n      <td>6.0</td>\n      <td>5</td>\n      <td>12</td>\n      <td>16</td>\n      <td>21.0</td>\n    </tr>\n    <tr>\n      <th>2</th>\n      <td>22020</td>\n      <td>1610612740</td>\n      <td>NOP</td>\n      <td>New Orleans Pelicans</td>\n      <td>22001028</td>\n      <td>2021-05-10</td>\n      <td>NOP @ MEM</td>\n      <td>L</td>\n      <td>241</td>\n      <td>110</td>\n      <td>...</td>\n      <td>0.667</td>\n      <td>14.0</td>\n      <td>36.0</td>\n      <td>50.0</td>\n      <td>29</td>\n      <td>9.0</td>\n      <td>4</td>\n      <td>12</td>\n      <td>18</td>\n      <td>-5.0</td>\n    </tr>\n    <tr>\n      <th>3</th>\n      <td>22020</td>\n      <td>1610612744</td>\n      <td>GSW</td>\n      <td>Golden State Warriors</td>\n      <td>22001030</td>\n      <td>2021-05-10</td>\n      <td>GSW vs. UTA</td>\n      <td>W</td>\n      <td>241</td>\n      <td>119</td>\n      <td>...</td>\n      <td>0.920</td>\n      <td>9.0</td>\n      <td>32.0</td>\n      <td>41.0</td>\n      <td>26</td>\n      <td>8.0</td>\n      <td>2</td>\n      <td>10</td>\n      <td>20</td>\n      <td>3.0</td>\n    </tr>\n    <tr>\n      <th>4</th>\n      <td>22020</td>\n      <td>1610612745</td>\n      <td>HOU</td>\n      <td>Houston Rockets</td>\n      <td>22001031</td>\n      <td>2021-05-10</td>\n      <td>HOU @ POR</td>\n      <td>L</td>\n      <td>239</td>\n      <td>129</td>\n      <td>...</td>\n      <td>0.964</td>\n      <td>7.0</td>\n      <td>37.0</td>\n      <td>44.0</td>\n      <td>30</td>\n      <td>5.0</td>\n      <td>2</td>\n      <td>13</td>\n      <td>26</td>\n      <td>-11.0</td>\n    </tr>\n    <tr>\n      <th>...</th>\n      <td>...</td>\n      <td>...</td>\n      <td>...</td>\n      <td>...</td>\n      <td>...</td>\n      <td>...</td>\n      <td>...</td>\n      <td>...</td>\n      <td>...</td>\n      <td>...</td>\n      <td>...</td>\n      <td>...</td>\n      <td>...</td>\n      <td>...</td>\n      <td>...</td>\n      <td>...</td>\n      <td>...</td>\n      <td>...</td>\n      <td>...</td>\n      <td>...</td>\n      <td>...</td>\n    </tr>\n    <tr>\n      <th>2045</th>\n      <td>22020</td>\n      <td>1610612766</td>\n      <td>CHA</td>\n      <td>Charlotte Hornets</td>\n      <td>22000010</td>\n      <td>2020-12-23</td>\n      <td>CHA @ CLE</td>\n      <td>L</td>\n      <td>240</td>\n      <td>114</td>\n      <td>...</td>\n      <td>0.533</td>\n      <td>8.0</td>\n      <td>24.0</td>\n      <td>32.0</td>\n      <td>29</td>\n      <td>10.0</td>\n      <td>4</td>\n      <td>15</td>\n      <td>17</td>\n      <td>-7.0</td>\n    </tr>\n    <tr>\n      <th>2046</th>\n      <td>22020</td>\n      <td>1610612744</td>\n      <td>GSW</td>\n      <td>Golden State Warriors</td>\n      <td>22000001</td>\n      <td>2020-12-22</td>\n      <td>GSW @ BKN</td>\n      <td>L</td>\n      <td>240</td>\n      <td>99</td>\n      <td>...</td>\n      <td>0.652</td>\n      <td>13.0</td>\n      <td>34.0</td>\n      <td>47.0</td>\n      <td>26</td>\n      <td>6.0</td>\n      <td>6</td>\n      <td>18</td>\n      <td>24</td>\n      <td>-26.0</td>\n    </tr>\n    <tr>\n      <th>2047</th>\n      <td>22020</td>\n      <td>1610612747</td>\n      <td>LAL</td>\n      <td>Los Angeles Lakers</td>\n      <td>22000002</td>\n      <td>2020-12-22</td>\n      <td>LAL vs. LAC</td>\n      <td>L</td>\n      <td>240</td>\n      <td>109</td>\n      <td>...</td>\n      <td>0.774</td>\n      <td>8.0</td>\n      <td>37.0</td>\n      <td>45.0</td>\n      <td>22</td>\n      <td>4.0</td>\n      <td>2</td>\n      <td>19</td>\n      <td>20</td>\n      <td>-7.0</td>\n    </tr>\n    <tr>\n      <th>2048</th>\n      <td>22020</td>\n      <td>1610612746</td>\n      <td>LAC</td>\n      <td>LA Clippers</td>\n      <td>22000002</td>\n      <td>2020-12-22</td>\n      <td>LAC @ LAL</td>\n      <td>W</td>\n      <td>241</td>\n      <td>116</td>\n      <td>...</td>\n      <td>0.737</td>\n      <td>11.0</td>\n      <td>29.0</td>\n      <td>40.0</td>\n      <td>22</td>\n      <td>10.0</td>\n      <td>3</td>\n      <td>16</td>\n      <td>29</td>\n      <td>7.0</td>\n    </tr>\n    <tr>\n      <th>2049</th>\n      <td>22020</td>\n      <td>1610612751</td>\n      <td>BKN</td>\n      <td>Brooklyn Nets</td>\n      <td>22000001</td>\n      <td>2020-12-22</td>\n      <td>BKN vs. GSW</td>\n      <td>W</td>\n      <td>242</td>\n      <td>125</td>\n      <td>...</td>\n      <td>0.813</td>\n      <td>13.0</td>\n      <td>44.0</td>\n      <td>57.0</td>\n      <td>24</td>\n      <td>11.0</td>\n      <td>7</td>\n      <td>20</td>\n      <td>22</td>\n      <td>26.0</td>\n    </tr>\n  </tbody>\n</table>\n<p>2050 rows × 28 columns</p>\n</div>"
     },
     "metadata": {},
     "execution_count": 30
    }
   ],
   "source": [
    "df = main_df"
   ]
  },
  {
   "cell_type": "code",
   "execution_count": 26,
   "metadata": {},
   "outputs": [
    {
     "output_type": "execute_result",
     "data": {
      "text/plain": [
       "      SEASON_ID     TEAM_ID TEAM_ABBREVIATION              TEAM_NAME  \\\n",
       "1024      22020  1610612756               PHX           Phoenix Suns   \n",
       "853       22020  1610612760               OKC  Oklahoma City Thunder   \n",
       "1623      22020  1610612738               BOS         Boston Celtics   \n",
       "849       22020  1610612762               UTA              Utah Jazz   \n",
       "848       22020  1610612766               CHA      Charlotte Hornets   \n",
       "...         ...         ...               ...                    ...   \n",
       "903       22020  1610612764               WAS     Washington Wizards   \n",
       "902       22020  1610612742               DAL       Dallas Mavericks   \n",
       "899       22020  1610612743               DEN         Denver Nuggets   \n",
       "918       22020  1610612755               PHI     Philadelphia 76ers   \n",
       "2049      22020  1610612751               BKN          Brooklyn Nets   \n",
       "\n",
       "       GAME_ID   GAME_DATE      MATCHUP WL  MIN  PTS  ...  FT_PCT  OREB  DREB  \\\n",
       "1024  22000542  2021-03-02    PHX @ LAL  W  240  114  ...   0.880   5.0  30.0   \n",
       "853   22000626  2021-03-18    OKC @ ATL  L  240   93  ...   0.750  11.0  27.0   \n",
       "1623  22000233  2021-01-22    BOS @ PHI  L  239  110  ...   0.800  10.0  22.0   \n",
       "849   22000166  2021-03-18    UTA @ WAS  L  242  122  ...   0.571  11.0  36.0   \n",
       "848   22000630  2021-03-18    CHA @ LAL  L  240  105  ...   0.600   8.0  36.0   \n",
       "...        ...         ...          ... ..  ...  ...  ...     ...   ...   ...   \n",
       "903   22000603  2021-03-15  WAS vs. MIL  L  241  122  ...   0.750   2.0  31.0   \n",
       "902   22000605  2021-03-15  DAL vs. LAC  L  240   99  ...   0.800   4.0  29.0   \n",
       "899   22000606  2021-03-15  DEN vs. IND  W  239  121  ...   0.842  17.0  37.0   \n",
       "918   22000595  2021-03-14  PHI vs. SAS  W  241  134  ...   0.636  13.0  41.0   \n",
       "2049  22000001  2020-12-22  BKN vs. GSW  W  242  125  ...   0.813  13.0  44.0   \n",
       "\n",
       "       REB  AST   STL  BLK  TOV  PF  PLUS_MINUS  \n",
       "1024  35.0   30   5.0    7   13  16        10.0  \n",
       "853   38.0   18   5.0    3    9  13       -23.0  \n",
       "1623  32.0   23  10.0    5   11  21       -12.0  \n",
       "849   47.0   19  10.0    3   16  27        -9.0  \n",
       "848   44.0   26   7.0    8   19  19       -11.0  \n",
       "...    ...  ...   ...  ...  ...  ..         ...  \n",
       "903   33.0   34   5.0    1   14  18       -11.0  \n",
       "902   33.0   24   8.0    4   14  16       -10.0  \n",
       "899   54.0   32   7.0    7   10  15        15.0  \n",
       "918   54.0   35   7.0    7   11  27        35.0  \n",
       "2049  57.0   24  11.0    7   20  22        26.0  \n",
       "\n",
       "[2050 rows x 28 columns]"
      ],
      "text/html": "<div>\n<style scoped>\n    .dataframe tbody tr th:only-of-type {\n        vertical-align: middle;\n    }\n\n    .dataframe tbody tr th {\n        vertical-align: top;\n    }\n\n    .dataframe thead th {\n        text-align: right;\n    }\n</style>\n<table border=\"1\" class=\"dataframe\">\n  <thead>\n    <tr style=\"text-align: right;\">\n      <th></th>\n      <th>SEASON_ID</th>\n      <th>TEAM_ID</th>\n      <th>TEAM_ABBREVIATION</th>\n      <th>TEAM_NAME</th>\n      <th>GAME_ID</th>\n      <th>GAME_DATE</th>\n      <th>MATCHUP</th>\n      <th>WL</th>\n      <th>MIN</th>\n      <th>PTS</th>\n      <th>...</th>\n      <th>FT_PCT</th>\n      <th>OREB</th>\n      <th>DREB</th>\n      <th>REB</th>\n      <th>AST</th>\n      <th>STL</th>\n      <th>BLK</th>\n      <th>TOV</th>\n      <th>PF</th>\n      <th>PLUS_MINUS</th>\n    </tr>\n  </thead>\n  <tbody>\n    <tr>\n      <th>1024</th>\n      <td>22020</td>\n      <td>1610612756</td>\n      <td>PHX</td>\n      <td>Phoenix Suns</td>\n      <td>22000542</td>\n      <td>2021-03-02</td>\n      <td>PHX @ LAL</td>\n      <td>W</td>\n      <td>240</td>\n      <td>114</td>\n      <td>...</td>\n      <td>0.880</td>\n      <td>5.0</td>\n      <td>30.0</td>\n      <td>35.0</td>\n      <td>30</td>\n      <td>5.0</td>\n      <td>7</td>\n      <td>13</td>\n      <td>16</td>\n      <td>10.0</td>\n    </tr>\n    <tr>\n      <th>853</th>\n      <td>22020</td>\n      <td>1610612760</td>\n      <td>OKC</td>\n      <td>Oklahoma City Thunder</td>\n      <td>22000626</td>\n      <td>2021-03-18</td>\n      <td>OKC @ ATL</td>\n      <td>L</td>\n      <td>240</td>\n      <td>93</td>\n      <td>...</td>\n      <td>0.750</td>\n      <td>11.0</td>\n      <td>27.0</td>\n      <td>38.0</td>\n      <td>18</td>\n      <td>5.0</td>\n      <td>3</td>\n      <td>9</td>\n      <td>13</td>\n      <td>-23.0</td>\n    </tr>\n    <tr>\n      <th>1623</th>\n      <td>22020</td>\n      <td>1610612738</td>\n      <td>BOS</td>\n      <td>Boston Celtics</td>\n      <td>22000233</td>\n      <td>2021-01-22</td>\n      <td>BOS @ PHI</td>\n      <td>L</td>\n      <td>239</td>\n      <td>110</td>\n      <td>...</td>\n      <td>0.800</td>\n      <td>10.0</td>\n      <td>22.0</td>\n      <td>32.0</td>\n      <td>23</td>\n      <td>10.0</td>\n      <td>5</td>\n      <td>11</td>\n      <td>21</td>\n      <td>-12.0</td>\n    </tr>\n    <tr>\n      <th>849</th>\n      <td>22020</td>\n      <td>1610612762</td>\n      <td>UTA</td>\n      <td>Utah Jazz</td>\n      <td>22000166</td>\n      <td>2021-03-18</td>\n      <td>UTA @ WAS</td>\n      <td>L</td>\n      <td>242</td>\n      <td>122</td>\n      <td>...</td>\n      <td>0.571</td>\n      <td>11.0</td>\n      <td>36.0</td>\n      <td>47.0</td>\n      <td>19</td>\n      <td>10.0</td>\n      <td>3</td>\n      <td>16</td>\n      <td>27</td>\n      <td>-9.0</td>\n    </tr>\n    <tr>\n      <th>848</th>\n      <td>22020</td>\n      <td>1610612766</td>\n      <td>CHA</td>\n      <td>Charlotte Hornets</td>\n      <td>22000630</td>\n      <td>2021-03-18</td>\n      <td>CHA @ LAL</td>\n      <td>L</td>\n      <td>240</td>\n      <td>105</td>\n      <td>...</td>\n      <td>0.600</td>\n      <td>8.0</td>\n      <td>36.0</td>\n      <td>44.0</td>\n      <td>26</td>\n      <td>7.0</td>\n      <td>8</td>\n      <td>19</td>\n      <td>19</td>\n      <td>-11.0</td>\n    </tr>\n    <tr>\n      <th>...</th>\n      <td>...</td>\n      <td>...</td>\n      <td>...</td>\n      <td>...</td>\n      <td>...</td>\n      <td>...</td>\n      <td>...</td>\n      <td>...</td>\n      <td>...</td>\n      <td>...</td>\n      <td>...</td>\n      <td>...</td>\n      <td>...</td>\n      <td>...</td>\n      <td>...</td>\n      <td>...</td>\n      <td>...</td>\n      <td>...</td>\n      <td>...</td>\n      <td>...</td>\n      <td>...</td>\n    </tr>\n    <tr>\n      <th>903</th>\n      <td>22020</td>\n      <td>1610612764</td>\n      <td>WAS</td>\n      <td>Washington Wizards</td>\n      <td>22000603</td>\n      <td>2021-03-15</td>\n      <td>WAS vs. MIL</td>\n      <td>L</td>\n      <td>241</td>\n      <td>122</td>\n      <td>...</td>\n      <td>0.750</td>\n      <td>2.0</td>\n      <td>31.0</td>\n      <td>33.0</td>\n      <td>34</td>\n      <td>5.0</td>\n      <td>1</td>\n      <td>14</td>\n      <td>18</td>\n      <td>-11.0</td>\n    </tr>\n    <tr>\n      <th>902</th>\n      <td>22020</td>\n      <td>1610612742</td>\n      <td>DAL</td>\n      <td>Dallas Mavericks</td>\n      <td>22000605</td>\n      <td>2021-03-15</td>\n      <td>DAL vs. LAC</td>\n      <td>L</td>\n      <td>240</td>\n      <td>99</td>\n      <td>...</td>\n      <td>0.800</td>\n      <td>4.0</td>\n      <td>29.0</td>\n      <td>33.0</td>\n      <td>24</td>\n      <td>8.0</td>\n      <td>4</td>\n      <td>14</td>\n      <td>16</td>\n      <td>-10.0</td>\n    </tr>\n    <tr>\n      <th>899</th>\n      <td>22020</td>\n      <td>1610612743</td>\n      <td>DEN</td>\n      <td>Denver Nuggets</td>\n      <td>22000606</td>\n      <td>2021-03-15</td>\n      <td>DEN vs. IND</td>\n      <td>W</td>\n      <td>239</td>\n      <td>121</td>\n      <td>...</td>\n      <td>0.842</td>\n      <td>17.0</td>\n      <td>37.0</td>\n      <td>54.0</td>\n      <td>32</td>\n      <td>7.0</td>\n      <td>7</td>\n      <td>10</td>\n      <td>15</td>\n      <td>15.0</td>\n    </tr>\n    <tr>\n      <th>918</th>\n      <td>22020</td>\n      <td>1610612755</td>\n      <td>PHI</td>\n      <td>Philadelphia 76ers</td>\n      <td>22000595</td>\n      <td>2021-03-14</td>\n      <td>PHI vs. SAS</td>\n      <td>W</td>\n      <td>241</td>\n      <td>134</td>\n      <td>...</td>\n      <td>0.636</td>\n      <td>13.0</td>\n      <td>41.0</td>\n      <td>54.0</td>\n      <td>35</td>\n      <td>7.0</td>\n      <td>7</td>\n      <td>11</td>\n      <td>27</td>\n      <td>35.0</td>\n    </tr>\n    <tr>\n      <th>2049</th>\n      <td>22020</td>\n      <td>1610612751</td>\n      <td>BKN</td>\n      <td>Brooklyn Nets</td>\n      <td>22000001</td>\n      <td>2020-12-22</td>\n      <td>BKN vs. GSW</td>\n      <td>W</td>\n      <td>242</td>\n      <td>125</td>\n      <td>...</td>\n      <td>0.813</td>\n      <td>13.0</td>\n      <td>44.0</td>\n      <td>57.0</td>\n      <td>24</td>\n      <td>11.0</td>\n      <td>7</td>\n      <td>20</td>\n      <td>22</td>\n      <td>26.0</td>\n    </tr>\n  </tbody>\n</table>\n<p>2050 rows × 28 columns</p>\n</div>"
     },
     "metadata": {},
     "execution_count": 26
    }
   ],
   "source": [
    "df['length'] = df['MATCHUP'].str.len()\n",
    "df.sort_values('length', inplace=True)\n",
    "df.drop(columns=['length'], inplace=True)\n",
    "df"
   ]
  },
  {
   "cell_type": "code",
   "execution_count": 28,
   "metadata": {},
   "outputs": [
    {
     "output_type": "execute_result",
     "data": {
      "text/plain": [
       "     TEAM_ABBREVIATION_x           TEAM_NAME_x   GAME_ID GAME_DATE_x  WL_x  \\\n",
       "0                    LAL    Los Angeles Lakers  22000542  2021-03-02     0   \n",
       "1                    ATL         Atlanta Hawks  22000626  2021-03-18     1   \n",
       "2                    PHI    Philadelphia 76ers  22000233  2021-01-22     1   \n",
       "3                    WAS    Washington Wizards  22000166  2021-03-18     1   \n",
       "4                    LAL    Los Angeles Lakers  22000630  2021-03-18     1   \n",
       "...                  ...                   ...       ...         ...   ...   \n",
       "1020                 ORL         Orlando Magic  22000816  2021-04-12     0   \n",
       "1021                 NOP  New Orleans Pelicans  22000819  2021-04-12     1   \n",
       "1022                 DEN        Denver Nuggets  22000995  2021-05-05     1   \n",
       "1023                 MEM     Memphis Grizzlies  22000278  2021-04-12     1   \n",
       "1024                 SAC      Sacramento Kings  22000117  2021-01-06     1   \n",
       "\n",
       "      MIN_x  PTS_x  FGM_x  FGA_x  FG_PCT_x  ...  FT_PCT_y  OREB_y  DREB_y  \\\n",
       "0       240    104     40     79     0.506  ...     0.880     5.0    30.0   \n",
       "1       241    116     47     87     0.540  ...     0.750    11.0    27.0   \n",
       "2       240    122     45     81     0.556  ...     0.800    10.0    22.0   \n",
       "3       240    131     47     86     0.547  ...     0.571    11.0    36.0   \n",
       "4       240    116     44     92     0.478  ...     0.600     8.0    36.0   \n",
       "...     ...    ...    ...    ...       ...  ...       ...     ...     ...   \n",
       "1020    240     97     36     80     0.450  ...     0.778    12.0    35.0   \n",
       "1021    240    117     42     77     0.545  ...     0.595     8.0    26.0   \n",
       "1022    240    113     37     97     0.381  ...     0.667     6.0    36.0   \n",
       "1023    240    101     40     85     0.471  ...     0.765     8.0    32.0   \n",
       "1024    239    128     47     91     0.516  ...     0.800    10.0    33.0   \n",
       "\n",
       "      REB_y  AST_y  STL_y  BLK_y  TOV_y  PF_y  PLUS_MINUS_y  \n",
       "0      35.0     30    5.0      7     13    16          10.0  \n",
       "1      38.0     18    5.0      3      9    13         -23.0  \n",
       "2      32.0     23   10.0      5     11    21         -12.0  \n",
       "3      47.0     19   10.0      3     16    27          -9.0  \n",
       "4      44.0     26    7.0      8     19    19         -11.0  \n",
       "...     ...    ...    ...    ...    ...   ...           ...  \n",
       "1020   47.0     30    6.0      5      9    26          23.0  \n",
       "1021   34.0     21   14.0      3     10    26          -7.0  \n",
       "1022   42.0     18    6.0     10     15    24         -16.0  \n",
       "1023   40.0     23    8.0      3     17    16         -11.0  \n",
       "1024   43.0     27    3.0      2     14    21          -4.0  \n",
       "\n",
       "[1025 rows x 49 columns]"
      ],
      "text/html": "<div>\n<style scoped>\n    .dataframe tbody tr th:only-of-type {\n        vertical-align: middle;\n    }\n\n    .dataframe tbody tr th {\n        vertical-align: top;\n    }\n\n    .dataframe thead th {\n        text-align: right;\n    }\n</style>\n<table border=\"1\" class=\"dataframe\">\n  <thead>\n    <tr style=\"text-align: right;\">\n      <th></th>\n      <th>TEAM_ABBREVIATION_x</th>\n      <th>TEAM_NAME_x</th>\n      <th>GAME_ID</th>\n      <th>GAME_DATE_x</th>\n      <th>WL_x</th>\n      <th>MIN_x</th>\n      <th>PTS_x</th>\n      <th>FGM_x</th>\n      <th>FGA_x</th>\n      <th>FG_PCT_x</th>\n      <th>...</th>\n      <th>FT_PCT_y</th>\n      <th>OREB_y</th>\n      <th>DREB_y</th>\n      <th>REB_y</th>\n      <th>AST_y</th>\n      <th>STL_y</th>\n      <th>BLK_y</th>\n      <th>TOV_y</th>\n      <th>PF_y</th>\n      <th>PLUS_MINUS_y</th>\n    </tr>\n  </thead>\n  <tbody>\n    <tr>\n      <th>0</th>\n      <td>LAL</td>\n      <td>Los Angeles Lakers</td>\n      <td>22000542</td>\n      <td>2021-03-02</td>\n      <td>0</td>\n      <td>240</td>\n      <td>104</td>\n      <td>40</td>\n      <td>79</td>\n      <td>0.506</td>\n      <td>...</td>\n      <td>0.880</td>\n      <td>5.0</td>\n      <td>30.0</td>\n      <td>35.0</td>\n      <td>30</td>\n      <td>5.0</td>\n      <td>7</td>\n      <td>13</td>\n      <td>16</td>\n      <td>10.0</td>\n    </tr>\n    <tr>\n      <th>1</th>\n      <td>ATL</td>\n      <td>Atlanta Hawks</td>\n      <td>22000626</td>\n      <td>2021-03-18</td>\n      <td>1</td>\n      <td>241</td>\n      <td>116</td>\n      <td>47</td>\n      <td>87</td>\n      <td>0.540</td>\n      <td>...</td>\n      <td>0.750</td>\n      <td>11.0</td>\n      <td>27.0</td>\n      <td>38.0</td>\n      <td>18</td>\n      <td>5.0</td>\n      <td>3</td>\n      <td>9</td>\n      <td>13</td>\n      <td>-23.0</td>\n    </tr>\n    <tr>\n      <th>2</th>\n      <td>PHI</td>\n      <td>Philadelphia 76ers</td>\n      <td>22000233</td>\n      <td>2021-01-22</td>\n      <td>1</td>\n      <td>240</td>\n      <td>122</td>\n      <td>45</td>\n      <td>81</td>\n      <td>0.556</td>\n      <td>...</td>\n      <td>0.800</td>\n      <td>10.0</td>\n      <td>22.0</td>\n      <td>32.0</td>\n      <td>23</td>\n      <td>10.0</td>\n      <td>5</td>\n      <td>11</td>\n      <td>21</td>\n      <td>-12.0</td>\n    </tr>\n    <tr>\n      <th>3</th>\n      <td>WAS</td>\n      <td>Washington Wizards</td>\n      <td>22000166</td>\n      <td>2021-03-18</td>\n      <td>1</td>\n      <td>240</td>\n      <td>131</td>\n      <td>47</td>\n      <td>86</td>\n      <td>0.547</td>\n      <td>...</td>\n      <td>0.571</td>\n      <td>11.0</td>\n      <td>36.0</td>\n      <td>47.0</td>\n      <td>19</td>\n      <td>10.0</td>\n      <td>3</td>\n      <td>16</td>\n      <td>27</td>\n      <td>-9.0</td>\n    </tr>\n    <tr>\n      <th>4</th>\n      <td>LAL</td>\n      <td>Los Angeles Lakers</td>\n      <td>22000630</td>\n      <td>2021-03-18</td>\n      <td>1</td>\n      <td>240</td>\n      <td>116</td>\n      <td>44</td>\n      <td>92</td>\n      <td>0.478</td>\n      <td>...</td>\n      <td>0.600</td>\n      <td>8.0</td>\n      <td>36.0</td>\n      <td>44.0</td>\n      <td>26</td>\n      <td>7.0</td>\n      <td>8</td>\n      <td>19</td>\n      <td>19</td>\n      <td>-11.0</td>\n    </tr>\n    <tr>\n      <th>...</th>\n      <td>...</td>\n      <td>...</td>\n      <td>...</td>\n      <td>...</td>\n      <td>...</td>\n      <td>...</td>\n      <td>...</td>\n      <td>...</td>\n      <td>...</td>\n      <td>...</td>\n      <td>...</td>\n      <td>...</td>\n      <td>...</td>\n      <td>...</td>\n      <td>...</td>\n      <td>...</td>\n      <td>...</td>\n      <td>...</td>\n      <td>...</td>\n      <td>...</td>\n      <td>...</td>\n    </tr>\n    <tr>\n      <th>1020</th>\n      <td>ORL</td>\n      <td>Orlando Magic</td>\n      <td>22000816</td>\n      <td>2021-04-12</td>\n      <td>0</td>\n      <td>240</td>\n      <td>97</td>\n      <td>36</td>\n      <td>80</td>\n      <td>0.450</td>\n      <td>...</td>\n      <td>0.778</td>\n      <td>12.0</td>\n      <td>35.0</td>\n      <td>47.0</td>\n      <td>30</td>\n      <td>6.0</td>\n      <td>5</td>\n      <td>9</td>\n      <td>26</td>\n      <td>23.0</td>\n    </tr>\n    <tr>\n      <th>1021</th>\n      <td>NOP</td>\n      <td>New Orleans Pelicans</td>\n      <td>22000819</td>\n      <td>2021-04-12</td>\n      <td>1</td>\n      <td>240</td>\n      <td>117</td>\n      <td>42</td>\n      <td>77</td>\n      <td>0.545</td>\n      <td>...</td>\n      <td>0.595</td>\n      <td>8.0</td>\n      <td>26.0</td>\n      <td>34.0</td>\n      <td>21</td>\n      <td>14.0</td>\n      <td>3</td>\n      <td>10</td>\n      <td>26</td>\n      <td>-7.0</td>\n    </tr>\n    <tr>\n      <th>1022</th>\n      <td>DEN</td>\n      <td>Denver Nuggets</td>\n      <td>22000995</td>\n      <td>2021-05-05</td>\n      <td>1</td>\n      <td>240</td>\n      <td>113</td>\n      <td>37</td>\n      <td>97</td>\n      <td>0.381</td>\n      <td>...</td>\n      <td>0.667</td>\n      <td>6.0</td>\n      <td>36.0</td>\n      <td>42.0</td>\n      <td>18</td>\n      <td>6.0</td>\n      <td>10</td>\n      <td>15</td>\n      <td>24</td>\n      <td>-16.0</td>\n    </tr>\n    <tr>\n      <th>1023</th>\n      <td>MEM</td>\n      <td>Memphis Grizzlies</td>\n      <td>22000278</td>\n      <td>2021-04-12</td>\n      <td>1</td>\n      <td>240</td>\n      <td>101</td>\n      <td>40</td>\n      <td>85</td>\n      <td>0.471</td>\n      <td>...</td>\n      <td>0.765</td>\n      <td>8.0</td>\n      <td>32.0</td>\n      <td>40.0</td>\n      <td>23</td>\n      <td>8.0</td>\n      <td>3</td>\n      <td>17</td>\n      <td>16</td>\n      <td>-11.0</td>\n    </tr>\n    <tr>\n      <th>1024</th>\n      <td>SAC</td>\n      <td>Sacramento Kings</td>\n      <td>22000117</td>\n      <td>2021-01-06</td>\n      <td>1</td>\n      <td>239</td>\n      <td>128</td>\n      <td>47</td>\n      <td>91</td>\n      <td>0.516</td>\n      <td>...</td>\n      <td>0.800</td>\n      <td>10.0</td>\n      <td>33.0</td>\n      <td>43.0</td>\n      <td>27</td>\n      <td>3.0</td>\n      <td>2</td>\n      <td>14</td>\n      <td>21</td>\n      <td>-4.0</td>\n    </tr>\n  </tbody>\n</table>\n<p>1025 rows × 49 columns</p>\n</div>"
     },
     "metadata": {},
     "execution_count": 28
    }
   ],
   "source": [
    "df_combined = df.merge(df, on='GAME_ID')\n",
    "df_combined = df_combined.drop(df_combined[df_combined['TEAM_ID_x'] == df_combined['TEAM_ID_y']].index)\n",
    "df_combined = df_combined.iloc[1:].iloc[::2]\n",
    "df_combined.reset_index(inplace=True)\n",
    "df_combined.drop(columns=[\"SEASON_ID_x\", \"TEAM_ID_x\", \"SEASON_ID_y\", \"TEAM_ID_y\", \"MATCHUP_x\", \"MATCHUP_y\"],inplace=True)\n",
    "df_combined.drop(columns=\"index\", inplace=True)\n",
    "df_combined = df_combined.replace(['W','L'], [int(1), int(0)]) # win = 1, lose = 0\n",
    "df_combined"
   ]
  },
  {
   "source": [
    "# Get games for yesterday"
   ],
   "cell_type": "markdown",
   "metadata": {}
  },
  {
   "cell_type": "code",
   "execution_count": 4,
   "metadata": {},
   "outputs": [
    {
     "output_type": "execute_result",
     "data": {
      "text/plain": [
       "'2021-05-11'"
      ]
     },
     "metadata": {},
     "execution_count": 4
    }
   ],
   "source": [
    "yesterday = datetime.datetime.now() - datetime.timedelta(hours=36)  # based on US timezone\n",
    "ytd_date = yesterday.date().strftime(\"%Y-%m-%d\")   # convert to string format\n",
    "ytd_date"
   ]
  },
  {
   "cell_type": "code",
   "execution_count": 5,
   "metadata": {},
   "outputs": [
    {
     "output_type": "execute_result",
     "data": {
      "text/plain": [
       "  SEASON_ID     TEAM_ID TEAM_ABBREVIATION               TEAM_NAME     GAME_ID  \\\n",
       "0     22020  1610612738               BOS          Boston Celtics  0022001032   \n",
       "0     22020  1610612741               CHI           Chicago Bulls  0022001036   \n",
       "0     22020  1610612742               DAL        Dallas Mavericks  0022001037   \n",
       "0     22020  1610612743               DEN          Denver Nuggets  0022000448   \n",
       "0     22020  1610612744               GSW   Golden State Warriors  0022001039   \n",
       "0     22020  1610612746               LAC             LA Clippers  0022001034   \n",
       "0     22020  1610612747               LAL      Los Angeles Lakers  0022001041   \n",
       "0     22020  1610612748               MIA              Miami Heat  0022001032   \n",
       "0     22020  1610612749               MIL         Milwaukee Bucks  0022001038   \n",
       "0     22020  1610612750               MIN  Minnesota Timberwolves  0022001033   \n",
       "0     22020  1610612751               BKN           Brooklyn Nets  0022001036   \n",
       "0     22020  1610612752               NYK         New York Knicks  0022001041   \n",
       "0     22020  1610612753               ORL           Orlando Magic  0022001038   \n",
       "0     22020  1610612754               IND          Indiana Pacers  0022001035   \n",
       "0     22020  1610612755               PHI      Philadelphia 76ers  0022001035   \n",
       "0     22020  1610612756               PHX            Phoenix Suns  0022001039   \n",
       "0     22020  1610612758               SAC        Sacramento Kings  0022001040   \n",
       "0     22020  1610612760               OKC   Oklahoma City Thunder  0022001040   \n",
       "0     22020  1610612761               TOR         Toronto Raptors  0022001034   \n",
       "0     22020  1610612763               MEM       Memphis Grizzlies  0022001037   \n",
       "0     22020  1610612765               DET         Detroit Pistons  0022001033   \n",
       "0     22020  1610612766               CHA       Charlotte Hornets  0022000448   \n",
       "\n",
       "    GAME_DATE      MATCHUP WL  MIN  PTS  ...  FT_PCT  OREB  DREB   REB  AST  \\\n",
       "0  2021-05-11  BOS vs. MIA  L  238  121  ...   0.647   3.0  29.0  32.0   31   \n",
       "0  2021-05-11  CHI vs. BKN  L  240  107  ...   0.786  10.0  35.0  45.0   21   \n",
       "0  2021-05-11    DAL @ MEM  L  240  104  ...   0.947  13.0  22.0  35.0   23   \n",
       "0  2021-05-11    DEN @ CHA  W  240  117  ...   0.846  10.0  28.0  38.0   26   \n",
       "0  2021-05-11  GSW vs. PHX  W  241  122  ...   0.850  12.0  28.0  40.0   33   \n",
       "0  2021-05-11    LAC @ TOR  W  240  115  ...   1.000   9.0  40.0  49.0   25   \n",
       "0  2021-05-11  LAL vs. NYK  W  265  101  ...   0.789  14.0  39.0  53.0   31   \n",
       "0  2021-05-11    MIA @ BOS  W  239  129  ...   0.773   6.0  37.0  43.0   25   \n",
       "0  2021-05-11  MIL vs. ORL  W  241  114  ...   0.741  17.0  46.0  63.0   16   \n",
       "0  2021-05-11    MIN @ DET  W  241  119  ...   0.714  11.0  33.0  44.0   30   \n",
       "0  2021-05-11    BKN @ CHI  W  240  115  ...   0.760  13.0  38.0  51.0   32   \n",
       "0  2021-05-11    NYK @ LAL  L  266   99  ...   0.913   5.0  36.0  41.0   19   \n",
       "0  2021-05-11    ORL @ MIL  L  240  102  ...   0.700  10.0  42.0  52.0   18   \n",
       "0  2021-05-11  IND vs. PHI  W  241  103  ...   0.938   7.0  38.0  45.0   28   \n",
       "0  2021-05-11    PHI @ IND  L  240   94  ...   0.714   5.0  30.0  35.0   23   \n",
       "0  2021-05-11    PHX @ GSW  L  241  116  ...   0.900   6.0  30.0  36.0   26   \n",
       "0  2021-05-11  SAC vs. OKC  W  240  122  ...   0.789   6.0  34.0  40.0   28   \n",
       "0  2021-05-11    OKC @ SAC  L  240  106  ...   0.679   9.0  36.0  45.0   22   \n",
       "0  2021-05-11  TOR vs. LAC  L  239   96  ...   0.842   9.0  26.0  35.0   21   \n",
       "0  2021-05-11  MEM vs. DAL  W  240  133  ...   0.938  10.0  34.0  44.0   32   \n",
       "0  2021-05-11  DET vs. MIN  L  240  100  ...   0.769   6.0  40.0  46.0   21   \n",
       "0  2021-05-11  CHA vs. DEN  L  240  112  ...   0.850  15.0  34.0  49.0   30   \n",
       "\n",
       "    STL  BLK  TOV  PF  PLUS_MINUS  \n",
       "0   8.0    5   11  21        -8.0  \n",
       "0   4.0    5    9  20        -8.0  \n",
       "0   8.0    2   12  15       -29.0  \n",
       "0  12.0    2   17  19         5.0  \n",
       "0   8.0    1    8  20         6.0  \n",
       "0  10.0    4   16  17        19.0  \n",
       "0   5.0    4   18  17         2.0  \n",
       "0   7.0    4   14  21         8.0  \n",
       "0  10.0    1    9  15        12.0  \n",
       "0  16.0    8   15  22        19.0  \n",
       "0   4.0    8    7  19         8.0  \n",
       "0   8.0    3    9  21        -2.0  \n",
       "0   6.0    2   12  20       -12.0  \n",
       "0   7.0    6   13  15         9.0  \n",
       "0   9.0    5   11  17        -9.0  \n",
       "0   4.0    6   10  20        -6.0  \n",
       "0  13.0    6   15  21        16.0  \n",
       "0   9.0    5   18  18       -16.0  \n",
       "0  10.0    8   13  22       -19.0  \n",
       "0  11.0    6   10  16        29.0  \n",
       "0   8.0    5   28  23       -19.0  \n",
       "0   9.0    5   17  17        -5.0  \n",
       "\n",
       "[22 rows x 28 columns]"
      ],
      "text/html": "<div>\n<style scoped>\n    .dataframe tbody tr th:only-of-type {\n        vertical-align: middle;\n    }\n\n    .dataframe tbody tr th {\n        vertical-align: top;\n    }\n\n    .dataframe thead th {\n        text-align: right;\n    }\n</style>\n<table border=\"1\" class=\"dataframe\">\n  <thead>\n    <tr style=\"text-align: right;\">\n      <th></th>\n      <th>SEASON_ID</th>\n      <th>TEAM_ID</th>\n      <th>TEAM_ABBREVIATION</th>\n      <th>TEAM_NAME</th>\n      <th>GAME_ID</th>\n      <th>GAME_DATE</th>\n      <th>MATCHUP</th>\n      <th>WL</th>\n      <th>MIN</th>\n      <th>PTS</th>\n      <th>...</th>\n      <th>FT_PCT</th>\n      <th>OREB</th>\n      <th>DREB</th>\n      <th>REB</th>\n      <th>AST</th>\n      <th>STL</th>\n      <th>BLK</th>\n      <th>TOV</th>\n      <th>PF</th>\n      <th>PLUS_MINUS</th>\n    </tr>\n  </thead>\n  <tbody>\n    <tr>\n      <th>0</th>\n      <td>22020</td>\n      <td>1610612738</td>\n      <td>BOS</td>\n      <td>Boston Celtics</td>\n      <td>0022001032</td>\n      <td>2021-05-11</td>\n      <td>BOS vs. MIA</td>\n      <td>L</td>\n      <td>238</td>\n      <td>121</td>\n      <td>...</td>\n      <td>0.647</td>\n      <td>3.0</td>\n      <td>29.0</td>\n      <td>32.0</td>\n      <td>31</td>\n      <td>8.0</td>\n      <td>5</td>\n      <td>11</td>\n      <td>21</td>\n      <td>-8.0</td>\n    </tr>\n    <tr>\n      <th>0</th>\n      <td>22020</td>\n      <td>1610612741</td>\n      <td>CHI</td>\n      <td>Chicago Bulls</td>\n      <td>0022001036</td>\n      <td>2021-05-11</td>\n      <td>CHI vs. BKN</td>\n      <td>L</td>\n      <td>240</td>\n      <td>107</td>\n      <td>...</td>\n      <td>0.786</td>\n      <td>10.0</td>\n      <td>35.0</td>\n      <td>45.0</td>\n      <td>21</td>\n      <td>4.0</td>\n      <td>5</td>\n      <td>9</td>\n      <td>20</td>\n      <td>-8.0</td>\n    </tr>\n    <tr>\n      <th>0</th>\n      <td>22020</td>\n      <td>1610612742</td>\n      <td>DAL</td>\n      <td>Dallas Mavericks</td>\n      <td>0022001037</td>\n      <td>2021-05-11</td>\n      <td>DAL @ MEM</td>\n      <td>L</td>\n      <td>240</td>\n      <td>104</td>\n      <td>...</td>\n      <td>0.947</td>\n      <td>13.0</td>\n      <td>22.0</td>\n      <td>35.0</td>\n      <td>23</td>\n      <td>8.0</td>\n      <td>2</td>\n      <td>12</td>\n      <td>15</td>\n      <td>-29.0</td>\n    </tr>\n    <tr>\n      <th>0</th>\n      <td>22020</td>\n      <td>1610612743</td>\n      <td>DEN</td>\n      <td>Denver Nuggets</td>\n      <td>0022000448</td>\n      <td>2021-05-11</td>\n      <td>DEN @ CHA</td>\n      <td>W</td>\n      <td>240</td>\n      <td>117</td>\n      <td>...</td>\n      <td>0.846</td>\n      <td>10.0</td>\n      <td>28.0</td>\n      <td>38.0</td>\n      <td>26</td>\n      <td>12.0</td>\n      <td>2</td>\n      <td>17</td>\n      <td>19</td>\n      <td>5.0</td>\n    </tr>\n    <tr>\n      <th>0</th>\n      <td>22020</td>\n      <td>1610612744</td>\n      <td>GSW</td>\n      <td>Golden State Warriors</td>\n      <td>0022001039</td>\n      <td>2021-05-11</td>\n      <td>GSW vs. PHX</td>\n      <td>W</td>\n      <td>241</td>\n      <td>122</td>\n      <td>...</td>\n      <td>0.850</td>\n      <td>12.0</td>\n      <td>28.0</td>\n      <td>40.0</td>\n      <td>33</td>\n      <td>8.0</td>\n      <td>1</td>\n      <td>8</td>\n      <td>20</td>\n      <td>6.0</td>\n    </tr>\n    <tr>\n      <th>0</th>\n      <td>22020</td>\n      <td>1610612746</td>\n      <td>LAC</td>\n      <td>LA Clippers</td>\n      <td>0022001034</td>\n      <td>2021-05-11</td>\n      <td>LAC @ TOR</td>\n      <td>W</td>\n      <td>240</td>\n      <td>115</td>\n      <td>...</td>\n      <td>1.000</td>\n      <td>9.0</td>\n      <td>40.0</td>\n      <td>49.0</td>\n      <td>25</td>\n      <td>10.0</td>\n      <td>4</td>\n      <td>16</td>\n      <td>17</td>\n      <td>19.0</td>\n    </tr>\n    <tr>\n      <th>0</th>\n      <td>22020</td>\n      <td>1610612747</td>\n      <td>LAL</td>\n      <td>Los Angeles Lakers</td>\n      <td>0022001041</td>\n      <td>2021-05-11</td>\n      <td>LAL vs. NYK</td>\n      <td>W</td>\n      <td>265</td>\n      <td>101</td>\n      <td>...</td>\n      <td>0.789</td>\n      <td>14.0</td>\n      <td>39.0</td>\n      <td>53.0</td>\n      <td>31</td>\n      <td>5.0</td>\n      <td>4</td>\n      <td>18</td>\n      <td>17</td>\n      <td>2.0</td>\n    </tr>\n    <tr>\n      <th>0</th>\n      <td>22020</td>\n      <td>1610612748</td>\n      <td>MIA</td>\n      <td>Miami Heat</td>\n      <td>0022001032</td>\n      <td>2021-05-11</td>\n      <td>MIA @ BOS</td>\n      <td>W</td>\n      <td>239</td>\n      <td>129</td>\n      <td>...</td>\n      <td>0.773</td>\n      <td>6.0</td>\n      <td>37.0</td>\n      <td>43.0</td>\n      <td>25</td>\n      <td>7.0</td>\n      <td>4</td>\n      <td>14</td>\n      <td>21</td>\n      <td>8.0</td>\n    </tr>\n    <tr>\n      <th>0</th>\n      <td>22020</td>\n      <td>1610612749</td>\n      <td>MIL</td>\n      <td>Milwaukee Bucks</td>\n      <td>0022001038</td>\n      <td>2021-05-11</td>\n      <td>MIL vs. ORL</td>\n      <td>W</td>\n      <td>241</td>\n      <td>114</td>\n      <td>...</td>\n      <td>0.741</td>\n      <td>17.0</td>\n      <td>46.0</td>\n      <td>63.0</td>\n      <td>16</td>\n      <td>10.0</td>\n      <td>1</td>\n      <td>9</td>\n      <td>15</td>\n      <td>12.0</td>\n    </tr>\n    <tr>\n      <th>0</th>\n      <td>22020</td>\n      <td>1610612750</td>\n      <td>MIN</td>\n      <td>Minnesota Timberwolves</td>\n      <td>0022001033</td>\n      <td>2021-05-11</td>\n      <td>MIN @ DET</td>\n      <td>W</td>\n      <td>241</td>\n      <td>119</td>\n      <td>...</td>\n      <td>0.714</td>\n      <td>11.0</td>\n      <td>33.0</td>\n      <td>44.0</td>\n      <td>30</td>\n      <td>16.0</td>\n      <td>8</td>\n      <td>15</td>\n      <td>22</td>\n      <td>19.0</td>\n    </tr>\n    <tr>\n      <th>0</th>\n      <td>22020</td>\n      <td>1610612751</td>\n      <td>BKN</td>\n      <td>Brooklyn Nets</td>\n      <td>0022001036</td>\n      <td>2021-05-11</td>\n      <td>BKN @ CHI</td>\n      <td>W</td>\n      <td>240</td>\n      <td>115</td>\n      <td>...</td>\n      <td>0.760</td>\n      <td>13.0</td>\n      <td>38.0</td>\n      <td>51.0</td>\n      <td>32</td>\n      <td>4.0</td>\n      <td>8</td>\n      <td>7</td>\n      <td>19</td>\n      <td>8.0</td>\n    </tr>\n    <tr>\n      <th>0</th>\n      <td>22020</td>\n      <td>1610612752</td>\n      <td>NYK</td>\n      <td>New York Knicks</td>\n      <td>0022001041</td>\n      <td>2021-05-11</td>\n      <td>NYK @ LAL</td>\n      <td>L</td>\n      <td>266</td>\n      <td>99</td>\n      <td>...</td>\n      <td>0.913</td>\n      <td>5.0</td>\n      <td>36.0</td>\n      <td>41.0</td>\n      <td>19</td>\n      <td>8.0</td>\n      <td>3</td>\n      <td>9</td>\n      <td>21</td>\n      <td>-2.0</td>\n    </tr>\n    <tr>\n      <th>0</th>\n      <td>22020</td>\n      <td>1610612753</td>\n      <td>ORL</td>\n      <td>Orlando Magic</td>\n      <td>0022001038</td>\n      <td>2021-05-11</td>\n      <td>ORL @ MIL</td>\n      <td>L</td>\n      <td>240</td>\n      <td>102</td>\n      <td>...</td>\n      <td>0.700</td>\n      <td>10.0</td>\n      <td>42.0</td>\n      <td>52.0</td>\n      <td>18</td>\n      <td>6.0</td>\n      <td>2</td>\n      <td>12</td>\n      <td>20</td>\n      <td>-12.0</td>\n    </tr>\n    <tr>\n      <th>0</th>\n      <td>22020</td>\n      <td>1610612754</td>\n      <td>IND</td>\n      <td>Indiana Pacers</td>\n      <td>0022001035</td>\n      <td>2021-05-11</td>\n      <td>IND vs. PHI</td>\n      <td>W</td>\n      <td>241</td>\n      <td>103</td>\n      <td>...</td>\n      <td>0.938</td>\n      <td>7.0</td>\n      <td>38.0</td>\n      <td>45.0</td>\n      <td>28</td>\n      <td>7.0</td>\n      <td>6</td>\n      <td>13</td>\n      <td>15</td>\n      <td>9.0</td>\n    </tr>\n    <tr>\n      <th>0</th>\n      <td>22020</td>\n      <td>1610612755</td>\n      <td>PHI</td>\n      <td>Philadelphia 76ers</td>\n      <td>0022001035</td>\n      <td>2021-05-11</td>\n      <td>PHI @ IND</td>\n      <td>L</td>\n      <td>240</td>\n      <td>94</td>\n      <td>...</td>\n      <td>0.714</td>\n      <td>5.0</td>\n      <td>30.0</td>\n      <td>35.0</td>\n      <td>23</td>\n      <td>9.0</td>\n      <td>5</td>\n      <td>11</td>\n      <td>17</td>\n      <td>-9.0</td>\n    </tr>\n    <tr>\n      <th>0</th>\n      <td>22020</td>\n      <td>1610612756</td>\n      <td>PHX</td>\n      <td>Phoenix Suns</td>\n      <td>0022001039</td>\n      <td>2021-05-11</td>\n      <td>PHX @ GSW</td>\n      <td>L</td>\n      <td>241</td>\n      <td>116</td>\n      <td>...</td>\n      <td>0.900</td>\n      <td>6.0</td>\n      <td>30.0</td>\n      <td>36.0</td>\n      <td>26</td>\n      <td>4.0</td>\n      <td>6</td>\n      <td>10</td>\n      <td>20</td>\n      <td>-6.0</td>\n    </tr>\n    <tr>\n      <th>0</th>\n      <td>22020</td>\n      <td>1610612758</td>\n      <td>SAC</td>\n      <td>Sacramento Kings</td>\n      <td>0022001040</td>\n      <td>2021-05-11</td>\n      <td>SAC vs. OKC</td>\n      <td>W</td>\n      <td>240</td>\n      <td>122</td>\n      <td>...</td>\n      <td>0.789</td>\n      <td>6.0</td>\n      <td>34.0</td>\n      <td>40.0</td>\n      <td>28</td>\n      <td>13.0</td>\n      <td>6</td>\n      <td>15</td>\n      <td>21</td>\n      <td>16.0</td>\n    </tr>\n    <tr>\n      <th>0</th>\n      <td>22020</td>\n      <td>1610612760</td>\n      <td>OKC</td>\n      <td>Oklahoma City Thunder</td>\n      <td>0022001040</td>\n      <td>2021-05-11</td>\n      <td>OKC @ SAC</td>\n      <td>L</td>\n      <td>240</td>\n      <td>106</td>\n      <td>...</td>\n      <td>0.679</td>\n      <td>9.0</td>\n      <td>36.0</td>\n      <td>45.0</td>\n      <td>22</td>\n      <td>9.0</td>\n      <td>5</td>\n      <td>18</td>\n      <td>18</td>\n      <td>-16.0</td>\n    </tr>\n    <tr>\n      <th>0</th>\n      <td>22020</td>\n      <td>1610612761</td>\n      <td>TOR</td>\n      <td>Toronto Raptors</td>\n      <td>0022001034</td>\n      <td>2021-05-11</td>\n      <td>TOR vs. LAC</td>\n      <td>L</td>\n      <td>239</td>\n      <td>96</td>\n      <td>...</td>\n      <td>0.842</td>\n      <td>9.0</td>\n      <td>26.0</td>\n      <td>35.0</td>\n      <td>21</td>\n      <td>10.0</td>\n      <td>8</td>\n      <td>13</td>\n      <td>22</td>\n      <td>-19.0</td>\n    </tr>\n    <tr>\n      <th>0</th>\n      <td>22020</td>\n      <td>1610612763</td>\n      <td>MEM</td>\n      <td>Memphis Grizzlies</td>\n      <td>0022001037</td>\n      <td>2021-05-11</td>\n      <td>MEM vs. DAL</td>\n      <td>W</td>\n      <td>240</td>\n      <td>133</td>\n      <td>...</td>\n      <td>0.938</td>\n      <td>10.0</td>\n      <td>34.0</td>\n      <td>44.0</td>\n      <td>32</td>\n      <td>11.0</td>\n      <td>6</td>\n      <td>10</td>\n      <td>16</td>\n      <td>29.0</td>\n    </tr>\n    <tr>\n      <th>0</th>\n      <td>22020</td>\n      <td>1610612765</td>\n      <td>DET</td>\n      <td>Detroit Pistons</td>\n      <td>0022001033</td>\n      <td>2021-05-11</td>\n      <td>DET vs. MIN</td>\n      <td>L</td>\n      <td>240</td>\n      <td>100</td>\n      <td>...</td>\n      <td>0.769</td>\n      <td>6.0</td>\n      <td>40.0</td>\n      <td>46.0</td>\n      <td>21</td>\n      <td>8.0</td>\n      <td>5</td>\n      <td>28</td>\n      <td>23</td>\n      <td>-19.0</td>\n    </tr>\n    <tr>\n      <th>0</th>\n      <td>22020</td>\n      <td>1610612766</td>\n      <td>CHA</td>\n      <td>Charlotte Hornets</td>\n      <td>0022000448</td>\n      <td>2021-05-11</td>\n      <td>CHA vs. DEN</td>\n      <td>L</td>\n      <td>240</td>\n      <td>112</td>\n      <td>...</td>\n      <td>0.850</td>\n      <td>15.0</td>\n      <td>34.0</td>\n      <td>49.0</td>\n      <td>30</td>\n      <td>9.0</td>\n      <td>5</td>\n      <td>17</td>\n      <td>17</td>\n      <td>-5.0</td>\n    </tr>\n  </tbody>\n</table>\n<p>22 rows × 28 columns</p>\n</div>"
     },
     "metadata": {},
     "execution_count": 5
    }
   ],
   "source": [
    "df = pd.DataFrame()\n",
    "for team_id in team_ids:\n",
    "    gamefinder = leaguegamefinder.LeagueGameFinder(team_id_nullable=team_id)\n",
    "    games = gamefinder.get_data_frames()[0]\n",
    "    games = games[games['GAME_DATE'] == ytd_date]\n",
    "    df = df.append(games)\n",
    "\n",
    "df"
   ]
  },
  {
   "cell_type": "code",
   "execution_count": 6,
   "metadata": {},
   "outputs": [
    {
     "output_type": "execute_result",
     "data": {
      "text/plain": [
       "  SEASON_ID     TEAM_ID TEAM_ABBREVIATION               TEAM_NAME     GAME_ID  \\\n",
       "0     22020  1610612751               BKN           Brooklyn Nets  0022001036   \n",
       "0     22020  1610612742               DAL        Dallas Mavericks  0022001037   \n",
       "0     22020  1610612743               DEN          Denver Nuggets  0022000448   \n",
       "0     22020  1610612746               LAC             LA Clippers  0022001034   \n",
       "0     22020  1610612760               OKC   Oklahoma City Thunder  0022001040   \n",
       "0     22020  1610612748               MIA              Miami Heat  0022001032   \n",
       "0     22020  1610612750               MIN  Minnesota Timberwolves  0022001033   \n",
       "0     22020  1610612756               PHX            Phoenix Suns  0022001039   \n",
       "0     22020  1610612752               NYK         New York Knicks  0022001041   \n",
       "0     22020  1610612753               ORL           Orlando Magic  0022001038   \n",
       "0     22020  1610612755               PHI      Philadelphia 76ers  0022001035   \n",
       "0     22020  1610612763               MEM       Memphis Grizzlies  0022001037   \n",
       "0     22020  1610612761               TOR         Toronto Raptors  0022001034   \n",
       "0     22020  1610612758               SAC        Sacramento Kings  0022001040   \n",
       "0     22020  1610612738               BOS          Boston Celtics  0022001032   \n",
       "0     22020  1610612765               DET         Detroit Pistons  0022001033   \n",
       "0     22020  1610612749               MIL         Milwaukee Bucks  0022001038   \n",
       "0     22020  1610612747               LAL      Los Angeles Lakers  0022001041   \n",
       "0     22020  1610612744               GSW   Golden State Warriors  0022001039   \n",
       "0     22020  1610612741               CHI           Chicago Bulls  0022001036   \n",
       "0     22020  1610612754               IND          Indiana Pacers  0022001035   \n",
       "0     22020  1610612766               CHA       Charlotte Hornets  0022000448   \n",
       "\n",
       "    GAME_DATE      MATCHUP WL  MIN  PTS  ...  FT_PCT  OREB  DREB   REB  AST  \\\n",
       "0  2021-05-11    BKN @ CHI  W  240  115  ...   0.760  13.0  38.0  51.0   32   \n",
       "0  2021-05-11    DAL @ MEM  L  240  104  ...   0.947  13.0  22.0  35.0   23   \n",
       "0  2021-05-11    DEN @ CHA  W  240  117  ...   0.846  10.0  28.0  38.0   26   \n",
       "0  2021-05-11    LAC @ TOR  W  240  115  ...   1.000   9.0  40.0  49.0   25   \n",
       "0  2021-05-11    OKC @ SAC  L  240  106  ...   0.679   9.0  36.0  45.0   22   \n",
       "0  2021-05-11    MIA @ BOS  W  239  129  ...   0.773   6.0  37.0  43.0   25   \n",
       "0  2021-05-11    MIN @ DET  W  241  119  ...   0.714  11.0  33.0  44.0   30   \n",
       "0  2021-05-11    PHX @ GSW  L  241  116  ...   0.900   6.0  30.0  36.0   26   \n",
       "0  2021-05-11    NYK @ LAL  L  266   99  ...   0.913   5.0  36.0  41.0   19   \n",
       "0  2021-05-11    ORL @ MIL  L  240  102  ...   0.700  10.0  42.0  52.0   18   \n",
       "0  2021-05-11    PHI @ IND  L  240   94  ...   0.714   5.0  30.0  35.0   23   \n",
       "0  2021-05-11  MEM vs. DAL  W  240  133  ...   0.938  10.0  34.0  44.0   32   \n",
       "0  2021-05-11  TOR vs. LAC  L  239   96  ...   0.842   9.0  26.0  35.0   21   \n",
       "0  2021-05-11  SAC vs. OKC  W  240  122  ...   0.789   6.0  34.0  40.0   28   \n",
       "0  2021-05-11  BOS vs. MIA  L  238  121  ...   0.647   3.0  29.0  32.0   31   \n",
       "0  2021-05-11  DET vs. MIN  L  240  100  ...   0.769   6.0  40.0  46.0   21   \n",
       "0  2021-05-11  MIL vs. ORL  W  241  114  ...   0.741  17.0  46.0  63.0   16   \n",
       "0  2021-05-11  LAL vs. NYK  W  265  101  ...   0.789  14.0  39.0  53.0   31   \n",
       "0  2021-05-11  GSW vs. PHX  W  241  122  ...   0.850  12.0  28.0  40.0   33   \n",
       "0  2021-05-11  CHI vs. BKN  L  240  107  ...   0.786  10.0  35.0  45.0   21   \n",
       "0  2021-05-11  IND vs. PHI  W  241  103  ...   0.938   7.0  38.0  45.0   28   \n",
       "0  2021-05-11  CHA vs. DEN  L  240  112  ...   0.850  15.0  34.0  49.0   30   \n",
       "\n",
       "    STL  BLK  TOV  PF  PLUS_MINUS  \n",
       "0   4.0    8    7  19         8.0  \n",
       "0   8.0    2   12  15       -29.0  \n",
       "0  12.0    2   17  19         5.0  \n",
       "0  10.0    4   16  17        19.0  \n",
       "0   9.0    5   18  18       -16.0  \n",
       "0   7.0    4   14  21         8.0  \n",
       "0  16.0    8   15  22        19.0  \n",
       "0   4.0    6   10  20        -6.0  \n",
       "0   8.0    3    9  21        -2.0  \n",
       "0   6.0    2   12  20       -12.0  \n",
       "0   9.0    5   11  17        -9.0  \n",
       "0  11.0    6   10  16        29.0  \n",
       "0  10.0    8   13  22       -19.0  \n",
       "0  13.0    6   15  21        16.0  \n",
       "0   8.0    5   11  21        -8.0  \n",
       "0   8.0    5   28  23       -19.0  \n",
       "0  10.0    1    9  15        12.0  \n",
       "0   5.0    4   18  17         2.0  \n",
       "0   8.0    1    8  20         6.0  \n",
       "0   4.0    5    9  20        -8.0  \n",
       "0   7.0    6   13  15         9.0  \n",
       "0   9.0    5   17  17        -5.0  \n",
       "\n",
       "[22 rows x 28 columns]"
      ],
      "text/html": "<div>\n<style scoped>\n    .dataframe tbody tr th:only-of-type {\n        vertical-align: middle;\n    }\n\n    .dataframe tbody tr th {\n        vertical-align: top;\n    }\n\n    .dataframe thead th {\n        text-align: right;\n    }\n</style>\n<table border=\"1\" class=\"dataframe\">\n  <thead>\n    <tr style=\"text-align: right;\">\n      <th></th>\n      <th>SEASON_ID</th>\n      <th>TEAM_ID</th>\n      <th>TEAM_ABBREVIATION</th>\n      <th>TEAM_NAME</th>\n      <th>GAME_ID</th>\n      <th>GAME_DATE</th>\n      <th>MATCHUP</th>\n      <th>WL</th>\n      <th>MIN</th>\n      <th>PTS</th>\n      <th>...</th>\n      <th>FT_PCT</th>\n      <th>OREB</th>\n      <th>DREB</th>\n      <th>REB</th>\n      <th>AST</th>\n      <th>STL</th>\n      <th>BLK</th>\n      <th>TOV</th>\n      <th>PF</th>\n      <th>PLUS_MINUS</th>\n    </tr>\n  </thead>\n  <tbody>\n    <tr>\n      <th>0</th>\n      <td>22020</td>\n      <td>1610612751</td>\n      <td>BKN</td>\n      <td>Brooklyn Nets</td>\n      <td>0022001036</td>\n      <td>2021-05-11</td>\n      <td>BKN @ CHI</td>\n      <td>W</td>\n      <td>240</td>\n      <td>115</td>\n      <td>...</td>\n      <td>0.760</td>\n      <td>13.0</td>\n      <td>38.0</td>\n      <td>51.0</td>\n      <td>32</td>\n      <td>4.0</td>\n      <td>8</td>\n      <td>7</td>\n      <td>19</td>\n      <td>8.0</td>\n    </tr>\n    <tr>\n      <th>0</th>\n      <td>22020</td>\n      <td>1610612742</td>\n      <td>DAL</td>\n      <td>Dallas Mavericks</td>\n      <td>0022001037</td>\n      <td>2021-05-11</td>\n      <td>DAL @ MEM</td>\n      <td>L</td>\n      <td>240</td>\n      <td>104</td>\n      <td>...</td>\n      <td>0.947</td>\n      <td>13.0</td>\n      <td>22.0</td>\n      <td>35.0</td>\n      <td>23</td>\n      <td>8.0</td>\n      <td>2</td>\n      <td>12</td>\n      <td>15</td>\n      <td>-29.0</td>\n    </tr>\n    <tr>\n      <th>0</th>\n      <td>22020</td>\n      <td>1610612743</td>\n      <td>DEN</td>\n      <td>Denver Nuggets</td>\n      <td>0022000448</td>\n      <td>2021-05-11</td>\n      <td>DEN @ CHA</td>\n      <td>W</td>\n      <td>240</td>\n      <td>117</td>\n      <td>...</td>\n      <td>0.846</td>\n      <td>10.0</td>\n      <td>28.0</td>\n      <td>38.0</td>\n      <td>26</td>\n      <td>12.0</td>\n      <td>2</td>\n      <td>17</td>\n      <td>19</td>\n      <td>5.0</td>\n    </tr>\n    <tr>\n      <th>0</th>\n      <td>22020</td>\n      <td>1610612746</td>\n      <td>LAC</td>\n      <td>LA Clippers</td>\n      <td>0022001034</td>\n      <td>2021-05-11</td>\n      <td>LAC @ TOR</td>\n      <td>W</td>\n      <td>240</td>\n      <td>115</td>\n      <td>...</td>\n      <td>1.000</td>\n      <td>9.0</td>\n      <td>40.0</td>\n      <td>49.0</td>\n      <td>25</td>\n      <td>10.0</td>\n      <td>4</td>\n      <td>16</td>\n      <td>17</td>\n      <td>19.0</td>\n    </tr>\n    <tr>\n      <th>0</th>\n      <td>22020</td>\n      <td>1610612760</td>\n      <td>OKC</td>\n      <td>Oklahoma City Thunder</td>\n      <td>0022001040</td>\n      <td>2021-05-11</td>\n      <td>OKC @ SAC</td>\n      <td>L</td>\n      <td>240</td>\n      <td>106</td>\n      <td>...</td>\n      <td>0.679</td>\n      <td>9.0</td>\n      <td>36.0</td>\n      <td>45.0</td>\n      <td>22</td>\n      <td>9.0</td>\n      <td>5</td>\n      <td>18</td>\n      <td>18</td>\n      <td>-16.0</td>\n    </tr>\n    <tr>\n      <th>0</th>\n      <td>22020</td>\n      <td>1610612748</td>\n      <td>MIA</td>\n      <td>Miami Heat</td>\n      <td>0022001032</td>\n      <td>2021-05-11</td>\n      <td>MIA @ BOS</td>\n      <td>W</td>\n      <td>239</td>\n      <td>129</td>\n      <td>...</td>\n      <td>0.773</td>\n      <td>6.0</td>\n      <td>37.0</td>\n      <td>43.0</td>\n      <td>25</td>\n      <td>7.0</td>\n      <td>4</td>\n      <td>14</td>\n      <td>21</td>\n      <td>8.0</td>\n    </tr>\n    <tr>\n      <th>0</th>\n      <td>22020</td>\n      <td>1610612750</td>\n      <td>MIN</td>\n      <td>Minnesota Timberwolves</td>\n      <td>0022001033</td>\n      <td>2021-05-11</td>\n      <td>MIN @ DET</td>\n      <td>W</td>\n      <td>241</td>\n      <td>119</td>\n      <td>...</td>\n      <td>0.714</td>\n      <td>11.0</td>\n      <td>33.0</td>\n      <td>44.0</td>\n      <td>30</td>\n      <td>16.0</td>\n      <td>8</td>\n      <td>15</td>\n      <td>22</td>\n      <td>19.0</td>\n    </tr>\n    <tr>\n      <th>0</th>\n      <td>22020</td>\n      <td>1610612756</td>\n      <td>PHX</td>\n      <td>Phoenix Suns</td>\n      <td>0022001039</td>\n      <td>2021-05-11</td>\n      <td>PHX @ GSW</td>\n      <td>L</td>\n      <td>241</td>\n      <td>116</td>\n      <td>...</td>\n      <td>0.900</td>\n      <td>6.0</td>\n      <td>30.0</td>\n      <td>36.0</td>\n      <td>26</td>\n      <td>4.0</td>\n      <td>6</td>\n      <td>10</td>\n      <td>20</td>\n      <td>-6.0</td>\n    </tr>\n    <tr>\n      <th>0</th>\n      <td>22020</td>\n      <td>1610612752</td>\n      <td>NYK</td>\n      <td>New York Knicks</td>\n      <td>0022001041</td>\n      <td>2021-05-11</td>\n      <td>NYK @ LAL</td>\n      <td>L</td>\n      <td>266</td>\n      <td>99</td>\n      <td>...</td>\n      <td>0.913</td>\n      <td>5.0</td>\n      <td>36.0</td>\n      <td>41.0</td>\n      <td>19</td>\n      <td>8.0</td>\n      <td>3</td>\n      <td>9</td>\n      <td>21</td>\n      <td>-2.0</td>\n    </tr>\n    <tr>\n      <th>0</th>\n      <td>22020</td>\n      <td>1610612753</td>\n      <td>ORL</td>\n      <td>Orlando Magic</td>\n      <td>0022001038</td>\n      <td>2021-05-11</td>\n      <td>ORL @ MIL</td>\n      <td>L</td>\n      <td>240</td>\n      <td>102</td>\n      <td>...</td>\n      <td>0.700</td>\n      <td>10.0</td>\n      <td>42.0</td>\n      <td>52.0</td>\n      <td>18</td>\n      <td>6.0</td>\n      <td>2</td>\n      <td>12</td>\n      <td>20</td>\n      <td>-12.0</td>\n    </tr>\n    <tr>\n      <th>0</th>\n      <td>22020</td>\n      <td>1610612755</td>\n      <td>PHI</td>\n      <td>Philadelphia 76ers</td>\n      <td>0022001035</td>\n      <td>2021-05-11</td>\n      <td>PHI @ IND</td>\n      <td>L</td>\n      <td>240</td>\n      <td>94</td>\n      <td>...</td>\n      <td>0.714</td>\n      <td>5.0</td>\n      <td>30.0</td>\n      <td>35.0</td>\n      <td>23</td>\n      <td>9.0</td>\n      <td>5</td>\n      <td>11</td>\n      <td>17</td>\n      <td>-9.0</td>\n    </tr>\n    <tr>\n      <th>0</th>\n      <td>22020</td>\n      <td>1610612763</td>\n      <td>MEM</td>\n      <td>Memphis Grizzlies</td>\n      <td>0022001037</td>\n      <td>2021-05-11</td>\n      <td>MEM vs. DAL</td>\n      <td>W</td>\n      <td>240</td>\n      <td>133</td>\n      <td>...</td>\n      <td>0.938</td>\n      <td>10.0</td>\n      <td>34.0</td>\n      <td>44.0</td>\n      <td>32</td>\n      <td>11.0</td>\n      <td>6</td>\n      <td>10</td>\n      <td>16</td>\n      <td>29.0</td>\n    </tr>\n    <tr>\n      <th>0</th>\n      <td>22020</td>\n      <td>1610612761</td>\n      <td>TOR</td>\n      <td>Toronto Raptors</td>\n      <td>0022001034</td>\n      <td>2021-05-11</td>\n      <td>TOR vs. LAC</td>\n      <td>L</td>\n      <td>239</td>\n      <td>96</td>\n      <td>...</td>\n      <td>0.842</td>\n      <td>9.0</td>\n      <td>26.0</td>\n      <td>35.0</td>\n      <td>21</td>\n      <td>10.0</td>\n      <td>8</td>\n      <td>13</td>\n      <td>22</td>\n      <td>-19.0</td>\n    </tr>\n    <tr>\n      <th>0</th>\n      <td>22020</td>\n      <td>1610612758</td>\n      <td>SAC</td>\n      <td>Sacramento Kings</td>\n      <td>0022001040</td>\n      <td>2021-05-11</td>\n      <td>SAC vs. OKC</td>\n      <td>W</td>\n      <td>240</td>\n      <td>122</td>\n      <td>...</td>\n      <td>0.789</td>\n      <td>6.0</td>\n      <td>34.0</td>\n      <td>40.0</td>\n      <td>28</td>\n      <td>13.0</td>\n      <td>6</td>\n      <td>15</td>\n      <td>21</td>\n      <td>16.0</td>\n    </tr>\n    <tr>\n      <th>0</th>\n      <td>22020</td>\n      <td>1610612738</td>\n      <td>BOS</td>\n      <td>Boston Celtics</td>\n      <td>0022001032</td>\n      <td>2021-05-11</td>\n      <td>BOS vs. MIA</td>\n      <td>L</td>\n      <td>238</td>\n      <td>121</td>\n      <td>...</td>\n      <td>0.647</td>\n      <td>3.0</td>\n      <td>29.0</td>\n      <td>32.0</td>\n      <td>31</td>\n      <td>8.0</td>\n      <td>5</td>\n      <td>11</td>\n      <td>21</td>\n      <td>-8.0</td>\n    </tr>\n    <tr>\n      <th>0</th>\n      <td>22020</td>\n      <td>1610612765</td>\n      <td>DET</td>\n      <td>Detroit Pistons</td>\n      <td>0022001033</td>\n      <td>2021-05-11</td>\n      <td>DET vs. MIN</td>\n      <td>L</td>\n      <td>240</td>\n      <td>100</td>\n      <td>...</td>\n      <td>0.769</td>\n      <td>6.0</td>\n      <td>40.0</td>\n      <td>46.0</td>\n      <td>21</td>\n      <td>8.0</td>\n      <td>5</td>\n      <td>28</td>\n      <td>23</td>\n      <td>-19.0</td>\n    </tr>\n    <tr>\n      <th>0</th>\n      <td>22020</td>\n      <td>1610612749</td>\n      <td>MIL</td>\n      <td>Milwaukee Bucks</td>\n      <td>0022001038</td>\n      <td>2021-05-11</td>\n      <td>MIL vs. ORL</td>\n      <td>W</td>\n      <td>241</td>\n      <td>114</td>\n      <td>...</td>\n      <td>0.741</td>\n      <td>17.0</td>\n      <td>46.0</td>\n      <td>63.0</td>\n      <td>16</td>\n      <td>10.0</td>\n      <td>1</td>\n      <td>9</td>\n      <td>15</td>\n      <td>12.0</td>\n    </tr>\n    <tr>\n      <th>0</th>\n      <td>22020</td>\n      <td>1610612747</td>\n      <td>LAL</td>\n      <td>Los Angeles Lakers</td>\n      <td>0022001041</td>\n      <td>2021-05-11</td>\n      <td>LAL vs. NYK</td>\n      <td>W</td>\n      <td>265</td>\n      <td>101</td>\n      <td>...</td>\n      <td>0.789</td>\n      <td>14.0</td>\n      <td>39.0</td>\n      <td>53.0</td>\n      <td>31</td>\n      <td>5.0</td>\n      <td>4</td>\n      <td>18</td>\n      <td>17</td>\n      <td>2.0</td>\n    </tr>\n    <tr>\n      <th>0</th>\n      <td>22020</td>\n      <td>1610612744</td>\n      <td>GSW</td>\n      <td>Golden State Warriors</td>\n      <td>0022001039</td>\n      <td>2021-05-11</td>\n      <td>GSW vs. PHX</td>\n      <td>W</td>\n      <td>241</td>\n      <td>122</td>\n      <td>...</td>\n      <td>0.850</td>\n      <td>12.0</td>\n      <td>28.0</td>\n      <td>40.0</td>\n      <td>33</td>\n      <td>8.0</td>\n      <td>1</td>\n      <td>8</td>\n      <td>20</td>\n      <td>6.0</td>\n    </tr>\n    <tr>\n      <th>0</th>\n      <td>22020</td>\n      <td>1610612741</td>\n      <td>CHI</td>\n      <td>Chicago Bulls</td>\n      <td>0022001036</td>\n      <td>2021-05-11</td>\n      <td>CHI vs. BKN</td>\n      <td>L</td>\n      <td>240</td>\n      <td>107</td>\n      <td>...</td>\n      <td>0.786</td>\n      <td>10.0</td>\n      <td>35.0</td>\n      <td>45.0</td>\n      <td>21</td>\n      <td>4.0</td>\n      <td>5</td>\n      <td>9</td>\n      <td>20</td>\n      <td>-8.0</td>\n    </tr>\n    <tr>\n      <th>0</th>\n      <td>22020</td>\n      <td>1610612754</td>\n      <td>IND</td>\n      <td>Indiana Pacers</td>\n      <td>0022001035</td>\n      <td>2021-05-11</td>\n      <td>IND vs. PHI</td>\n      <td>W</td>\n      <td>241</td>\n      <td>103</td>\n      <td>...</td>\n      <td>0.938</td>\n      <td>7.0</td>\n      <td>38.0</td>\n      <td>45.0</td>\n      <td>28</td>\n      <td>7.0</td>\n      <td>6</td>\n      <td>13</td>\n      <td>15</td>\n      <td>9.0</td>\n    </tr>\n    <tr>\n      <th>0</th>\n      <td>22020</td>\n      <td>1610612766</td>\n      <td>CHA</td>\n      <td>Charlotte Hornets</td>\n      <td>0022000448</td>\n      <td>2021-05-11</td>\n      <td>CHA vs. DEN</td>\n      <td>L</td>\n      <td>240</td>\n      <td>112</td>\n      <td>...</td>\n      <td>0.850</td>\n      <td>15.0</td>\n      <td>34.0</td>\n      <td>49.0</td>\n      <td>30</td>\n      <td>9.0</td>\n      <td>5</td>\n      <td>17</td>\n      <td>17</td>\n      <td>-5.0</td>\n    </tr>\n  </tbody>\n</table>\n<p>22 rows × 28 columns</p>\n</div>"
     },
     "metadata": {},
     "execution_count": 6
    }
   ],
   "source": [
    "df['length'] = df['MATCHUP'].str.len()\n",
    "df.sort_values('length', inplace=True)\n",
    "df.drop(columns=['length'], inplace=True)\n",
    "df"
   ]
  },
  {
   "cell_type": "code",
   "execution_count": 7,
   "metadata": {},
   "outputs": [
    {
     "output_type": "execute_result",
     "data": {
      "text/plain": [
       "   TEAM_ABBREVIATION_x            TEAM_NAME_x     GAME_ID GAME_DATE_x WL_x  \\\n",
       "0                  CHI          Chicago Bulls  0022001036  2021-05-11    L   \n",
       "1                  MEM      Memphis Grizzlies  0022001037  2021-05-11    W   \n",
       "2                  CHA      Charlotte Hornets  0022000448  2021-05-11    L   \n",
       "3                  TOR        Toronto Raptors  0022001034  2021-05-11    L   \n",
       "4                  SAC       Sacramento Kings  0022001040  2021-05-11    W   \n",
       "5                  BOS         Boston Celtics  0022001032  2021-05-11    L   \n",
       "6                  DET        Detroit Pistons  0022001033  2021-05-11    L   \n",
       "7                  GSW  Golden State Warriors  0022001039  2021-05-11    W   \n",
       "8                  LAL     Los Angeles Lakers  0022001041  2021-05-11    W   \n",
       "9                  MIL        Milwaukee Bucks  0022001038  2021-05-11    W   \n",
       "10                 IND         Indiana Pacers  0022001035  2021-05-11    W   \n",
       "\n",
       "    MIN_x  PTS_x  FGM_x  FGA_x  FG_PCT_x  ...  FT_PCT_y  OREB_y  DREB_y  \\\n",
       "0     240    107     39     96     0.406  ...     0.760    13.0    38.0   \n",
       "1     240    133     51     89     0.573  ...     0.947    13.0    22.0   \n",
       "2     240    112     42     91     0.462  ...     0.846    10.0    28.0   \n",
       "3     239     96     35     86     0.407  ...     1.000     9.0    40.0   \n",
       "4     240    122     44     86     0.512  ...     0.679     9.0    36.0   \n",
       "5     238    121     46     88     0.523  ...     0.773     6.0    37.0   \n",
       "6     240    100     35     75     0.467  ...     0.714    11.0    33.0   \n",
       "7     241    122     47     95     0.495  ...     0.900     6.0    30.0   \n",
       "8     265    101     37     89     0.416  ...     0.913     5.0    36.0   \n",
       "9     241    114     43    101     0.426  ...     0.700    10.0    42.0   \n",
       "10    241    103     37     83     0.446  ...     0.714     5.0    30.0   \n",
       "\n",
       "    REB_y  AST_y  STL_y  BLK_y  TOV_y  PF_y  PLUS_MINUS_y  \n",
       "0    51.0     32    4.0      8      7    19           8.0  \n",
       "1    35.0     23    8.0      2     12    15         -29.0  \n",
       "2    38.0     26   12.0      2     17    19           5.0  \n",
       "3    49.0     25   10.0      4     16    17          19.0  \n",
       "4    45.0     22    9.0      5     18    18         -16.0  \n",
       "5    43.0     25    7.0      4     14    21           8.0  \n",
       "6    44.0     30   16.0      8     15    22          19.0  \n",
       "7    36.0     26    4.0      6     10    20          -6.0  \n",
       "8    41.0     19    8.0      3      9    21          -2.0  \n",
       "9    52.0     18    6.0      2     12    20         -12.0  \n",
       "10   35.0     23    9.0      5     11    17          -9.0  \n",
       "\n",
       "[11 rows x 49 columns]"
      ],
      "text/html": "<div>\n<style scoped>\n    .dataframe tbody tr th:only-of-type {\n        vertical-align: middle;\n    }\n\n    .dataframe tbody tr th {\n        vertical-align: top;\n    }\n\n    .dataframe thead th {\n        text-align: right;\n    }\n</style>\n<table border=\"1\" class=\"dataframe\">\n  <thead>\n    <tr style=\"text-align: right;\">\n      <th></th>\n      <th>TEAM_ABBREVIATION_x</th>\n      <th>TEAM_NAME_x</th>\n      <th>GAME_ID</th>\n      <th>GAME_DATE_x</th>\n      <th>WL_x</th>\n      <th>MIN_x</th>\n      <th>PTS_x</th>\n      <th>FGM_x</th>\n      <th>FGA_x</th>\n      <th>FG_PCT_x</th>\n      <th>...</th>\n      <th>FT_PCT_y</th>\n      <th>OREB_y</th>\n      <th>DREB_y</th>\n      <th>REB_y</th>\n      <th>AST_y</th>\n      <th>STL_y</th>\n      <th>BLK_y</th>\n      <th>TOV_y</th>\n      <th>PF_y</th>\n      <th>PLUS_MINUS_y</th>\n    </tr>\n  </thead>\n  <tbody>\n    <tr>\n      <th>0</th>\n      <td>CHI</td>\n      <td>Chicago Bulls</td>\n      <td>0022001036</td>\n      <td>2021-05-11</td>\n      <td>L</td>\n      <td>240</td>\n      <td>107</td>\n      <td>39</td>\n      <td>96</td>\n      <td>0.406</td>\n      <td>...</td>\n      <td>0.760</td>\n      <td>13.0</td>\n      <td>38.0</td>\n      <td>51.0</td>\n      <td>32</td>\n      <td>4.0</td>\n      <td>8</td>\n      <td>7</td>\n      <td>19</td>\n      <td>8.0</td>\n    </tr>\n    <tr>\n      <th>1</th>\n      <td>MEM</td>\n      <td>Memphis Grizzlies</td>\n      <td>0022001037</td>\n      <td>2021-05-11</td>\n      <td>W</td>\n      <td>240</td>\n      <td>133</td>\n      <td>51</td>\n      <td>89</td>\n      <td>0.573</td>\n      <td>...</td>\n      <td>0.947</td>\n      <td>13.0</td>\n      <td>22.0</td>\n      <td>35.0</td>\n      <td>23</td>\n      <td>8.0</td>\n      <td>2</td>\n      <td>12</td>\n      <td>15</td>\n      <td>-29.0</td>\n    </tr>\n    <tr>\n      <th>2</th>\n      <td>CHA</td>\n      <td>Charlotte Hornets</td>\n      <td>0022000448</td>\n      <td>2021-05-11</td>\n      <td>L</td>\n      <td>240</td>\n      <td>112</td>\n      <td>42</td>\n      <td>91</td>\n      <td>0.462</td>\n      <td>...</td>\n      <td>0.846</td>\n      <td>10.0</td>\n      <td>28.0</td>\n      <td>38.0</td>\n      <td>26</td>\n      <td>12.0</td>\n      <td>2</td>\n      <td>17</td>\n      <td>19</td>\n      <td>5.0</td>\n    </tr>\n    <tr>\n      <th>3</th>\n      <td>TOR</td>\n      <td>Toronto Raptors</td>\n      <td>0022001034</td>\n      <td>2021-05-11</td>\n      <td>L</td>\n      <td>239</td>\n      <td>96</td>\n      <td>35</td>\n      <td>86</td>\n      <td>0.407</td>\n      <td>...</td>\n      <td>1.000</td>\n      <td>9.0</td>\n      <td>40.0</td>\n      <td>49.0</td>\n      <td>25</td>\n      <td>10.0</td>\n      <td>4</td>\n      <td>16</td>\n      <td>17</td>\n      <td>19.0</td>\n    </tr>\n    <tr>\n      <th>4</th>\n      <td>SAC</td>\n      <td>Sacramento Kings</td>\n      <td>0022001040</td>\n      <td>2021-05-11</td>\n      <td>W</td>\n      <td>240</td>\n      <td>122</td>\n      <td>44</td>\n      <td>86</td>\n      <td>0.512</td>\n      <td>...</td>\n      <td>0.679</td>\n      <td>9.0</td>\n      <td>36.0</td>\n      <td>45.0</td>\n      <td>22</td>\n      <td>9.0</td>\n      <td>5</td>\n      <td>18</td>\n      <td>18</td>\n      <td>-16.0</td>\n    </tr>\n    <tr>\n      <th>5</th>\n      <td>BOS</td>\n      <td>Boston Celtics</td>\n      <td>0022001032</td>\n      <td>2021-05-11</td>\n      <td>L</td>\n      <td>238</td>\n      <td>121</td>\n      <td>46</td>\n      <td>88</td>\n      <td>0.523</td>\n      <td>...</td>\n      <td>0.773</td>\n      <td>6.0</td>\n      <td>37.0</td>\n      <td>43.0</td>\n      <td>25</td>\n      <td>7.0</td>\n      <td>4</td>\n      <td>14</td>\n      <td>21</td>\n      <td>8.0</td>\n    </tr>\n    <tr>\n      <th>6</th>\n      <td>DET</td>\n      <td>Detroit Pistons</td>\n      <td>0022001033</td>\n      <td>2021-05-11</td>\n      <td>L</td>\n      <td>240</td>\n      <td>100</td>\n      <td>35</td>\n      <td>75</td>\n      <td>0.467</td>\n      <td>...</td>\n      <td>0.714</td>\n      <td>11.0</td>\n      <td>33.0</td>\n      <td>44.0</td>\n      <td>30</td>\n      <td>16.0</td>\n      <td>8</td>\n      <td>15</td>\n      <td>22</td>\n      <td>19.0</td>\n    </tr>\n    <tr>\n      <th>7</th>\n      <td>GSW</td>\n      <td>Golden State Warriors</td>\n      <td>0022001039</td>\n      <td>2021-05-11</td>\n      <td>W</td>\n      <td>241</td>\n      <td>122</td>\n      <td>47</td>\n      <td>95</td>\n      <td>0.495</td>\n      <td>...</td>\n      <td>0.900</td>\n      <td>6.0</td>\n      <td>30.0</td>\n      <td>36.0</td>\n      <td>26</td>\n      <td>4.0</td>\n      <td>6</td>\n      <td>10</td>\n      <td>20</td>\n      <td>-6.0</td>\n    </tr>\n    <tr>\n      <th>8</th>\n      <td>LAL</td>\n      <td>Los Angeles Lakers</td>\n      <td>0022001041</td>\n      <td>2021-05-11</td>\n      <td>W</td>\n      <td>265</td>\n      <td>101</td>\n      <td>37</td>\n      <td>89</td>\n      <td>0.416</td>\n      <td>...</td>\n      <td>0.913</td>\n      <td>5.0</td>\n      <td>36.0</td>\n      <td>41.0</td>\n      <td>19</td>\n      <td>8.0</td>\n      <td>3</td>\n      <td>9</td>\n      <td>21</td>\n      <td>-2.0</td>\n    </tr>\n    <tr>\n      <th>9</th>\n      <td>MIL</td>\n      <td>Milwaukee Bucks</td>\n      <td>0022001038</td>\n      <td>2021-05-11</td>\n      <td>W</td>\n      <td>241</td>\n      <td>114</td>\n      <td>43</td>\n      <td>101</td>\n      <td>0.426</td>\n      <td>...</td>\n      <td>0.700</td>\n      <td>10.0</td>\n      <td>42.0</td>\n      <td>52.0</td>\n      <td>18</td>\n      <td>6.0</td>\n      <td>2</td>\n      <td>12</td>\n      <td>20</td>\n      <td>-12.0</td>\n    </tr>\n    <tr>\n      <th>10</th>\n      <td>IND</td>\n      <td>Indiana Pacers</td>\n      <td>0022001035</td>\n      <td>2021-05-11</td>\n      <td>W</td>\n      <td>241</td>\n      <td>103</td>\n      <td>37</td>\n      <td>83</td>\n      <td>0.446</td>\n      <td>...</td>\n      <td>0.714</td>\n      <td>5.0</td>\n      <td>30.0</td>\n      <td>35.0</td>\n      <td>23</td>\n      <td>9.0</td>\n      <td>5</td>\n      <td>11</td>\n      <td>17</td>\n      <td>-9.0</td>\n    </tr>\n  </tbody>\n</table>\n<p>11 rows × 49 columns</p>\n</div>"
     },
     "metadata": {},
     "execution_count": 7
    }
   ],
   "source": [
    "df_combined = df.merge(df, on='GAME_ID')\n",
    "df_combined = df_combined.drop(df_combined[df_combined['TEAM_ID_x'] == df_combined['TEAM_ID_y']].index)\n",
    "df_combined = df_combined.iloc[1:].iloc[::2]\n",
    "df_combined.reset_index(drop=True, inplace=True)\n",
    "df_combined.drop(columns=[\"SEASON_ID_x\", \"TEAM_ID_x\", \"SEASON_ID_y\", \"TEAM_ID_y\", \"MATCHUP_x\", \"MATCHUP_y\"],inplace=True)\n",
    "df_combined"
   ]
  },
  {
   "cell_type": "code",
   "execution_count": 8,
   "metadata": {},
   "outputs": [
    {
     "output_type": "execute_result",
     "data": {
      "text/plain": [
       "   TEAM_ABBREVIATION_x            TEAM_NAME_x     GAME_ID GAME_DATE_x  WL_x  \\\n",
       "0                  CHI          Chicago Bulls  0022001036  2021-05-11     0   \n",
       "1                  MEM      Memphis Grizzlies  0022001037  2021-05-11     1   \n",
       "2                  CHA      Charlotte Hornets  0022000448  2021-05-11     0   \n",
       "3                  TOR        Toronto Raptors  0022001034  2021-05-11     0   \n",
       "4                  SAC       Sacramento Kings  0022001040  2021-05-11     1   \n",
       "5                  BOS         Boston Celtics  0022001032  2021-05-11     0   \n",
       "6                  DET        Detroit Pistons  0022001033  2021-05-11     0   \n",
       "7                  GSW  Golden State Warriors  0022001039  2021-05-11     1   \n",
       "8                  LAL     Los Angeles Lakers  0022001041  2021-05-11     1   \n",
       "9                  MIL        Milwaukee Bucks  0022001038  2021-05-11     1   \n",
       "10                 IND         Indiana Pacers  0022001035  2021-05-11     1   \n",
       "\n",
       "    MIN_x  PTS_x  FGM_x  FGA_x  FG_PCT_x  ...  FT_PCT_y  OREB_y  DREB_y  \\\n",
       "0     240    107     39     96     0.406  ...     0.760    13.0    38.0   \n",
       "1     240    133     51     89     0.573  ...     0.947    13.0    22.0   \n",
       "2     240    112     42     91     0.462  ...     0.846    10.0    28.0   \n",
       "3     239     96     35     86     0.407  ...     1.000     9.0    40.0   \n",
       "4     240    122     44     86     0.512  ...     0.679     9.0    36.0   \n",
       "5     238    121     46     88     0.523  ...     0.773     6.0    37.0   \n",
       "6     240    100     35     75     0.467  ...     0.714    11.0    33.0   \n",
       "7     241    122     47     95     0.495  ...     0.900     6.0    30.0   \n",
       "8     265    101     37     89     0.416  ...     0.913     5.0    36.0   \n",
       "9     241    114     43    101     0.426  ...     0.700    10.0    42.0   \n",
       "10    241    103     37     83     0.446  ...     0.714     5.0    30.0   \n",
       "\n",
       "    REB_y  AST_y  STL_y  BLK_y  TOV_y  PF_y  PLUS_MINUS_y  \n",
       "0    51.0     32    4.0      8      7    19           8.0  \n",
       "1    35.0     23    8.0      2     12    15         -29.0  \n",
       "2    38.0     26   12.0      2     17    19           5.0  \n",
       "3    49.0     25   10.0      4     16    17          19.0  \n",
       "4    45.0     22    9.0      5     18    18         -16.0  \n",
       "5    43.0     25    7.0      4     14    21           8.0  \n",
       "6    44.0     30   16.0      8     15    22          19.0  \n",
       "7    36.0     26    4.0      6     10    20          -6.0  \n",
       "8    41.0     19    8.0      3      9    21          -2.0  \n",
       "9    52.0     18    6.0      2     12    20         -12.0  \n",
       "10   35.0     23    9.0      5     11    17          -9.0  \n",
       "\n",
       "[11 rows x 49 columns]"
      ],
      "text/html": "<div>\n<style scoped>\n    .dataframe tbody tr th:only-of-type {\n        vertical-align: middle;\n    }\n\n    .dataframe tbody tr th {\n        vertical-align: top;\n    }\n\n    .dataframe thead th {\n        text-align: right;\n    }\n</style>\n<table border=\"1\" class=\"dataframe\">\n  <thead>\n    <tr style=\"text-align: right;\">\n      <th></th>\n      <th>TEAM_ABBREVIATION_x</th>\n      <th>TEAM_NAME_x</th>\n      <th>GAME_ID</th>\n      <th>GAME_DATE_x</th>\n      <th>WL_x</th>\n      <th>MIN_x</th>\n      <th>PTS_x</th>\n      <th>FGM_x</th>\n      <th>FGA_x</th>\n      <th>FG_PCT_x</th>\n      <th>...</th>\n      <th>FT_PCT_y</th>\n      <th>OREB_y</th>\n      <th>DREB_y</th>\n      <th>REB_y</th>\n      <th>AST_y</th>\n      <th>STL_y</th>\n      <th>BLK_y</th>\n      <th>TOV_y</th>\n      <th>PF_y</th>\n      <th>PLUS_MINUS_y</th>\n    </tr>\n  </thead>\n  <tbody>\n    <tr>\n      <th>0</th>\n      <td>CHI</td>\n      <td>Chicago Bulls</td>\n      <td>0022001036</td>\n      <td>2021-05-11</td>\n      <td>0</td>\n      <td>240</td>\n      <td>107</td>\n      <td>39</td>\n      <td>96</td>\n      <td>0.406</td>\n      <td>...</td>\n      <td>0.760</td>\n      <td>13.0</td>\n      <td>38.0</td>\n      <td>51.0</td>\n      <td>32</td>\n      <td>4.0</td>\n      <td>8</td>\n      <td>7</td>\n      <td>19</td>\n      <td>8.0</td>\n    </tr>\n    <tr>\n      <th>1</th>\n      <td>MEM</td>\n      <td>Memphis Grizzlies</td>\n      <td>0022001037</td>\n      <td>2021-05-11</td>\n      <td>1</td>\n      <td>240</td>\n      <td>133</td>\n      <td>51</td>\n      <td>89</td>\n      <td>0.573</td>\n      <td>...</td>\n      <td>0.947</td>\n      <td>13.0</td>\n      <td>22.0</td>\n      <td>35.0</td>\n      <td>23</td>\n      <td>8.0</td>\n      <td>2</td>\n      <td>12</td>\n      <td>15</td>\n      <td>-29.0</td>\n    </tr>\n    <tr>\n      <th>2</th>\n      <td>CHA</td>\n      <td>Charlotte Hornets</td>\n      <td>0022000448</td>\n      <td>2021-05-11</td>\n      <td>0</td>\n      <td>240</td>\n      <td>112</td>\n      <td>42</td>\n      <td>91</td>\n      <td>0.462</td>\n      <td>...</td>\n      <td>0.846</td>\n      <td>10.0</td>\n      <td>28.0</td>\n      <td>38.0</td>\n      <td>26</td>\n      <td>12.0</td>\n      <td>2</td>\n      <td>17</td>\n      <td>19</td>\n      <td>5.0</td>\n    </tr>\n    <tr>\n      <th>3</th>\n      <td>TOR</td>\n      <td>Toronto Raptors</td>\n      <td>0022001034</td>\n      <td>2021-05-11</td>\n      <td>0</td>\n      <td>239</td>\n      <td>96</td>\n      <td>35</td>\n      <td>86</td>\n      <td>0.407</td>\n      <td>...</td>\n      <td>1.000</td>\n      <td>9.0</td>\n      <td>40.0</td>\n      <td>49.0</td>\n      <td>25</td>\n      <td>10.0</td>\n      <td>4</td>\n      <td>16</td>\n      <td>17</td>\n      <td>19.0</td>\n    </tr>\n    <tr>\n      <th>4</th>\n      <td>SAC</td>\n      <td>Sacramento Kings</td>\n      <td>0022001040</td>\n      <td>2021-05-11</td>\n      <td>1</td>\n      <td>240</td>\n      <td>122</td>\n      <td>44</td>\n      <td>86</td>\n      <td>0.512</td>\n      <td>...</td>\n      <td>0.679</td>\n      <td>9.0</td>\n      <td>36.0</td>\n      <td>45.0</td>\n      <td>22</td>\n      <td>9.0</td>\n      <td>5</td>\n      <td>18</td>\n      <td>18</td>\n      <td>-16.0</td>\n    </tr>\n    <tr>\n      <th>5</th>\n      <td>BOS</td>\n      <td>Boston Celtics</td>\n      <td>0022001032</td>\n      <td>2021-05-11</td>\n      <td>0</td>\n      <td>238</td>\n      <td>121</td>\n      <td>46</td>\n      <td>88</td>\n      <td>0.523</td>\n      <td>...</td>\n      <td>0.773</td>\n      <td>6.0</td>\n      <td>37.0</td>\n      <td>43.0</td>\n      <td>25</td>\n      <td>7.0</td>\n      <td>4</td>\n      <td>14</td>\n      <td>21</td>\n      <td>8.0</td>\n    </tr>\n    <tr>\n      <th>6</th>\n      <td>DET</td>\n      <td>Detroit Pistons</td>\n      <td>0022001033</td>\n      <td>2021-05-11</td>\n      <td>0</td>\n      <td>240</td>\n      <td>100</td>\n      <td>35</td>\n      <td>75</td>\n      <td>0.467</td>\n      <td>...</td>\n      <td>0.714</td>\n      <td>11.0</td>\n      <td>33.0</td>\n      <td>44.0</td>\n      <td>30</td>\n      <td>16.0</td>\n      <td>8</td>\n      <td>15</td>\n      <td>22</td>\n      <td>19.0</td>\n    </tr>\n    <tr>\n      <th>7</th>\n      <td>GSW</td>\n      <td>Golden State Warriors</td>\n      <td>0022001039</td>\n      <td>2021-05-11</td>\n      <td>1</td>\n      <td>241</td>\n      <td>122</td>\n      <td>47</td>\n      <td>95</td>\n      <td>0.495</td>\n      <td>...</td>\n      <td>0.900</td>\n      <td>6.0</td>\n      <td>30.0</td>\n      <td>36.0</td>\n      <td>26</td>\n      <td>4.0</td>\n      <td>6</td>\n      <td>10</td>\n      <td>20</td>\n      <td>-6.0</td>\n    </tr>\n    <tr>\n      <th>8</th>\n      <td>LAL</td>\n      <td>Los Angeles Lakers</td>\n      <td>0022001041</td>\n      <td>2021-05-11</td>\n      <td>1</td>\n      <td>265</td>\n      <td>101</td>\n      <td>37</td>\n      <td>89</td>\n      <td>0.416</td>\n      <td>...</td>\n      <td>0.913</td>\n      <td>5.0</td>\n      <td>36.0</td>\n      <td>41.0</td>\n      <td>19</td>\n      <td>8.0</td>\n      <td>3</td>\n      <td>9</td>\n      <td>21</td>\n      <td>-2.0</td>\n    </tr>\n    <tr>\n      <th>9</th>\n      <td>MIL</td>\n      <td>Milwaukee Bucks</td>\n      <td>0022001038</td>\n      <td>2021-05-11</td>\n      <td>1</td>\n      <td>241</td>\n      <td>114</td>\n      <td>43</td>\n      <td>101</td>\n      <td>0.426</td>\n      <td>...</td>\n      <td>0.700</td>\n      <td>10.0</td>\n      <td>42.0</td>\n      <td>52.0</td>\n      <td>18</td>\n      <td>6.0</td>\n      <td>2</td>\n      <td>12</td>\n      <td>20</td>\n      <td>-12.0</td>\n    </tr>\n    <tr>\n      <th>10</th>\n      <td>IND</td>\n      <td>Indiana Pacers</td>\n      <td>0022001035</td>\n      <td>2021-05-11</td>\n      <td>1</td>\n      <td>241</td>\n      <td>103</td>\n      <td>37</td>\n      <td>83</td>\n      <td>0.446</td>\n      <td>...</td>\n      <td>0.714</td>\n      <td>5.0</td>\n      <td>30.0</td>\n      <td>35.0</td>\n      <td>23</td>\n      <td>9.0</td>\n      <td>5</td>\n      <td>11</td>\n      <td>17</td>\n      <td>-9.0</td>\n    </tr>\n  </tbody>\n</table>\n<p>11 rows × 49 columns</p>\n</div>"
     },
     "metadata": {},
     "execution_count": 8
    }
   ],
   "source": [
    "df_combined = df_combined.replace(['W','L'], [int(1), int(0)]) # win = 1, lose = 0\n",
    "df_combined"
   ]
  },
  {
   "cell_type": "code",
   "execution_count": null,
   "metadata": {},
   "outputs": [],
   "source": []
  }
 ]
}