{
 "metadata": {
  "language_info": {
   "codemirror_mode": {
    "name": "ipython",
    "version": 3
   },
   "file_extension": ".py",
   "mimetype": "text/x-python",
   "name": "python",
   "nbconvert_exporter": "python",
   "pygments_lexer": "ipython3",
   "version": "3.9.0"
  },
  "orig_nbformat": 2,
  "kernelspec": {
   "name": "python390jvsc74a57bd0aee8b7b246df8f9039afb4144a1f6fd8d2ca17a180786b69acc140d282b71a49",
   "display_name": "Python 3.9.0 64-bit"
  }
 },
 "nbformat": 4,
 "nbformat_minor": 2,
 "cells": [
  {
   "cell_type": "code",
   "execution_count": 2,
   "metadata": {},
   "outputs": [],
   "source": [
    "# general \n",
    "import os\n",
    "\n",
    "# data request\n",
    "import requests\n",
    "from nba_api.stats.static import teams\n",
    "from nba_api.stats.endpoints import leaguegamefinder\n",
    "\n",
    "# data processing\n",
    "import pandas as pd\n",
    "import numpy as np\n",
    "\n",
    "# data visualization\n",
    "import matplotlib.pyplot as plt\n",
    "from matplotlib import style\n",
    "%matplotlib inline\n",
    "style.use('seaborn')\n",
    "\n",
    "# import functions\n",
    "from utils import *"
   ]
  },
  {
   "source": [
    "# Data Retrieval"
   ],
   "cell_type": "markdown",
   "metadata": {}
  },
  {
   "source": [
    "## Getting all NBA teams from API endpoint"
   ],
   "cell_type": "markdown",
   "metadata": {}
  },
  {
   "cell_type": "code",
   "execution_count": 2,
   "metadata": {},
   "outputs": [
    {
     "output_type": "execute_result",
     "data": {
      "text/plain": [
       "           id             full_name abbreviation   nickname         city  \\\n",
       "0  1610612737         Atlanta Hawks          ATL      Hawks      Atlanta   \n",
       "1  1610612738        Boston Celtics          BOS    Celtics       Boston   \n",
       "2  1610612739   Cleveland Cavaliers          CLE  Cavaliers    Cleveland   \n",
       "3  1610612740  New Orleans Pelicans          NOP   Pelicans  New Orleans   \n",
       "4  1610612741         Chicago Bulls          CHI      Bulls      Chicago   \n",
       "\n",
       "           state  year_founded  \n",
       "0        Atlanta          1949  \n",
       "1  Massachusetts          1946  \n",
       "2           Ohio          1970  \n",
       "3      Louisiana          2002  \n",
       "4       Illinois          1966  "
      ],
      "text/html": "<div>\n<style scoped>\n    .dataframe tbody tr th:only-of-type {\n        vertical-align: middle;\n    }\n\n    .dataframe tbody tr th {\n        vertical-align: top;\n    }\n\n    .dataframe thead th {\n        text-align: right;\n    }\n</style>\n<table border=\"1\" class=\"dataframe\">\n  <thead>\n    <tr style=\"text-align: right;\">\n      <th></th>\n      <th>id</th>\n      <th>full_name</th>\n      <th>abbreviation</th>\n      <th>nickname</th>\n      <th>city</th>\n      <th>state</th>\n      <th>year_founded</th>\n    </tr>\n  </thead>\n  <tbody>\n    <tr>\n      <th>0</th>\n      <td>1610612737</td>\n      <td>Atlanta Hawks</td>\n      <td>ATL</td>\n      <td>Hawks</td>\n      <td>Atlanta</td>\n      <td>Atlanta</td>\n      <td>1949</td>\n    </tr>\n    <tr>\n      <th>1</th>\n      <td>1610612738</td>\n      <td>Boston Celtics</td>\n      <td>BOS</td>\n      <td>Celtics</td>\n      <td>Boston</td>\n      <td>Massachusetts</td>\n      <td>1946</td>\n    </tr>\n    <tr>\n      <th>2</th>\n      <td>1610612739</td>\n      <td>Cleveland Cavaliers</td>\n      <td>CLE</td>\n      <td>Cavaliers</td>\n      <td>Cleveland</td>\n      <td>Ohio</td>\n      <td>1970</td>\n    </tr>\n    <tr>\n      <th>3</th>\n      <td>1610612740</td>\n      <td>New Orleans Pelicans</td>\n      <td>NOP</td>\n      <td>Pelicans</td>\n      <td>New Orleans</td>\n      <td>Louisiana</td>\n      <td>2002</td>\n    </tr>\n    <tr>\n      <th>4</th>\n      <td>1610612741</td>\n      <td>Chicago Bulls</td>\n      <td>CHI</td>\n      <td>Bulls</td>\n      <td>Chicago</td>\n      <td>Illinois</td>\n      <td>1966</td>\n    </tr>\n  </tbody>\n</table>\n</div>"
     },
     "metadata": {},
     "execution_count": 2
    }
   ],
   "source": [
    "nba_teams = pd.DataFrame(teams.get_teams())\n",
    "nba_teams.head()"
   ]
  },
  {
   "cell_type": "code",
   "execution_count": 3,
   "metadata": {},
   "outputs": [
    {
     "output_type": "execute_result",
     "data": {
      "text/plain": [
       "array([1610612737, 1610612738, 1610612739, 1610612740, 1610612741,\n",
       "       1610612742, 1610612743, 1610612744, 1610612745, 1610612746,\n",
       "       1610612747, 1610612748, 1610612749, 1610612750, 1610612751,\n",
       "       1610612752, 1610612753, 1610612754, 1610612755, 1610612756,\n",
       "       1610612757, 1610612758, 1610612759, 1610612760, 1610612761,\n",
       "       1610612762, 1610612763, 1610612764, 1610612765, 1610612766])"
      ]
     },
     "metadata": {},
     "execution_count": 3
    }
   ],
   "source": [
    "team_ids = nba_teams['id'].unique()\n",
    "team_ids"
   ]
  },
  {
   "source": [
    "## Getting all games from season 2014-2015 onwards\n",
    "<br>\n",
    "\n",
    "There should be 30 x 82 = 2460 games record for each season. \n",
    "- when Team A play against Team B, there will be 2 records, A vs B and B vs A\n",
    "<br><br>\n",
    "\n",
    "We first set the start and end date for each season, then we retrieve games played between the respective period for each season. At the end, we will do a count check for the number of records in each season. "
   ],
   "cell_type": "markdown",
   "metadata": {}
  },
  {
   "cell_type": "code",
   "execution_count": 5,
   "metadata": {},
   "outputs": [],
   "source": [
    "#2014-15 season dates\n",
    "start_2014 = '2014-10-28'\n",
    "end_2014 = '2015-04-15'\n",
    "\n",
    "#2015-16 season dates\n",
    "start_2015 = '2015-10-27'\n",
    "end_2015 = '2016-04-13'\n",
    "\n",
    "#2016-17 season dates\n",
    "start_2016 = '2016-10-25'\n",
    "end_2016 = '2017-04-12'\n",
    "\n",
    "#2017-18 season dates\n",
    "start_2017 = '2017-10-17'\n",
    "end_2017 = '2018-04-11'\n",
    "\n",
    "#2018-19 season dates\n",
    "start_2018 = '2018-10-16'\n",
    "end_2018 = '2019-04-10'\n",
    "\n",
    "#2019-20 season dates\n",
    "start_2019 = '2019-10-22'\n",
    "end_2019 = '2020-03-11' # ends earlier cos after that we head into the bubble\n",
    "\n",
    "#2020-21 season dates\n",
    "start_2020 = '2020-12-22' # current on-going season"
   ]
  },
  {
   "cell_type": "code",
   "execution_count": 7,
   "metadata": {},
   "outputs": [
    {
     "output_type": "execute_result",
     "data": {
      "text/plain": [
       "  SEASON_ID     TEAM_ID TEAM_ABBREVIATION           TEAM_NAME     GAME_ID  \\\n",
       "0     22020  1610612753               ORL       Orlando Magic  0022001038   \n",
       "0     22020  1610612746               LAC         LA Clippers  0022001034   \n",
       "0     22020  1610612755               PHI  Philadelphia 76ers  0022001035   \n",
       "0     22020  1610612758               SAC    Sacramento Kings  0022001040   \n",
       "0     22020  1610612754               IND      Indiana Pacers  0022001035   \n",
       "\n",
       "    GAME_DATE      MATCHUP WL  MIN  PTS  ...  FT_PCT  OREB  DREB   REB  AST  \\\n",
       "0  2021-05-11    ORL @ MIL  L  240  102  ...   0.700  10.0  42.0  52.0   18   \n",
       "0  2021-05-11    LAC @ TOR  W  240  115  ...   1.000   9.0  40.0  49.0   25   \n",
       "0  2021-05-11    PHI @ IND  L  240   94  ...   0.714   5.0  30.0  35.0   23   \n",
       "0  2021-05-11  SAC vs. OKC  W  240  122  ...   0.789   6.0  34.0  40.0   28   \n",
       "0  2021-05-11  IND vs. PHI  W  241  103  ...   0.938   7.0  38.0  45.0   28   \n",
       "\n",
       "    STL  BLK  TOV  PF  PLUS_MINUS  \n",
       "0   6.0    2   12  20       -12.0  \n",
       "0  10.0    4   16  17        19.0  \n",
       "0   9.0    5   11  17        -9.0  \n",
       "0  13.0    6   15  21        16.0  \n",
       "0   7.0    6   13  15         9.0  \n",
       "\n",
       "[5 rows x 28 columns]"
      ],
      "text/html": "<div>\n<style scoped>\n    .dataframe tbody tr th:only-of-type {\n        vertical-align: middle;\n    }\n\n    .dataframe tbody tr th {\n        vertical-align: top;\n    }\n\n    .dataframe thead th {\n        text-align: right;\n    }\n</style>\n<table border=\"1\" class=\"dataframe\">\n  <thead>\n    <tr style=\"text-align: right;\">\n      <th></th>\n      <th>SEASON_ID</th>\n      <th>TEAM_ID</th>\n      <th>TEAM_ABBREVIATION</th>\n      <th>TEAM_NAME</th>\n      <th>GAME_ID</th>\n      <th>GAME_DATE</th>\n      <th>MATCHUP</th>\n      <th>WL</th>\n      <th>MIN</th>\n      <th>PTS</th>\n      <th>...</th>\n      <th>FT_PCT</th>\n      <th>OREB</th>\n      <th>DREB</th>\n      <th>REB</th>\n      <th>AST</th>\n      <th>STL</th>\n      <th>BLK</th>\n      <th>TOV</th>\n      <th>PF</th>\n      <th>PLUS_MINUS</th>\n    </tr>\n  </thead>\n  <tbody>\n    <tr>\n      <th>0</th>\n      <td>22020</td>\n      <td>1610612753</td>\n      <td>ORL</td>\n      <td>Orlando Magic</td>\n      <td>0022001038</td>\n      <td>2021-05-11</td>\n      <td>ORL @ MIL</td>\n      <td>L</td>\n      <td>240</td>\n      <td>102</td>\n      <td>...</td>\n      <td>0.700</td>\n      <td>10.0</td>\n      <td>42.0</td>\n      <td>52.0</td>\n      <td>18</td>\n      <td>6.0</td>\n      <td>2</td>\n      <td>12</td>\n      <td>20</td>\n      <td>-12.0</td>\n    </tr>\n    <tr>\n      <th>0</th>\n      <td>22020</td>\n      <td>1610612746</td>\n      <td>LAC</td>\n      <td>LA Clippers</td>\n      <td>0022001034</td>\n      <td>2021-05-11</td>\n      <td>LAC @ TOR</td>\n      <td>W</td>\n      <td>240</td>\n      <td>115</td>\n      <td>...</td>\n      <td>1.000</td>\n      <td>9.0</td>\n      <td>40.0</td>\n      <td>49.0</td>\n      <td>25</td>\n      <td>10.0</td>\n      <td>4</td>\n      <td>16</td>\n      <td>17</td>\n      <td>19.0</td>\n    </tr>\n    <tr>\n      <th>0</th>\n      <td>22020</td>\n      <td>1610612755</td>\n      <td>PHI</td>\n      <td>Philadelphia 76ers</td>\n      <td>0022001035</td>\n      <td>2021-05-11</td>\n      <td>PHI @ IND</td>\n      <td>L</td>\n      <td>240</td>\n      <td>94</td>\n      <td>...</td>\n      <td>0.714</td>\n      <td>5.0</td>\n      <td>30.0</td>\n      <td>35.0</td>\n      <td>23</td>\n      <td>9.0</td>\n      <td>5</td>\n      <td>11</td>\n      <td>17</td>\n      <td>-9.0</td>\n    </tr>\n    <tr>\n      <th>0</th>\n      <td>22020</td>\n      <td>1610612758</td>\n      <td>SAC</td>\n      <td>Sacramento Kings</td>\n      <td>0022001040</td>\n      <td>2021-05-11</td>\n      <td>SAC vs. OKC</td>\n      <td>W</td>\n      <td>240</td>\n      <td>122</td>\n      <td>...</td>\n      <td>0.789</td>\n      <td>6.0</td>\n      <td>34.0</td>\n      <td>40.0</td>\n      <td>28</td>\n      <td>13.0</td>\n      <td>6</td>\n      <td>15</td>\n      <td>21</td>\n      <td>16.0</td>\n    </tr>\n    <tr>\n      <th>0</th>\n      <td>22020</td>\n      <td>1610612754</td>\n      <td>IND</td>\n      <td>Indiana Pacers</td>\n      <td>0022001035</td>\n      <td>2021-05-11</td>\n      <td>IND vs. PHI</td>\n      <td>W</td>\n      <td>241</td>\n      <td>103</td>\n      <td>...</td>\n      <td>0.938</td>\n      <td>7.0</td>\n      <td>38.0</td>\n      <td>45.0</td>\n      <td>28</td>\n      <td>7.0</td>\n      <td>6</td>\n      <td>13</td>\n      <td>15</td>\n      <td>9.0</td>\n    </tr>\n  </tbody>\n</table>\n<p>5 rows × 28 columns</p>\n</div>"
     },
     "metadata": {},
     "execution_count": 7
    }
   ],
   "source": [
    "all_games = pd.DataFrame()\n",
    "for team_id in team_ids:\n",
    "    gamefinder = leaguegamefinder.LeagueGameFinder(team_id_nullable=team_id)\n",
    "    games = gamefinder.get_data_frames()[0]\n",
    "    games = games[\n",
    "        (games['GAME_DATE'].between(start_2014, end_2014)) | \n",
    "        (games['GAME_DATE'].between(start_2015, end_2015)) | \n",
    "        (games['GAME_DATE'].between(start_2016, end_2016)) | \n",
    "        (games['GAME_DATE'].between(start_2017, end_2017)) | \n",
    "        (games['GAME_DATE'].between(start_2018, end_2018)) | \n",
    "        (games['GAME_DATE'].between(start_2019, end_2019)) | \n",
    "        (games['GAME_DATE'] > start_2020)]\n",
    "    all_games = all_games.append(games)\n",
    "\n",
    "all_games = all_games.sort_values('GAME_DATE', ascending=False)\n",
    "\n",
    "all_games.head()"
   ]
  },
  {
   "cell_type": "code",
   "execution_count": 8,
   "metadata": {},
   "outputs": [
    {
     "output_type": "execute_result",
     "data": {
      "text/plain": [
       "           GAME_ID\n",
       "SEASON_ID         \n",
       "2014          2460\n",
       "2015          2460\n",
       "2016          2460\n",
       "2017          2460\n",
       "2018          2460\n",
       "2019          1942\n",
       "2020          2068"
      ],
      "text/html": "<div>\n<style scoped>\n    .dataframe tbody tr th:only-of-type {\n        vertical-align: middle;\n    }\n\n    .dataframe tbody tr th {\n        vertical-align: top;\n    }\n\n    .dataframe thead th {\n        text-align: right;\n    }\n</style>\n<table border=\"1\" class=\"dataframe\">\n  <thead>\n    <tr style=\"text-align: right;\">\n      <th></th>\n      <th>GAME_ID</th>\n    </tr>\n    <tr>\n      <th>SEASON_ID</th>\n      <th></th>\n    </tr>\n  </thead>\n  <tbody>\n    <tr>\n      <th>2014</th>\n      <td>2460</td>\n    </tr>\n    <tr>\n      <th>2015</th>\n      <td>2460</td>\n    </tr>\n    <tr>\n      <th>2016</th>\n      <td>2460</td>\n    </tr>\n    <tr>\n      <th>2017</th>\n      <td>2460</td>\n    </tr>\n    <tr>\n      <th>2018</th>\n      <td>2460</td>\n    </tr>\n    <tr>\n      <th>2019</th>\n      <td>1942</td>\n    </tr>\n    <tr>\n      <th>2020</th>\n      <td>2068</td>\n    </tr>\n  </tbody>\n</table>\n</div>"
     },
     "metadata": {},
     "execution_count": 8
    }
   ],
   "source": [
    "# checking if the number of games record for each season is correct\n",
    "all_games.groupby(all_games.SEASON_ID.str[-4:])[['GAME_ID']].count()"
   ]
  },
  {
   "source": [
    "## Data Cleaning\n",
    "- what features are there?\n",
    "- any null values?\n",
    "- converting game date to datetime format\n",
    "- splitting games records into seasons"
   ],
   "cell_type": "markdown",
   "metadata": {}
  },
  {
   "cell_type": "code",
   "execution_count": 9,
   "metadata": {},
   "outputs": [
    {
     "output_type": "execute_result",
     "data": {
      "text/plain": [
       "Index(['SEASON_ID', 'TEAM_ID', 'TEAM_ABBREVIATION', 'TEAM_NAME', 'GAME_ID',\n",
       "       'GAME_DATE', 'MATCHUP', 'WL', 'MIN', 'PTS', 'FGM', 'FGA', 'FG_PCT',\n",
       "       'FG3M', 'FG3A', 'FG3_PCT', 'FTM', 'FTA', 'FT_PCT', 'OREB', 'DREB',\n",
       "       'REB', 'AST', 'STL', 'BLK', 'TOV', 'PF', 'PLUS_MINUS'],\n",
       "      dtype='object')"
      ]
     },
     "metadata": {},
     "execution_count": 9
    }
   ],
   "source": [
    "all_games.columns"
   ]
  },
  {
   "cell_type": "code",
   "execution_count": 10,
   "metadata": {},
   "outputs": [
    {
     "output_type": "stream",
     "name": "stdout",
     "text": [
      "<class 'pandas.core.frame.DataFrame'>\nInt64Index: 16310 entries, 0 to 642\nData columns (total 28 columns):\n #   Column             Non-Null Count  Dtype  \n---  ------             --------------  -----  \n 0   SEASON_ID          16310 non-null  object \n 1   TEAM_ID            16310 non-null  int64  \n 2   TEAM_ABBREVIATION  16310 non-null  object \n 3   TEAM_NAME          16310 non-null  object \n 4   GAME_ID            16310 non-null  object \n 5   GAME_DATE          16310 non-null  object \n 6   MATCHUP            16310 non-null  object \n 7   WL                 16310 non-null  object \n 8   MIN                16310 non-null  int64  \n 9   PTS                16310 non-null  int64  \n 10  FGM                16310 non-null  int64  \n 11  FGA                16310 non-null  int64  \n 12  FG_PCT             16310 non-null  float64\n 13  FG3M               16310 non-null  int64  \n 14  FG3A               16310 non-null  float64\n 15  FG3_PCT            16310 non-null  float64\n 16  FTM                16310 non-null  int64  \n 17  FTA                16310 non-null  int64  \n 18  FT_PCT             16310 non-null  float64\n 19  OREB               16310 non-null  float64\n 20  DREB               16310 non-null  float64\n 21  REB                16310 non-null  float64\n 22  AST                16310 non-null  int64  \n 23  STL                16310 non-null  float64\n 24  BLK                16310 non-null  int64  \n 25  TOV                16310 non-null  int64  \n 26  PF                 16310 non-null  int64  \n 27  PLUS_MINUS         16310 non-null  float64\ndtypes: float64(9), int64(12), object(7)\nmemory usage: 3.6+ MB\n"
     ]
    }
   ],
   "source": [
    "all_games.info()"
   ]
  },
  {
   "cell_type": "code",
   "execution_count": 15,
   "metadata": {},
   "outputs": [
    {
     "output_type": "execute_result",
     "data": {
      "text/plain": [
       "    SEASON_ID     TEAM_ID TEAM_ABBREVIATION             TEAM_NAME     GAME_ID  \\\n",
       "615     22014  1610612753               ORL         Orlando Magic  0021400001   \n",
       "624     22014  1610612740               NOP  New Orleans Pelicans  0021400001   \n",
       "642     22014  1610612742               DAL      Dallas Mavericks  0021400002   \n",
       "668     22014  1610612759               SAS     San Antonio Spurs  0021400002   \n",
       "647     22014  1610612747               LAL    Los Angeles Lakers  0021400003   \n",
       "\n",
       "     GAME_DATE      MATCHUP WL  MIN  PTS  ...  FT_PCT  OREB  DREB   REB  AST  \\\n",
       "615 2014-10-28    ORL @ NOP  L  239   84  ...   0.762  16.0  40.0  56.0   17   \n",
       "624 2014-10-28  NOP vs. ORL  W  240  101  ...   0.484  26.0  36.0  62.0   20   \n",
       "642 2014-10-28    DAL @ SAS  L  239  100  ...   0.842   9.0  24.0  33.0   17   \n",
       "668 2014-10-28  SAS vs. DAL  W  241  101  ...   0.813   9.0  29.0  38.0   23   \n",
       "647 2014-10-28  LAL vs. HOU  L  240   90  ...   0.795  11.0  25.0  36.0   16   \n",
       "\n",
       "      STL  BLK  TOV  PF  PLUS_MINUS  \n",
       "615   5.0    9   18  25       -17.0  \n",
       "624  10.0   17    9  17        17.0  \n",
       "642   9.0    3   10  20        -1.0  \n",
       "668   5.0    3   20  20         1.0  \n",
       "647   7.0    3   11  32       -18.0  \n",
       "\n",
       "[5 rows x 28 columns]"
      ],
      "text/html": "<div>\n<style scoped>\n    .dataframe tbody tr th:only-of-type {\n        vertical-align: middle;\n    }\n\n    .dataframe tbody tr th {\n        vertical-align: top;\n    }\n\n    .dataframe thead th {\n        text-align: right;\n    }\n</style>\n<table border=\"1\" class=\"dataframe\">\n  <thead>\n    <tr style=\"text-align: right;\">\n      <th></th>\n      <th>SEASON_ID</th>\n      <th>TEAM_ID</th>\n      <th>TEAM_ABBREVIATION</th>\n      <th>TEAM_NAME</th>\n      <th>GAME_ID</th>\n      <th>GAME_DATE</th>\n      <th>MATCHUP</th>\n      <th>WL</th>\n      <th>MIN</th>\n      <th>PTS</th>\n      <th>...</th>\n      <th>FT_PCT</th>\n      <th>OREB</th>\n      <th>DREB</th>\n      <th>REB</th>\n      <th>AST</th>\n      <th>STL</th>\n      <th>BLK</th>\n      <th>TOV</th>\n      <th>PF</th>\n      <th>PLUS_MINUS</th>\n    </tr>\n  </thead>\n  <tbody>\n    <tr>\n      <th>615</th>\n      <td>22014</td>\n      <td>1610612753</td>\n      <td>ORL</td>\n      <td>Orlando Magic</td>\n      <td>0021400001</td>\n      <td>2014-10-28</td>\n      <td>ORL @ NOP</td>\n      <td>L</td>\n      <td>239</td>\n      <td>84</td>\n      <td>...</td>\n      <td>0.762</td>\n      <td>16.0</td>\n      <td>40.0</td>\n      <td>56.0</td>\n      <td>17</td>\n      <td>5.0</td>\n      <td>9</td>\n      <td>18</td>\n      <td>25</td>\n      <td>-17.0</td>\n    </tr>\n    <tr>\n      <th>624</th>\n      <td>22014</td>\n      <td>1610612740</td>\n      <td>NOP</td>\n      <td>New Orleans Pelicans</td>\n      <td>0021400001</td>\n      <td>2014-10-28</td>\n      <td>NOP vs. ORL</td>\n      <td>W</td>\n      <td>240</td>\n      <td>101</td>\n      <td>...</td>\n      <td>0.484</td>\n      <td>26.0</td>\n      <td>36.0</td>\n      <td>62.0</td>\n      <td>20</td>\n      <td>10.0</td>\n      <td>17</td>\n      <td>9</td>\n      <td>17</td>\n      <td>17.0</td>\n    </tr>\n    <tr>\n      <th>642</th>\n      <td>22014</td>\n      <td>1610612742</td>\n      <td>DAL</td>\n      <td>Dallas Mavericks</td>\n      <td>0021400002</td>\n      <td>2014-10-28</td>\n      <td>DAL @ SAS</td>\n      <td>L</td>\n      <td>239</td>\n      <td>100</td>\n      <td>...</td>\n      <td>0.842</td>\n      <td>9.0</td>\n      <td>24.0</td>\n      <td>33.0</td>\n      <td>17</td>\n      <td>9.0</td>\n      <td>3</td>\n      <td>10</td>\n      <td>20</td>\n      <td>-1.0</td>\n    </tr>\n    <tr>\n      <th>668</th>\n      <td>22014</td>\n      <td>1610612759</td>\n      <td>SAS</td>\n      <td>San Antonio Spurs</td>\n      <td>0021400002</td>\n      <td>2014-10-28</td>\n      <td>SAS vs. DAL</td>\n      <td>W</td>\n      <td>241</td>\n      <td>101</td>\n      <td>...</td>\n      <td>0.813</td>\n      <td>9.0</td>\n      <td>29.0</td>\n      <td>38.0</td>\n      <td>23</td>\n      <td>5.0</td>\n      <td>3</td>\n      <td>20</td>\n      <td>20</td>\n      <td>1.0</td>\n    </tr>\n    <tr>\n      <th>647</th>\n      <td>22014</td>\n      <td>1610612747</td>\n      <td>LAL</td>\n      <td>Los Angeles Lakers</td>\n      <td>0021400003</td>\n      <td>2014-10-28</td>\n      <td>LAL vs. HOU</td>\n      <td>L</td>\n      <td>240</td>\n      <td>90</td>\n      <td>...</td>\n      <td>0.795</td>\n      <td>11.0</td>\n      <td>25.0</td>\n      <td>36.0</td>\n      <td>16</td>\n      <td>7.0</td>\n      <td>3</td>\n      <td>11</td>\n      <td>32</td>\n      <td>-18.0</td>\n    </tr>\n  </tbody>\n</table>\n<p>5 rows × 28 columns</p>\n</div>"
     },
     "metadata": {},
     "execution_count": 15
    }
   ],
   "source": [
    "all_games['GAME_DATE'] = pd.to_datetime(all_games['GAME_DATE'])\n",
    "all_games = all_games.sort_values(by = [\"GAME_DATE\", \"GAME_ID\"], ascending = True)\n",
    "all_games.head()"
   ]
  },
  {
   "source": [
    "### Output df to csv file"
   ],
   "cell_type": "markdown",
   "metadata": {}
  },
  {
   "cell_type": "code",
   "execution_count": 15,
   "metadata": {},
   "outputs": [],
   "source": [
    "all_games.to_csv('../data/annual_data/annual_nba_data.csv', index=False)"
   ]
  },
  {
   "source": [],
   "cell_type": "markdown",
   "metadata": {}
  },
  {
   "source": [
    "# Data Processing"
   ],
   "cell_type": "markdown",
   "metadata": {}
  },
  {
   "cell_type": "code",
   "execution_count": 223,
   "metadata": {},
   "outputs": [],
   "source": [
    "all_games = pd.read_csv(\"../data/annual_data/annual_nba_data.csv\")"
   ]
  },
  {
   "cell_type": "code",
   "execution_count": 224,
   "metadata": {},
   "outputs": [
    {
     "output_type": "stream",
     "name": "stdout",
     "text": [
      "Retrieving NBA teams...\nSuccesfully retrieved NBA teams.\n"
     ]
    }
   ],
   "source": [
    "nba_teams = get_nba_teams()"
   ]
  },
  {
   "cell_type": "code",
   "execution_count": 229,
   "metadata": {},
   "outputs": [],
   "source": [
    "# splitting data into different seasons\n",
    "season_ids = all_games['SEASON_ID'].unique()\n",
    "for sid in season_ids:\n",
    "    season = all_games[all_games['SEASON_ID'] == sid]\n",
    "    season.reset_index(drop=True, inplace=True)\n",
    "    \n",
    "    # change W to 1, L to 0\n",
    "    season = season.replace(['W','L'], [1, 0])\n",
    "\n",
    "    # merge 2 rows of the same game id together, A vs B and B vs A with same game id are merged\n",
    "    season_merged = season.merge(season, on='GAME_ID')\n",
    "    season_merged = season_merged.drop(season_merged[season_merged['TEAM_ID_x'] == season_merged['TEAM_ID_y']].index)\n",
    "    season_merged.drop_duplicates(subset=['GAME_ID'], inplace=True)\n",
    "\n",
    "    season_merged[['GAME_NO_x', 'GAME_NO_y']] = season_merged[['TEAM_ABBREVIATION_x', 'TEAM_ABBREVIATION_y']].apply(lambda x: update_GAME_NO(team_stats, *x), axis=1, result_type='expand')\n",
    "    season_merged[['cPTS_x', 'cPTS_y']] = season_merged[['TEAM_ABBREVIATION_x', 'TEAM_ABBREVIATION_y', 'PTS_x', 'PTS_y']].apply(lambda x: update_cPTS(team_stats, *x), axis=1, result_type='expand')\n",
    "    season_merged[['cPTS_ALLOWED_x', 'cPTS_ALLOWED_y']] = season_merged[['TEAM_ABBREVIATION_x', 'TEAM_ABBREVIATION_y', 'PTS_y', 'PTS_x']].apply(lambda x: update_cPTS_ALLOWED(team_stats, *x), axis=1, result_type='expand')\n",
    "    season_merged[['cAST_x', 'cAST_y']] = season_merged[['TEAM_ABBREVIATION_x', 'TEAM_ABBREVIATION_y', 'AST_x', 'AST_y']].apply(lambda x: update_cAST(team_stats, *x), axis=1, result_type='expand')\n",
    "    season_merged[['cOREB_x', 'cOREB_y']] = season_merged[['TEAM_ABBREVIATION_x', 'TEAM_ABBREVIATION_y', 'OREB_x', 'OREB_y']].apply(lambda x: update_cOREB(team_stats, *x), axis=1, result_type='expand')\n",
    "    season_merged[['cDREB_x', 'cDREB_y']] = season_merged[['TEAM_ABBREVIATION_x', 'TEAM_ABBREVIATION_y', 'DREB_x', 'DREB_y']].apply(lambda x: update_cDREB(team_stats, *x), axis=1, result_type='expand')\n",
    "    season_merged[['cFGM_x', 'cFGM_y']] = season_merged[['TEAM_ABBREVIATION_x', 'TEAM_ABBREVIATION_y', 'FGM_x', 'FGM_y']].apply(lambda x: update_cFGM(team_stats, *x), axis=1, result_type='expand')\n",
    "    season_merged[['cFG3M_x', 'cFG3M_y']] = season_merged[['TEAM_ABBREVIATION_x', 'TEAM_ABBREVIATION_y', 'FG3M_x', 'FG3M_y']].apply(lambda x: update_cFG3M(team_stats, *x), axis=1, result_type='expand')\n",
    "    season_merged[['cFGA_x', 'cFGA_y']] = season_merged[['TEAM_ABBREVIATION_x', 'TEAM_ABBREVIATION_y', 'FGA_x', 'FGA_y']].apply(lambda x: update_cFGA(team_stats, *x), axis=1, result_type='expand')\n",
    "    season_merged[['cTO_x', 'cTO_y']] = season_merged[['TEAM_ABBREVIATION_x', 'TEAM_ABBREVIATION_y', 'TOV_x', 'TOV_y']].apply(lambda x: update_cTO(team_stats, *x), axis=1, result_type='expand')\n",
    "    season_merged[['cFTA_x', 'cFTA_y']] = season_merged[['TEAM_ABBREVIATION_x', 'TEAM_ABBREVIATION_y', 'FTA_x', 'FTA_y']].apply(lambda x: update_cFTA(team_stats, *x), axis=1, result_type='expand')\n",
    "    season_merged[['AVG_PTS_x', 'AVG_PTS_y']] = season_merged[['TEAM_ABBREVIATION_x', 'TEAM_ABBREVIATION_y','GAME_NO_x', 'GAME_NO_y', 'cPTS_x', 'cPTS_y']].apply(lambda x: update_AVG_PTS(team_stats, *x), axis=1, result_type='expand')\n",
    "    season_merged[['AVG_AST_x', 'AVG_AST_y']] = season_merged[['TEAM_ABBREVIATION_x', 'TEAM_ABBREVIATION_y','GAME_NO_x', 'GAME_NO_y', 'cAST_x', 'cAST_y']].apply(lambda x: update_AVG_AST(team_stats, *x), axis=1, result_type='expand')\n",
    "    season_merged[['AVG_OREB_x', 'AVG_OREB_y']] = season_merged[['TEAM_ABBREVIATION_x', 'TEAM_ABBREVIATION_y','GAME_NO_x', 'GAME_NO_y', 'cOREB_x', 'cOREB_y']].apply(lambda x: update_AVG_OREB(team_stats, *x), axis=1, result_type='expand')\n",
    "    season_merged[['AVG_DREB_x', 'AVG_DREB_y']] = season_merged[['TEAM_ABBREVIATION_x', 'TEAM_ABBREVIATION_y','GAME_NO_x', 'GAME_NO_y', 'cDREB_x', 'cDREB_y']].apply(lambda x: update_AVG_DREB(team_stats, *x), axis=1, result_type='expand')\n",
    "    season_merged[['OFF_EFF_x', 'OFF_EFF_y']] = season_merged[['TEAM_ABBREVIATION_x', 'TEAM_ABBREVIATION_y', 'cPTS_x', 'cPTS_y', 'cFGA_x', 'cFGA_y', 'cOREB_x', 'cOREB_y', 'cTO_x', 'cTO_y', 'cFTA_x', 'cFTA_y']].apply(lambda x: update_OFF_EFF(team_stats, *x), axis=1, result_type='expand')\n",
    "    season_merged[['DEF_EFF_x', 'DEF_EFF_y']] = season_merged[['TEAM_ABBREVIATION_x', 'TEAM_ABBREVIATION_y', 'cPTS_ALLOWED_x', 'cPTS_ALLOWED_y', 'cFGA_x', 'cFGA_y', 'cOREB_x', 'cOREB_y', 'cTO_x', 'cTO_y', 'cFTA_x', 'cFTA_y']].apply(lambda x: update_DEF_EFF(team_stats, *x), axis=1, result_type='expand')\n",
    "    season_merged[['EFG_x', 'EFG_y']] = season_merged[['TEAM_ABBREVIATION_x', 'TEAM_ABBREVIATION_y', 'cFGM_x', 'cFGM_y', 'cFG3M_x', 'cFG3M_y', 'cFGA_x', 'cFGA_y']].apply(lambda x: update_EFG(team_stats, *x), axis=1, result_type='expand')\n",
    "    season_merged[['ELO_x', 'ELO_y']] = season_merged[['TEAM_ABBREVIATION_x', 'TEAM_ABBREVIATION_y', 'WL_x']].apply(lambda x: update_ELO(team_stats, *x), axis=1, result_type='expand')\n",
    "\n",
    "    season_final_df = season_merged[['SEASON_ID_x', 'TEAM_ID_x', 'TEAM_ABBREVIATION_x', 'TEAM_NAME_x','GAME_ID', 'GAME_DATE_x', 'MATCHUP_x', 'WL_x', 'MIN_x', 'PTS_x','FGM_x', 'FGA_x', 'FG_PCT_x', 'FG3M_x', 'FG3A_x', 'FG3_PCT_x', 'FTM_x','FTA_x', 'FT_PCT_x', 'OREB_x', 'DREB_x', 'REB_x', 'AST_x', 'STL_x','BLK_x', 'TOV_x', 'PF_x', 'PLUS_MINUS_x', 'GAME_NO_x', 'cPTS_x', 'cPTS_ALLOWED_x', 'cAST_x', 'cOREB_x', 'cDREB_x', 'cFGM_x', 'cFG3M_x', 'cFGA_x','cTO_x', 'cFTA_x', 'AVG_PTS_x','AVG_AST_x', 'AVG_OREB_x', 'AVG_DREB_x', 'OFF_EFF_x', 'DEF_EFF_x','EFG_x', 'ELO_x', 'SEASON_ID_y', 'TEAM_ID_y','TEAM_ABBREVIATION_y', 'TEAM_NAME_y', 'GAME_DATE_y', 'MATCHUP_y','WL_y', 'MIN_y', 'PTS_y', 'FGM_y', 'FGA_y', 'FG_PCT_y', 'FG3M_y','FG3A_y', 'FG3_PCT_y', 'FTM_y', 'FTA_y', 'FT_PCT_y', 'OREB_y', 'DREB_y','REB_y', 'AST_y', 'STL_y', 'BLK_y', 'TOV_y', 'PF_y', 'PLUS_MINUS_y', 'GAME_NO_y', 'cPTS_y','cPTS_ALLOWED_y', 'cAST_y', 'cOREB_y','cDREB_y', 'cFGM_y', 'cFG3M_y', 'cFGA_y', 'cTO_y', 'cFTA_y', 'AVG_PTS_y', 'AVG_AST_y', 'AVG_OREB_y','AVG_DREB_y', 'OFF_EFF_y', 'DEF_EFF_y', 'EFG_y', 'ELO_y']]\n",
    "\n",
    "    season_final_df.to_csv(f\"../data/annual_data/season_{sid}_data.csv\")"
   ]
  },
  {
   "cell_type": "code",
   "execution_count": null,
   "metadata": {},
   "outputs": [],
   "source": []
  }
 ]
}