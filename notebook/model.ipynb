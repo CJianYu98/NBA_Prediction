{
 "metadata": {
  "language_info": {
   "codemirror_mode": {
    "name": "ipython",
    "version": 3
   },
   "file_extension": ".py",
   "mimetype": "text/x-python",
   "name": "python",
   "nbconvert_exporter": "python",
   "pygments_lexer": "ipython3",
   "version": "3.9.0"
  },
  "orig_nbformat": 2,
  "kernelspec": {
   "name": "python390jvsc74a57bd0aee8b7b246df8f9039afb4144a1f6fd8d2ca17a180786b69acc140d282b71a49",
   "display_name": "Python 3.9.0 64-bit"
  }
 },
 "nbformat": 4,
 "nbformat_minor": 2,
 "cells": [
  {
   "cell_type": "code",
   "execution_count": 1,
   "metadata": {},
   "outputs": [],
   "source": [
    "import pandas as pd \n",
    "import numpy as np \n",
    "from sklearn.neighbors import LocalOutlierFactor\n",
    "import statsmodels.api as sm "
   ]
  },
  {
   "cell_type": "code",
   "execution_count": 2,
   "metadata": {},
   "outputs": [],
   "source": [
    "df = pd.read_csv('../data/annual_data/season_22014_data.csv')"
   ]
  },
  {
   "cell_type": "code",
   "execution_count": 3,
   "metadata": {},
   "outputs": [
    {
     "output_type": "stream",
     "name": "stdout",
     "text": [
      "<class 'pandas.core.frame.DataFrame'>\nRangeIndex: 1230 entries, 0 to 1229\nData columns (total 94 columns):\n #   Column               Non-Null Count  Dtype  \n---  ------               --------------  -----  \n 0   Unnamed: 0           1230 non-null   int64  \n 1   SEASON_ID_x          1230 non-null   int64  \n 2   TEAM_ID_x            1230 non-null   int64  \n 3   TEAM_ABBREVIATION_x  1230 non-null   object \n 4   TEAM_NAME_x          1230 non-null   object \n 5   GAME_ID              1230 non-null   int64  \n 6   GAME_DATE_x          1230 non-null   object \n 7   MATCHUP_x            1230 non-null   object \n 8   WL_x                 1230 non-null   int64  \n 9   MIN_x                1230 non-null   int64  \n 10  PTS_x                1230 non-null   int64  \n 11  FGM_x                1230 non-null   int64  \n 12  FGA_x                1230 non-null   int64  \n 13  FG_PCT_x             1230 non-null   float64\n 14  FG3M_x               1230 non-null   int64  \n 15  FG3A_x               1230 non-null   float64\n 16  FG3_PCT_x            1230 non-null   float64\n 17  FTM_x                1230 non-null   int64  \n 18  FTA_x                1230 non-null   int64  \n 19  FT_PCT_x             1230 non-null   float64\n 20  OREB_x               1230 non-null   float64\n 21  DREB_x               1230 non-null   float64\n 22  REB_x                1230 non-null   float64\n 23  AST_x                1230 non-null   int64  \n 24  STL_x                1230 non-null   float64\n 25  BLK_x                1230 non-null   int64  \n 26  TOV_x                1230 non-null   int64  \n 27  PF_x                 1230 non-null   int64  \n 28  PLUS_MINUS_x         1230 non-null   float64\n 29  GAME_NO_x            1230 non-null   int64  \n 30  cPTS_x               1230 non-null   int64  \n 31  cPTS_ALLOWED_x       1230 non-null   int64  \n 32  cAST_x               1230 non-null   int64  \n 33  cOREB_x              1230 non-null   float64\n 34  cDREB_x              1230 non-null   float64\n 35  cFGM_x               1230 non-null   int64  \n 36  cFG3M_x              1230 non-null   int64  \n 37  cFGA_x               1230 non-null   int64  \n 38  cTO_x                1230 non-null   int64  \n 39  cFTA_x               1230 non-null   int64  \n 40  AVG_PTS_x            1230 non-null   float64\n 41  AVG_AST_x            1230 non-null   float64\n 42  AVG_OREB_x           1230 non-null   float64\n 43  AVG_DREB_x           1230 non-null   float64\n 44  OFF_EFF_x            1230 non-null   float64\n 45  DEF_EFF_x            1230 non-null   float64\n 46  EFG_x                1230 non-null   float64\n 47  ELO_x                1230 non-null   float64\n 48  SEASON_ID_y          1230 non-null   int64  \n 49  TEAM_ID_y            1230 non-null   int64  \n 50  TEAM_ABBREVIATION_y  1230 non-null   object \n 51  TEAM_NAME_y          1230 non-null   object \n 52  GAME_DATE_y          1230 non-null   object \n 53  MATCHUP_y            1230 non-null   object \n 54  WL_y                 1230 non-null   int64  \n 55  MIN_y                1230 non-null   int64  \n 56  PTS_y                1230 non-null   int64  \n 57  FGM_y                1230 non-null   int64  \n 58  FGA_y                1230 non-null   int64  \n 59  FG_PCT_y             1230 non-null   float64\n 60  FG3M_y               1230 non-null   int64  \n 61  FG3A_y               1230 non-null   float64\n 62  FG3_PCT_y            1230 non-null   float64\n 63  FTM_y                1230 non-null   int64  \n 64  FTA_y                1230 non-null   int64  \n 65  FT_PCT_y             1230 non-null   float64\n 66  OREB_y               1230 non-null   float64\n 67  DREB_y               1230 non-null   float64\n 68  REB_y                1230 non-null   float64\n 69  AST_y                1230 non-null   int64  \n 70  STL_y                1230 non-null   float64\n 71  BLK_y                1230 non-null   int64  \n 72  TOV_y                1230 non-null   int64  \n 73  PF_y                 1230 non-null   int64  \n 74  PLUS_MINUS_y         1230 non-null   float64\n 75  GAME_NO_y            1230 non-null   int64  \n 76  cPTS_y               1230 non-null   int64  \n 77  cPTS_ALLOWED_y       1230 non-null   int64  \n 78  cAST_y               1230 non-null   int64  \n 79  cOREB_y              1230 non-null   float64\n 80  cDREB_y              1230 non-null   float64\n 81  cFGM_y               1230 non-null   int64  \n 82  cFG3M_y              1230 non-null   int64  \n 83  cFGA_y               1230 non-null   int64  \n 84  cTO_y                1230 non-null   int64  \n 85  cFTA_y               1230 non-null   int64  \n 86  AVG_PTS_y            1230 non-null   float64\n 87  AVG_AST_y            1230 non-null   float64\n 88  AVG_OREB_y           1230 non-null   float64\n 89  AVG_DREB_y           1230 non-null   float64\n 90  OFF_EFF_y            1230 non-null   float64\n 91  DEF_EFF_y            1230 non-null   float64\n 92  EFG_y                1230 non-null   float64\n 93  ELO_y                1230 non-null   float64\ndtypes: float64(38), int64(48), object(8)\nmemory usage: 903.4+ KB\n"
     ]
    }
   ],
   "source": [
    "df.info(verbose=True)"
   ]
  },
  {
   "cell_type": "code",
   "execution_count": null,
   "metadata": {},
   "outputs": [],
   "source": []
  }
 ]
}