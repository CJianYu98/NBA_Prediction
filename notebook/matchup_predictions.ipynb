{
 "metadata": {
  "language_info": {
   "codemirror_mode": {
    "name": "ipython",
    "version": 3
   },
   "file_extension": ".py",
   "mimetype": "text/x-python",
   "name": "python",
   "nbconvert_exporter": "python",
   "pygments_lexer": "ipython3",
   "version": "3.8.3"
  },
  "orig_nbformat": 2,
  "kernelspec": {
   "name": "python383jvsc74a57bd0aee8b7b246df8f9039afb4144a1f6fd8d2ca17a180786b69acc140d282b71a49",
   "display_name": "Python 3.8.3 64-bit"
  },
  "metadata": {
   "interpreter": {
    "hash": "aee8b7b246df8f9039afb4144a1f6fd8d2ca17a180786b69acc140d282b71a49"
   }
  }
 },
 "nbformat": 4,
 "nbformat_minor": 2,
 "cells": [
  {
   "cell_type": "code",
   "execution_count": 22,
   "metadata": {},
   "outputs": [],
   "source": [
    "from bs4 import BeautifulSoup\n",
    "import requests\n",
    "import pandas as pd\n",
    "import json\n"
   ]
  },
  {
   "source": [
    "# Get matchups and prediction inputs"
   ],
   "cell_type": "markdown",
   "metadata": {}
  },
  {
   "cell_type": "code",
   "execution_count": 23,
   "metadata": {},
   "outputs": [],
   "source": [
    "def get_matchups():\n",
    "    \"\"\"\n",
    "    Retrieves all the matchups from ESPN website for next day games.\n",
    "    The next day logic is implemented by checking if a gameday is found,\n",
    "    if found, the for loop breaks.\n",
    "\n",
    "    :return: a list containing matchup strings\n",
    "    :rtype: list\n",
    "    \"\"\"\n",
    "    matchup_list = []\n",
    "    game_date = ''\n",
    "    game_matchup = ''\n",
    "    url = 'https://www.espn.com.sg/nba/fixtures'\n",
    "    r = requests.get(url)\n",
    "    soup = BeautifulSoup(r.text,parser='html.parser',features=\"lxml\")\n",
    "    game_containers = soup.findAll('table', {'class':'schedule has-team-logos align-left'})\n",
    "    counter = 0\n",
    "    for game in game_containers:\n",
    "        try:\n",
    "            if 'time' in game.thead.text:\n",
    "                game_matchup = game.tbody\n",
    "                game_date = soup.findAll('div', {'id':'sched-container'})[0].findAll('h2')[counter].text\n",
    "        except AttributeError:\n",
    "            continue\n",
    "        counter += 1\n",
    "\n",
    "        if game_date != '':\n",
    "            break\n",
    "    if game_matchup == '':\n",
    "        game_date = 'No upcoming games.'\n",
    "        return matchup_list,game_date\n",
    "        \n",
    "    teams_playing = game_matchup.findAll('a', {'class':'team-name'})\n",
    "\n",
    "    # Not needed for our web app, but just filling it in here incase we need it\n",
    "    time_playing = game_matchup.findAll('td', {'data-behavior':'date_time'})\n",
    "\n",
    "    error_name = {\n",
    "            \"GS\":\"GSW\",\n",
    "            \"SA\":\"SAS\",\n",
    "            \"WSH\":\"WAS\",\n",
    "            \"NO\":\"NOP\",\n",
    "            \"UTAH\":\"UTA\",\n",
    "            \"NY\":\"NYK\"\n",
    "        }\n",
    "\n",
    "    for i in range(0,len(teams_playing),2):\n",
    "        away = teams_playing[i].text.split()[-1]\n",
    "        home = teams_playing[i+1].text.split()[-1]\n",
    "        if away in error_name:\n",
    "            away = error_name[away]\n",
    "        if home in error_name:\n",
    "            home = error_name[home]\n",
    "        matchup_string = '{} (away) vs. {} (home)'.format(away, home)\n",
    "        matchup_list.append(matchup_string)\n",
    "    return matchup_list, game_date\n",
    "\n",
    "def get_team_stats(home_team, away_team):\n",
    "    \"\"\"\n",
    "    Retrieves both teams stats from \"team_stats.json\".\n",
    "    Calculate disparities between teams stats.\n",
    "\n",
    "    :return: match prediction inputs\n",
    "    :rtype: df\n",
    "    \"\"\"\n",
    "    with open(\"../data/team_stats.json\", \"r\") as jsonFile:\n",
    "        data = json.load(jsonFile)\n",
    "\n",
    "    df = pd.DataFrame()\n",
    "    \n",
    "    df[\"HOME_TEAM\"] = [home_team]\n",
    "    df[\"AVG_PTS_x\"] = [data[home_team][\"AVG_PTS\"]]\n",
    "    df[\"AVG_AST_x\"] = [data[home_team][\"AVG_AST\"]]\n",
    "    df[\"AVG_OREB_x\"] = [data[home_team][\"AVG_OREB\"]]\n",
    "    df[\"AVG_DREB_x\"] = [data[home_team][\"AVG_DREB\"]]\n",
    "    df[\"OFFRATE_x\"] = [data[home_team][\"OFFRATE\"]]\n",
    "    df[\"DEFRATE_x\"] = [data[home_team][\"DEFRATE\"]]\n",
    "    df[\"ELO_x\"] = [data[home_team][\"ELO\"]]\n",
    "    \n",
    "    df[\"AWAY_TEAM\"] = [away_team]\n",
    "    df[\"AVG_PTS_y\"] = [data[away_team][\"AVG_PTS\"]]\n",
    "    df[\"AVG_AST_y\"] = [data[away_team][\"AVG_AST\"]]\n",
    "    df[\"AVG_OREB_y\"] = [data[away_team][\"AVG_OREB\"]]\n",
    "    df[\"AVG_DREB_y\"] = [data[away_team][\"AVG_DREB\"]]\n",
    "    df[\"OFFRATE_y\"] = [data[away_team][\"OFFRATE\"]]\n",
    "    df[\"DEFRATE_y\"] = [data[away_team][\"DEFRATE\"]]\n",
    "    df[\"ELO_y\"] = [data[away_team][\"ELO\"]]\n",
    "    \n",
    "    df[\"DIS_PTS\"] = [df[\"AVG_PTS_x\"][0] - df[\"AVG_PTS_y\"][0]]\n",
    "    df[\"DIS_AST\"] = [df[\"AVG_AST_x\"][0] - df[\"AVG_AST_y\"][0]]\n",
    "    df[\"DIS_OREB\"] = [df[\"AVG_OREB_x\"][0] - df[\"AVG_OREB_y\"][0]]\n",
    "    df[\"DIS_DREB\"] = [df[\"AVG_DREB_x\"][0] - df[\"AVG_DREB_y\"][0]]\n",
    "    df[\"DIS_OFFRATE\"] = [df[\"OFFRATE_x\"][0] - df[\"OFFRATE_y\"][0]]\n",
    "    df[\"DIS_DEFRATE\"] = [df[\"DEFRATE_x\"][0] - df[\"DEFRATE_y\"][0]]\n",
    "    df[\"DIS_ELO\"] = [df[\"ELO_x\"][0] - df[\"ELO_y\"][0]]\n",
    "    \n",
    "    return df"
   ]
  },
  {
   "cell_type": "code",
   "execution_count": 24,
   "metadata": {},
   "outputs": [
    {
     "output_type": "execute_result",
     "data": {
      "text/plain": [
       "(['DEN (away) vs. CHA (home)',\n",
       "  'MIN (away) vs. DET (home)',\n",
       "  'MIA (away) vs. BOS (home)',\n",
       "  'LAC (away) vs. TOR (home)',\n",
       "  'PHI (away) vs. IND (home)',\n",
       "  'BKN (away) vs. CHI (home)',\n",
       "  'DAL (away) vs. MEM (home)',\n",
       "  'ORL (away) vs. MIL (home)',\n",
       "  'PHX (away) vs. GSW (home)',\n",
       "  'OKC (away) vs. SAC (home)',\n",
       "  'NYK (away) vs. LAL (home)'],\n",
       " 'Tuesday, May 11')"
      ]
     },
     "metadata": {},
     "execution_count": 24
    }
   ],
   "source": [
    "matchups, game_date = get_matchups()\n",
    "matchups, game_date"
   ]
  },
  {
   "cell_type": "code",
   "execution_count": 32,
   "metadata": {},
   "outputs": [
    {
     "output_type": "execute_result",
     "data": {
      "text/plain": [
       "  HOME_TEAM   AVG_PTS_x  AVG_AST_x  AVG_OREB_x  AVG_DREB_x  OFFRATE_x  \\\n",
       "0       BOS  112.911765       23.5       10.75   33.632353   1.130314   \n",
       "\n",
       "   DEFRATE_x        ELO_x AWAY_TEAM   AVG_PTS_y  ...  OFFRATE_y  DEFRATE_y  \\\n",
       "0   1.077317  1504.243538       MIA  107.617647  ...   1.103837   1.158139   \n",
       "\n",
       "         ELO_y   DIS_PTS   DIS_AST  DIS_OREB  DIS_DREB  DIS_OFFRATE  \\\n",
       "0  1549.217035  5.294118 -2.779412  2.764706  0.132353     0.026477   \n",
       "\n",
       "   DIS_DEFRATE    DIS_ELO  \n",
       "0    -0.080822 -44.973497  \n",
       "\n",
       "[1 rows x 23 columns]"
      ],
      "text/html": "<div>\n<style scoped>\n    .dataframe tbody tr th:only-of-type {\n        vertical-align: middle;\n    }\n\n    .dataframe tbody tr th {\n        vertical-align: top;\n    }\n\n    .dataframe thead th {\n        text-align: right;\n    }\n</style>\n<table border=\"1\" class=\"dataframe\">\n  <thead>\n    <tr style=\"text-align: right;\">\n      <th></th>\n      <th>HOME_TEAM</th>\n      <th>AVG_PTS_x</th>\n      <th>AVG_AST_x</th>\n      <th>AVG_OREB_x</th>\n      <th>AVG_DREB_x</th>\n      <th>OFFRATE_x</th>\n      <th>DEFRATE_x</th>\n      <th>ELO_x</th>\n      <th>AWAY_TEAM</th>\n      <th>AVG_PTS_y</th>\n      <th>...</th>\n      <th>OFFRATE_y</th>\n      <th>DEFRATE_y</th>\n      <th>ELO_y</th>\n      <th>DIS_PTS</th>\n      <th>DIS_AST</th>\n      <th>DIS_OREB</th>\n      <th>DIS_DREB</th>\n      <th>DIS_OFFRATE</th>\n      <th>DIS_DEFRATE</th>\n      <th>DIS_ELO</th>\n    </tr>\n  </thead>\n  <tbody>\n    <tr>\n      <th>0</th>\n      <td>BOS</td>\n      <td>112.911765</td>\n      <td>23.5</td>\n      <td>10.75</td>\n      <td>33.632353</td>\n      <td>1.130314</td>\n      <td>1.077317</td>\n      <td>1504.243538</td>\n      <td>MIA</td>\n      <td>107.617647</td>\n      <td>...</td>\n      <td>1.103837</td>\n      <td>1.158139</td>\n      <td>1549.217035</td>\n      <td>5.294118</td>\n      <td>-2.779412</td>\n      <td>2.764706</td>\n      <td>0.132353</td>\n      <td>0.026477</td>\n      <td>-0.080822</td>\n      <td>-44.973497</td>\n    </tr>\n  </tbody>\n</table>\n<p>1 rows × 23 columns</p>\n</div>"
     },
     "metadata": {},
     "execution_count": 32
    }
   ],
   "source": [
    "game = matchups[2]\n",
    "away = game[0:3]\n",
    "home = game[15:18]\n",
    "game_df = get_team_stats(home, away)\n",
    "game_df"
   ]
  },
  {
   "source": [
    "# Train model and make prediction"
   ],
   "cell_type": "markdown",
   "metadata": {}
  },
  {
   "cell_type": "code",
   "execution_count": 26,
   "metadata": {},
   "outputs": [],
   "source": [
    "import statsmodels.api as sm\n",
    "from sklearn.model_selection import train_test_split\n",
    "from sklearn.linear_model import LogisticRegression\n",
    "from sklearn.linear_model import LinearRegression\n",
    "from sklearn.naive_bayes import GaussianNB\n",
    "from sklearn.tree import DecisionTreeClassifier, plot_tree\n",
    "from sklearn import svm\n",
    "from sklearn.ensemble import RandomForestClassifier\n",
    "import xgboost as xgb\n",
    "\n",
    "from sklearn.metrics import mean_squared_error\n",
    "from sklearn.metrics import accuracy_score,roc_curve,auc,recall_score,f1_score,precision_score,classification_report,confusion_matrix,auc"
   ]
  },
  {
   "cell_type": "code",
   "execution_count": 27,
   "metadata": {},
   "outputs": [
    {
     "output_type": "execute_result",
     "data": {
      "text/plain": [
       "     TEAM_ABBREVIATION_x             TEAM_NAME_x   GAME_ID GAME_DATE_x  WL_x  \\\n",
       "0                    BOS          Boston Celtics  22000007  2020-12-25     0   \n",
       "1                    MIA              Miami Heat  22000005  2020-12-25     1   \n",
       "2                    MIL         Milwaukee Bucks  22000006  2020-12-25     1   \n",
       "3                    LAL      Los Angeles Lakers  22000008  2020-12-25     1   \n",
       "4                    DEN          Denver Nuggets  22000009  2020-12-25     0   \n",
       "...                  ...                     ...       ...         ...   ...   \n",
       "1004                 MEM       Memphis Grizzlies  22001028  2021-05-10     1   \n",
       "1005                 SAS       San Antonio Spurs  22001029  2021-05-10     1   \n",
       "1006                 CLE     Cleveland Cavaliers  22001027  2021-05-10     0   \n",
       "1007                 POR  Portland Trail Blazers  22001031  2021-05-10     1   \n",
       "1008                 ATL           Atlanta Hawks  22001026  2021-05-10     1   \n",
       "\n",
       "      MIN_x  PTS_x  FGM_x  FGA_x  FG_PCT_x  ...  AVG_OREB_x  AVG_OREB_y  \\\n",
       "0       241     95     37     98     0.378  ...   10.000000   13.000000   \n",
       "1       237    111     38     75     0.507  ...    7.000000    8.000000   \n",
       "2       241    138     50     90     0.556  ...   11.000000   13.000000   \n",
       "3       237    138     51     91     0.560  ...    8.000000    6.000000   \n",
       "4       238    108     37     81     0.457  ...   10.000000   11.000000   \n",
       "...     ...    ...    ...    ...       ...  ...         ...         ...   \n",
       "1004    239    115     45     91     0.495  ...   11.194030   11.764706   \n",
       "1005    239    146     56     94     0.596  ...    9.208955   10.313433   \n",
       "1006    241    102     33     93     0.355  ...   10.455882    8.970149   \n",
       "1007    240    140     47     92     0.511  ...   10.779412    9.367647   \n",
       "1008    241    125     46     96     0.479  ...   10.544118    9.676471   \n",
       "\n",
       "      AVG_DREB_x  AVG_DREB_y  OFFRATE_x  OFFRATE_y  DEFRATE_x  DEFRATE_y  \\\n",
       "0      27.000000   44.000000   1.203156   1.118068   1.193294   0.885510   \n",
       "1      36.000000   37.000000   1.013258   1.086538   1.070076   0.951923   \n",
       "2      41.000000   34.000000   1.183953   0.874558   1.193738   1.104240   \n",
       "3      37.000000   33.000000   1.044061   1.015936   1.111111   1.055777   \n",
       "4      36.000000   29.000000   1.083481   1.098485   1.101243   1.032197   \n",
       "...          ...         ...        ...        ...        ...        ...   \n",
       "1004   35.328358   35.602941   1.109989   1.131152   1.110721   1.079907   \n",
       "1005   34.552239   37.865672   1.097622   1.159508   1.164540   1.046213   \n",
       "1006   31.955882   33.656716   1.052333   1.110935   1.137916   1.140886   \n",
       "1007   33.882353   33.250000   1.157820   1.058555   1.091289   1.140911   \n",
       "1008   34.661765   35.470588   1.145573   1.102039   1.128020   1.073108   \n",
       "\n",
       "            ELO_x        ELO_y  \n",
       "0     1510.000000  1510.000000  \n",
       "1     1490.000000  1510.000000  \n",
       "2     1490.000000  1490.000000  \n",
       "3     1490.000000  1490.000000  \n",
       "4     1490.000000  1510.000000  \n",
       "...           ...          ...  \n",
       "1004  1506.687764  1488.040762  \n",
       "1005  1469.758463  1602.551441  \n",
       "1006  1340.976366  1461.999074  \n",
       "1007  1548.752937  1310.913330  \n",
       "1008  1548.822319  1523.616680  \n",
       "\n",
       "[1009 rows x 72 columns]"
      ],
      "text/html": "<div>\n<style scoped>\n    .dataframe tbody tr th:only-of-type {\n        vertical-align: middle;\n    }\n\n    .dataframe tbody tr th {\n        vertical-align: top;\n    }\n\n    .dataframe thead th {\n        text-align: right;\n    }\n</style>\n<table border=\"1\" class=\"dataframe\">\n  <thead>\n    <tr style=\"text-align: right;\">\n      <th></th>\n      <th>TEAM_ABBREVIATION_x</th>\n      <th>TEAM_NAME_x</th>\n      <th>GAME_ID</th>\n      <th>GAME_DATE_x</th>\n      <th>WL_x</th>\n      <th>MIN_x</th>\n      <th>PTS_x</th>\n      <th>FGM_x</th>\n      <th>FGA_x</th>\n      <th>FG_PCT_x</th>\n      <th>...</th>\n      <th>AVG_OREB_x</th>\n      <th>AVG_OREB_y</th>\n      <th>AVG_DREB_x</th>\n      <th>AVG_DREB_y</th>\n      <th>OFFRATE_x</th>\n      <th>OFFRATE_y</th>\n      <th>DEFRATE_x</th>\n      <th>DEFRATE_y</th>\n      <th>ELO_x</th>\n      <th>ELO_y</th>\n    </tr>\n  </thead>\n  <tbody>\n    <tr>\n      <th>0</th>\n      <td>BOS</td>\n      <td>Boston Celtics</td>\n      <td>22000007</td>\n      <td>2020-12-25</td>\n      <td>0</td>\n      <td>241</td>\n      <td>95</td>\n      <td>37</td>\n      <td>98</td>\n      <td>0.378</td>\n      <td>...</td>\n      <td>10.000000</td>\n      <td>13.000000</td>\n      <td>27.000000</td>\n      <td>44.000000</td>\n      <td>1.203156</td>\n      <td>1.118068</td>\n      <td>1.193294</td>\n      <td>0.885510</td>\n      <td>1510.000000</td>\n      <td>1510.000000</td>\n    </tr>\n    <tr>\n      <th>1</th>\n      <td>MIA</td>\n      <td>Miami Heat</td>\n      <td>22000005</td>\n      <td>2020-12-25</td>\n      <td>1</td>\n      <td>237</td>\n      <td>111</td>\n      <td>38</td>\n      <td>75</td>\n      <td>0.507</td>\n      <td>...</td>\n      <td>7.000000</td>\n      <td>8.000000</td>\n      <td>36.000000</td>\n      <td>37.000000</td>\n      <td>1.013258</td>\n      <td>1.086538</td>\n      <td>1.070076</td>\n      <td>0.951923</td>\n      <td>1490.000000</td>\n      <td>1510.000000</td>\n    </tr>\n    <tr>\n      <th>2</th>\n      <td>MIL</td>\n      <td>Milwaukee Bucks</td>\n      <td>22000006</td>\n      <td>2020-12-25</td>\n      <td>1</td>\n      <td>241</td>\n      <td>138</td>\n      <td>50</td>\n      <td>90</td>\n      <td>0.556</td>\n      <td>...</td>\n      <td>11.000000</td>\n      <td>13.000000</td>\n      <td>41.000000</td>\n      <td>34.000000</td>\n      <td>1.183953</td>\n      <td>0.874558</td>\n      <td>1.193738</td>\n      <td>1.104240</td>\n      <td>1490.000000</td>\n      <td>1490.000000</td>\n    </tr>\n    <tr>\n      <th>3</th>\n      <td>LAL</td>\n      <td>Los Angeles Lakers</td>\n      <td>22000008</td>\n      <td>2020-12-25</td>\n      <td>1</td>\n      <td>237</td>\n      <td>138</td>\n      <td>51</td>\n      <td>91</td>\n      <td>0.560</td>\n      <td>...</td>\n      <td>8.000000</td>\n      <td>6.000000</td>\n      <td>37.000000</td>\n      <td>33.000000</td>\n      <td>1.044061</td>\n      <td>1.015936</td>\n      <td>1.111111</td>\n      <td>1.055777</td>\n      <td>1490.000000</td>\n      <td>1490.000000</td>\n    </tr>\n    <tr>\n      <th>4</th>\n      <td>DEN</td>\n      <td>Denver Nuggets</td>\n      <td>22000009</td>\n      <td>2020-12-25</td>\n      <td>0</td>\n      <td>238</td>\n      <td>108</td>\n      <td>37</td>\n      <td>81</td>\n      <td>0.457</td>\n      <td>...</td>\n      <td>10.000000</td>\n      <td>11.000000</td>\n      <td>36.000000</td>\n      <td>29.000000</td>\n      <td>1.083481</td>\n      <td>1.098485</td>\n      <td>1.101243</td>\n      <td>1.032197</td>\n      <td>1490.000000</td>\n      <td>1510.000000</td>\n    </tr>\n    <tr>\n      <th>...</th>\n      <td>...</td>\n      <td>...</td>\n      <td>...</td>\n      <td>...</td>\n      <td>...</td>\n      <td>...</td>\n      <td>...</td>\n      <td>...</td>\n      <td>...</td>\n      <td>...</td>\n      <td>...</td>\n      <td>...</td>\n      <td>...</td>\n      <td>...</td>\n      <td>...</td>\n      <td>...</td>\n      <td>...</td>\n      <td>...</td>\n      <td>...</td>\n      <td>...</td>\n      <td>...</td>\n    </tr>\n    <tr>\n      <th>1004</th>\n      <td>MEM</td>\n      <td>Memphis Grizzlies</td>\n      <td>22001028</td>\n      <td>2021-05-10</td>\n      <td>1</td>\n      <td>239</td>\n      <td>115</td>\n      <td>45</td>\n      <td>91</td>\n      <td>0.495</td>\n      <td>...</td>\n      <td>11.194030</td>\n      <td>11.764706</td>\n      <td>35.328358</td>\n      <td>35.602941</td>\n      <td>1.109989</td>\n      <td>1.131152</td>\n      <td>1.110721</td>\n      <td>1.079907</td>\n      <td>1506.687764</td>\n      <td>1488.040762</td>\n    </tr>\n    <tr>\n      <th>1005</th>\n      <td>SAS</td>\n      <td>San Antonio Spurs</td>\n      <td>22001029</td>\n      <td>2021-05-10</td>\n      <td>1</td>\n      <td>239</td>\n      <td>146</td>\n      <td>56</td>\n      <td>94</td>\n      <td>0.596</td>\n      <td>...</td>\n      <td>9.208955</td>\n      <td>10.313433</td>\n      <td>34.552239</td>\n      <td>37.865672</td>\n      <td>1.097622</td>\n      <td>1.159508</td>\n      <td>1.164540</td>\n      <td>1.046213</td>\n      <td>1469.758463</td>\n      <td>1602.551441</td>\n    </tr>\n    <tr>\n      <th>1006</th>\n      <td>CLE</td>\n      <td>Cleveland Cavaliers</td>\n      <td>22001027</td>\n      <td>2021-05-10</td>\n      <td>0</td>\n      <td>241</td>\n      <td>102</td>\n      <td>33</td>\n      <td>93</td>\n      <td>0.355</td>\n      <td>...</td>\n      <td>10.455882</td>\n      <td>8.970149</td>\n      <td>31.955882</td>\n      <td>33.656716</td>\n      <td>1.052333</td>\n      <td>1.110935</td>\n      <td>1.137916</td>\n      <td>1.140886</td>\n      <td>1340.976366</td>\n      <td>1461.999074</td>\n    </tr>\n    <tr>\n      <th>1007</th>\n      <td>POR</td>\n      <td>Portland Trail Blazers</td>\n      <td>22001031</td>\n      <td>2021-05-10</td>\n      <td>1</td>\n      <td>240</td>\n      <td>140</td>\n      <td>47</td>\n      <td>92</td>\n      <td>0.511</td>\n      <td>...</td>\n      <td>10.779412</td>\n      <td>9.367647</td>\n      <td>33.882353</td>\n      <td>33.250000</td>\n      <td>1.157820</td>\n      <td>1.058555</td>\n      <td>1.091289</td>\n      <td>1.140911</td>\n      <td>1548.752937</td>\n      <td>1310.913330</td>\n    </tr>\n    <tr>\n      <th>1008</th>\n      <td>ATL</td>\n      <td>Atlanta Hawks</td>\n      <td>22001026</td>\n      <td>2021-05-10</td>\n      <td>1</td>\n      <td>241</td>\n      <td>125</td>\n      <td>46</td>\n      <td>96</td>\n      <td>0.479</td>\n      <td>...</td>\n      <td>10.544118</td>\n      <td>9.676471</td>\n      <td>34.661765</td>\n      <td>35.470588</td>\n      <td>1.145573</td>\n      <td>1.102039</td>\n      <td>1.128020</td>\n      <td>1.073108</td>\n      <td>1548.822319</td>\n      <td>1523.616680</td>\n    </tr>\n  </tbody>\n</table>\n<p>1009 rows × 72 columns</p>\n</div>"
     },
     "metadata": {},
     "execution_count": 27
    }
   ],
   "source": [
    "df = pd.read_csv(\"../data/season_history.csv\")\n",
    "df"
   ]
  },
  {
   "cell_type": "code",
   "execution_count": 28,
   "metadata": {},
   "outputs": [
    {
     "output_type": "execute_result",
     "data": {
      "text/plain": [
       "(     TEAM_ABBREVIATION_x             TEAM_NAME_x   GAME_ID GAME_DATE_x  WL_x  \\\n",
       " 0                    BOS          Boston Celtics  22000007  2020-12-25     0   \n",
       " 1                    MIA              Miami Heat  22000005  2020-12-25     1   \n",
       " 2                    MIL         Milwaukee Bucks  22000006  2020-12-25     1   \n",
       " 3                    LAL      Los Angeles Lakers  22000008  2020-12-25     1   \n",
       " 4                    DEN          Denver Nuggets  22000009  2020-12-25     0   \n",
       " ...                  ...                     ...       ...         ...   ...   \n",
       " 1004                 MEM       Memphis Grizzlies  22001028  2021-05-10     1   \n",
       " 1005                 SAS       San Antonio Spurs  22001029  2021-05-10     1   \n",
       " 1006                 CLE     Cleveland Cavaliers  22001027  2021-05-10     0   \n",
       " 1007                 POR  Portland Trail Blazers  22001031  2021-05-10     1   \n",
       " 1008                 ATL           Atlanta Hawks  22001026  2021-05-10     1   \n",
       " \n",
       "       MIN_x  PTS_x  FGM_x  FGA_x  FG_PCT_x  ...  AVG_OREB_x  AVG_OREB_y  \\\n",
       " 0       241     95     37     98     0.378  ...   10.000000   13.000000   \n",
       " 1       237    111     38     75     0.507  ...    7.000000    8.000000   \n",
       " 2       241    138     50     90     0.556  ...   11.000000   13.000000   \n",
       " 3       237    138     51     91     0.560  ...    8.000000    6.000000   \n",
       " 4       238    108     37     81     0.457  ...   10.000000   11.000000   \n",
       " ...     ...    ...    ...    ...       ...  ...         ...         ...   \n",
       " 1004    239    115     45     91     0.495  ...   11.194030   11.764706   \n",
       " 1005    239    146     56     94     0.596  ...    9.208955   10.313433   \n",
       " 1006    241    102     33     93     0.355  ...   10.455882    8.970149   \n",
       " 1007    240    140     47     92     0.511  ...   10.779412    9.367647   \n",
       " 1008    241    125     46     96     0.479  ...   10.544118    9.676471   \n",
       " \n",
       "       AVG_DREB_x  AVG_DREB_y  OFFRATE_x  OFFRATE_y  DEFRATE_x  DEFRATE_y  \\\n",
       " 0      27.000000   44.000000   1.203156   1.118068   1.193294   0.885510   \n",
       " 1      36.000000   37.000000   1.013258   1.086538   1.070076   0.951923   \n",
       " 2      41.000000   34.000000   1.183953   0.874558   1.193738   1.104240   \n",
       " 3      37.000000   33.000000   1.044061   1.015936   1.111111   1.055777   \n",
       " 4      36.000000   29.000000   1.083481   1.098485   1.101243   1.032197   \n",
       " ...          ...         ...        ...        ...        ...        ...   \n",
       " 1004   35.328358   35.602941   1.109989   1.131152   1.110721   1.079907   \n",
       " 1005   34.552239   37.865672   1.097622   1.159508   1.164540   1.046213   \n",
       " 1006   31.955882   33.656716   1.052333   1.110935   1.137916   1.140886   \n",
       " 1007   33.882353   33.250000   1.157820   1.058555   1.091289   1.140911   \n",
       " 1008   34.661765   35.470588   1.145573   1.102039   1.128020   1.073108   \n",
       " \n",
       "             ELO_x        ELO_y  \n",
       " 0     1510.000000  1510.000000  \n",
       " 1     1490.000000  1510.000000  \n",
       " 2     1490.000000  1490.000000  \n",
       " 3     1490.000000  1490.000000  \n",
       " 4     1490.000000  1510.000000  \n",
       " ...           ...          ...  \n",
       " 1004  1506.687764  1488.040762  \n",
       " 1005  1469.758463  1602.551441  \n",
       " 1006  1340.976366  1461.999074  \n",
       " 1007  1548.752937  1310.913330  \n",
       " 1008  1548.822319  1523.616680  \n",
       " \n",
       " [1009 rows x 72 columns],\n",
       " ['DIS_ELO', 'DIS_OFFRATE'])"
      ]
     },
     "metadata": {},
     "execution_count": 28
    }
   ],
   "source": [
    "features_list = ['DIS_ELO', 'DIS_OFFRATE', 'DIS_DEFRATE', 'DIS_PTS', 'DIS_AST', 'DIS_OREB', 'DIS_DREB']\n",
    "target = 'WL_x'\n",
    "\n",
    "# Creating our independent and dependent variables\n",
    "x = df[features_list]\n",
    "y = df['PLUS_MINUS_x']\n",
    "\n",
    "model = sm.OLS(y,x)\n",
    "results = model.fit()\n",
    "\n",
    "features_list = []\n",
    "for i in range(len(x.keys())):\n",
    "    if results.pvalues[i] <= 0.05:\n",
    "        features_list.append(model.exog_names[i])\n",
    "        \n",
    "df, features_list"
   ]
  },
  {
   "cell_type": "code",
   "execution_count": 34,
   "metadata": {},
   "outputs": [
    {
     "output_type": "stream",
     "name": "stdout",
     "text": [
      "Linear Regression: 1.0\n",
      "Logistic Regression: 0\n",
      "Naive Bayes: 1\n",
      "SVM linear: 0\n",
      "SVM rbf: 0\n",
      "Average outcome score: 0.4\n",
      "Predicted Outcome: 0\n"
     ]
    }
   ],
   "source": [
    "models_dict = {\n",
    "        'Linear Regression': LinearRegression(),\n",
    "        'Logistic Regression':LogisticRegression(),\n",
    "        'Naive Bayes':GaussianNB(),\n",
    "        # 'Decision Trees':DecisionTreeClassifier(),\n",
    "        'SVM linear': svm.SVC(kernel='linear'),\n",
    "        'SVM rbf': svm.SVC(kernel='rbf'),\n",
    "        # 'Random Forest': RandomForestClassifier(n_estimators = 100),\n",
    "        # 'XGBoost': xgb.XGBClassifier(use_label_encoder=False)\n",
    "    }\n",
    "    \n",
    "prediction_data = {} # store prediction for each model \n",
    "\n",
    "for model_name in models_dict:\n",
    "    X_train = df[features_list]\n",
    "    X_test = game_df[features_list]\n",
    "    y_train = df['WL_x']\n",
    "    \n",
    "    m = models_dict[model_name]\n",
    "\n",
    "    if model_name == 'Linear Regression':\n",
    "        y_train = df['PLUS_MINUS_x']\n",
    "    \n",
    "    m.fit(X_train, y_train)\n",
    "    prediction = m.predict(X_test)\n",
    "\n",
    "    if model_name == 'Linear Regression':\n",
    "        if prediction[0] > 0:\n",
    "            prediction[0] = 1\n",
    "        else:\n",
    "            prediction[0] = 0\n",
    "                    \n",
    "    prediction_data[model_name] = prediction[0]\n",
    "    \n",
    "    print(model_name + ':', prediction[0])\n",
    "\n",
    "final_prediction = 0\n",
    "for k, v in prediction_data.items():\n",
    "    final_prediction += v\n",
    "\n",
    "final_prediction = final_prediction / 5\n",
    "print('Average outcome score:', final_prediction)\n",
    "print('Predicted Outcome:', round(final_prediction))"
   ]
  },
  {
   "cell_type": "code",
   "execution_count": null,
   "metadata": {},
   "outputs": [],
   "source": []
  }
 ]
}