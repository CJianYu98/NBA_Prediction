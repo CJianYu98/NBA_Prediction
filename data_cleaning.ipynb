{
 "metadata": {
  "language_info": {
   "codemirror_mode": {
    "name": "ipython",
    "version": 3
   },
   "file_extension": ".py",
   "mimetype": "text/x-python",
   "name": "python",
   "nbconvert_exporter": "python",
   "pygments_lexer": "ipython3",
   "version": "3.8.3"
  },
  "orig_nbformat": 2,
  "kernelspec": {
   "name": "python3",
   "display_name": "Python 3.8.3 64-bit",
   "metadata": {
    "interpreter": {
     "hash": "aee8b7b246df8f9039afb4144a1f6fd8d2ca17a180786b69acc140d282b71a49"
    }
   }
  }
 },
 "nbformat": 4,
 "nbformat_minor": 2,
 "cells": [
  {
   "cell_type": "code",
   "execution_count": 1,
   "metadata": {},
   "outputs": [],
   "source": [
    "import pandas as pd"
   ]
  },
  {
   "cell_type": "code",
   "execution_count": 2,
   "metadata": {},
   "outputs": [
    {
     "output_type": "execute_result",
     "data": {
      "text/plain": [
       "      Unnamed: 0  SEASON_ID     TEAM_ID TEAM_ABBREVIATION  \\\n",
       "0              0      22020  1610612738               BOS   \n",
       "1              0      22020  1610612766               CHA   \n",
       "2              0      22020  1610612755               PHI   \n",
       "3              0      22020  1610612745               HOU   \n",
       "4              0      22020  1610612741               CHI   \n",
       "...          ...        ...         ...               ...   \n",
       "1993          66      22020  1610612748               MIA   \n",
       "1994          66      22020  1610612746               LAC   \n",
       "1995          66      22020  1610612751               BKN   \n",
       "1996          66      22020  1610612747               LAL   \n",
       "1997          66      22020  1610612744               GSW   \n",
       "\n",
       "                  TEAM_NAME   GAME_ID   GAME_DATE      MATCHUP WL  MIN  ...  \\\n",
       "0            Boston Celtics  22000160  2021-05-07    BOS @ CHI  L  239  ...   \n",
       "1         Charlotte Hornets  22001004  2021-05-07  CHA vs. ORL  W  241  ...   \n",
       "2        Philadelphia 76ers  22001003  2021-05-07  PHI vs. NOP  W  240  ...   \n",
       "3           Houston Rockets  22001006  2021-05-07    HOU @ MIL  L  239  ...   \n",
       "4             Chicago Bulls  22000160  2021-05-07  CHI vs. BOS  W  242  ...   \n",
       "...                     ...       ...         ...          ... ..  ...  ...   \n",
       "1993             Miami Heat  22000012  2020-12-23    MIA @ ORL  L  241  ...   \n",
       "1994            LA Clippers  22000002  2020-12-22    LAC @ LAL  W  241  ...   \n",
       "1995          Brooklyn Nets  22000001  2020-12-22  BKN vs. GSW  W  242  ...   \n",
       "1996     Los Angeles Lakers  22000002  2020-12-22  LAL vs. LAC  L  240  ...   \n",
       "1997  Golden State Warriors  22000001  2020-12-22    GSW @ BKN  L  240  ...   \n",
       "\n",
       "      FT_PCT  OREB  DREB   REB  AST   STL  BLK  TOV  PF  PLUS_MINUS  \n",
       "0      0.783  11.0  36.0  47.0   19   5.0    8   13  15       -23.2  \n",
       "1      0.758  11.0  40.0  51.0   28   5.0    4   10  23         9.6  \n",
       "2      0.818  10.0  41.0  51.0   27   5.0    6   15  19         4.8  \n",
       "3      0.667   7.0  30.0  37.0   36  10.0    5   16  21        -8.0  \n",
       "4      0.944  15.0  37.0  52.0   26  10.0    4    9  20        26.0  \n",
       "...      ...   ...   ...   ...  ...   ...  ...  ...  ..         ...  \n",
       "1993   0.842   7.0  36.0  43.0   25  11.0    2   22  21        -6.0  \n",
       "1994   0.737  11.0  29.0  40.0   22  10.0    3   16  29         7.0  \n",
       "1995   0.813  13.0  44.0  57.0   24  11.0    7   20  22        26.0  \n",
       "1996   0.774   8.0  37.0  45.0   22   4.0    2   19  20        -7.0  \n",
       "1997   0.652  13.0  34.0  47.0   26   6.0    6   18  24       -26.0  \n",
       "\n",
       "[1998 rows x 29 columns]"
      ],
      "text/html": "<div>\n<style scoped>\n    .dataframe tbody tr th:only-of-type {\n        vertical-align: middle;\n    }\n\n    .dataframe tbody tr th {\n        vertical-align: top;\n    }\n\n    .dataframe thead th {\n        text-align: right;\n    }\n</style>\n<table border=\"1\" class=\"dataframe\">\n  <thead>\n    <tr style=\"text-align: right;\">\n      <th></th>\n      <th>Unnamed: 0</th>\n      <th>SEASON_ID</th>\n      <th>TEAM_ID</th>\n      <th>TEAM_ABBREVIATION</th>\n      <th>TEAM_NAME</th>\n      <th>GAME_ID</th>\n      <th>GAME_DATE</th>\n      <th>MATCHUP</th>\n      <th>WL</th>\n      <th>MIN</th>\n      <th>...</th>\n      <th>FT_PCT</th>\n      <th>OREB</th>\n      <th>DREB</th>\n      <th>REB</th>\n      <th>AST</th>\n      <th>STL</th>\n      <th>BLK</th>\n      <th>TOV</th>\n      <th>PF</th>\n      <th>PLUS_MINUS</th>\n    </tr>\n  </thead>\n  <tbody>\n    <tr>\n      <th>0</th>\n      <td>0</td>\n      <td>22020</td>\n      <td>1610612738</td>\n      <td>BOS</td>\n      <td>Boston Celtics</td>\n      <td>22000160</td>\n      <td>2021-05-07</td>\n      <td>BOS @ CHI</td>\n      <td>L</td>\n      <td>239</td>\n      <td>...</td>\n      <td>0.783</td>\n      <td>11.0</td>\n      <td>36.0</td>\n      <td>47.0</td>\n      <td>19</td>\n      <td>5.0</td>\n      <td>8</td>\n      <td>13</td>\n      <td>15</td>\n      <td>-23.2</td>\n    </tr>\n    <tr>\n      <th>1</th>\n      <td>0</td>\n      <td>22020</td>\n      <td>1610612766</td>\n      <td>CHA</td>\n      <td>Charlotte Hornets</td>\n      <td>22001004</td>\n      <td>2021-05-07</td>\n      <td>CHA vs. ORL</td>\n      <td>W</td>\n      <td>241</td>\n      <td>...</td>\n      <td>0.758</td>\n      <td>11.0</td>\n      <td>40.0</td>\n      <td>51.0</td>\n      <td>28</td>\n      <td>5.0</td>\n      <td>4</td>\n      <td>10</td>\n      <td>23</td>\n      <td>9.6</td>\n    </tr>\n    <tr>\n      <th>2</th>\n      <td>0</td>\n      <td>22020</td>\n      <td>1610612755</td>\n      <td>PHI</td>\n      <td>Philadelphia 76ers</td>\n      <td>22001003</td>\n      <td>2021-05-07</td>\n      <td>PHI vs. NOP</td>\n      <td>W</td>\n      <td>240</td>\n      <td>...</td>\n      <td>0.818</td>\n      <td>10.0</td>\n      <td>41.0</td>\n      <td>51.0</td>\n      <td>27</td>\n      <td>5.0</td>\n      <td>6</td>\n      <td>15</td>\n      <td>19</td>\n      <td>4.8</td>\n    </tr>\n    <tr>\n      <th>3</th>\n      <td>0</td>\n      <td>22020</td>\n      <td>1610612745</td>\n      <td>HOU</td>\n      <td>Houston Rockets</td>\n      <td>22001006</td>\n      <td>2021-05-07</td>\n      <td>HOU @ MIL</td>\n      <td>L</td>\n      <td>239</td>\n      <td>...</td>\n      <td>0.667</td>\n      <td>7.0</td>\n      <td>30.0</td>\n      <td>37.0</td>\n      <td>36</td>\n      <td>10.0</td>\n      <td>5</td>\n      <td>16</td>\n      <td>21</td>\n      <td>-8.0</td>\n    </tr>\n    <tr>\n      <th>4</th>\n      <td>0</td>\n      <td>22020</td>\n      <td>1610612741</td>\n      <td>CHI</td>\n      <td>Chicago Bulls</td>\n      <td>22000160</td>\n      <td>2021-05-07</td>\n      <td>CHI vs. BOS</td>\n      <td>W</td>\n      <td>242</td>\n      <td>...</td>\n      <td>0.944</td>\n      <td>15.0</td>\n      <td>37.0</td>\n      <td>52.0</td>\n      <td>26</td>\n      <td>10.0</td>\n      <td>4</td>\n      <td>9</td>\n      <td>20</td>\n      <td>26.0</td>\n    </tr>\n    <tr>\n      <th>...</th>\n      <td>...</td>\n      <td>...</td>\n      <td>...</td>\n      <td>...</td>\n      <td>...</td>\n      <td>...</td>\n      <td>...</td>\n      <td>...</td>\n      <td>...</td>\n      <td>...</td>\n      <td>...</td>\n      <td>...</td>\n      <td>...</td>\n      <td>...</td>\n      <td>...</td>\n      <td>...</td>\n      <td>...</td>\n      <td>...</td>\n      <td>...</td>\n      <td>...</td>\n      <td>...</td>\n    </tr>\n    <tr>\n      <th>1993</th>\n      <td>66</td>\n      <td>22020</td>\n      <td>1610612748</td>\n      <td>MIA</td>\n      <td>Miami Heat</td>\n      <td>22000012</td>\n      <td>2020-12-23</td>\n      <td>MIA @ ORL</td>\n      <td>L</td>\n      <td>241</td>\n      <td>...</td>\n      <td>0.842</td>\n      <td>7.0</td>\n      <td>36.0</td>\n      <td>43.0</td>\n      <td>25</td>\n      <td>11.0</td>\n      <td>2</td>\n      <td>22</td>\n      <td>21</td>\n      <td>-6.0</td>\n    </tr>\n    <tr>\n      <th>1994</th>\n      <td>66</td>\n      <td>22020</td>\n      <td>1610612746</td>\n      <td>LAC</td>\n      <td>LA Clippers</td>\n      <td>22000002</td>\n      <td>2020-12-22</td>\n      <td>LAC @ LAL</td>\n      <td>W</td>\n      <td>241</td>\n      <td>...</td>\n      <td>0.737</td>\n      <td>11.0</td>\n      <td>29.0</td>\n      <td>40.0</td>\n      <td>22</td>\n      <td>10.0</td>\n      <td>3</td>\n      <td>16</td>\n      <td>29</td>\n      <td>7.0</td>\n    </tr>\n    <tr>\n      <th>1995</th>\n      <td>66</td>\n      <td>22020</td>\n      <td>1610612751</td>\n      <td>BKN</td>\n      <td>Brooklyn Nets</td>\n      <td>22000001</td>\n      <td>2020-12-22</td>\n      <td>BKN vs. GSW</td>\n      <td>W</td>\n      <td>242</td>\n      <td>...</td>\n      <td>0.813</td>\n      <td>13.0</td>\n      <td>44.0</td>\n      <td>57.0</td>\n      <td>24</td>\n      <td>11.0</td>\n      <td>7</td>\n      <td>20</td>\n      <td>22</td>\n      <td>26.0</td>\n    </tr>\n    <tr>\n      <th>1996</th>\n      <td>66</td>\n      <td>22020</td>\n      <td>1610612747</td>\n      <td>LAL</td>\n      <td>Los Angeles Lakers</td>\n      <td>22000002</td>\n      <td>2020-12-22</td>\n      <td>LAL vs. LAC</td>\n      <td>L</td>\n      <td>240</td>\n      <td>...</td>\n      <td>0.774</td>\n      <td>8.0</td>\n      <td>37.0</td>\n      <td>45.0</td>\n      <td>22</td>\n      <td>4.0</td>\n      <td>2</td>\n      <td>19</td>\n      <td>20</td>\n      <td>-7.0</td>\n    </tr>\n    <tr>\n      <th>1997</th>\n      <td>66</td>\n      <td>22020</td>\n      <td>1610612744</td>\n      <td>GSW</td>\n      <td>Golden State Warriors</td>\n      <td>22000001</td>\n      <td>2020-12-22</td>\n      <td>GSW @ BKN</td>\n      <td>L</td>\n      <td>240</td>\n      <td>...</td>\n      <td>0.652</td>\n      <td>13.0</td>\n      <td>34.0</td>\n      <td>47.0</td>\n      <td>26</td>\n      <td>6.0</td>\n      <td>6</td>\n      <td>18</td>\n      <td>24</td>\n      <td>-26.0</td>\n    </tr>\n  </tbody>\n</table>\n<p>1998 rows × 29 columns</p>\n</div>"
     },
     "metadata": {},
     "execution_count": 2
    }
   ],
   "source": [
    "df = pd.read_csv('nba_api_0705.csv')\n",
    "df"
   ]
  }
 ]
}