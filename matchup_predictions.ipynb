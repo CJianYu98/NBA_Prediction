{
 "metadata": {
  "language_info": {
   "codemirror_mode": {
    "name": "ipython",
    "version": 3
   },
   "file_extension": ".py",
   "mimetype": "text/x-python",
   "name": "python",
   "nbconvert_exporter": "python",
   "pygments_lexer": "ipython3",
   "version": "3.8.3"
  },
  "orig_nbformat": 2,
  "kernelspec": {
   "name": "python3",
   "display_name": "Python 3.8.3 64-bit",
   "metadata": {
    "interpreter": {
     "hash": "aee8b7b246df8f9039afb4144a1f6fd8d2ca17a180786b69acc140d282b71a49"
    }
   }
  }
 },
 "nbformat": 4,
 "nbformat_minor": 2,
 "cells": [
  {
   "cell_type": "code",
   "execution_count": 1,
   "metadata": {},
   "outputs": [],
   "source": [
    "from bs4 import BeautifulSoup\n",
    "import requests\n",
    "import pandas as pd\n",
    "import json\n"
   ]
  },
  {
   "cell_type": "code",
   "execution_count": 2,
   "metadata": {},
   "outputs": [],
   "source": [
    "def get_matchups():\n",
    "    \"\"\"\n",
    "    Retrieves all the matchups from ESPN website for next day games.\n",
    "    The next day logic is implemented by checking if a gameday is found,\n",
    "    if found, the for loop breaks.\n",
    "\n",
    "    :return: a list containing matchup strings\n",
    "    :rtype: list\n",
    "    \"\"\"\n",
    "    matchup_list = []\n",
    "    game_date = ''\n",
    "    game_matchup = ''\n",
    "    url = 'https://www.espn.com.sg/nba/fixtures'\n",
    "    r = requests.get(url)\n",
    "    soup = BeautifulSoup(r.text,parser='html.parser',features=\"lxml\")\n",
    "    game_containers = soup.findAll('table', {'class':'schedule has-team-logos align-left'})\n",
    "    counter = 0\n",
    "    for game in game_containers:\n",
    "        try:\n",
    "            if 'time' in game.thead.text:\n",
    "                game_matchup = game.tbody\n",
    "                game_date = soup.findAll('div', {'id':'sched-container'})[0].findAll('h2')[counter].text\n",
    "        except AttributeError:\n",
    "            continue\n",
    "        counter += 1\n",
    "\n",
    "        if game_date != '':\n",
    "            break\n",
    "    if game_matchup == '':\n",
    "        game_date = 'No upcoming games.'\n",
    "        return matchup_list,game_date\n",
    "        \n",
    "    teams_playing = game_matchup.findAll('a', {'class':'team-name'})\n",
    "\n",
    "    # Not needed for our web app, but just filling it in here incase we need it\n",
    "    time_playing = game_matchup.findAll('td', {'data-behavior':'date_time'})\n",
    "\n",
    "    error_name = {\n",
    "            \"GS\":\"GSW\",\n",
    "            \"SA\":\"SAS\",\n",
    "            \"WSH\":\"WAS\",\n",
    "            \"NO\":\"NOP\",\n",
    "            \"UTAH\":\"UTA\",\n",
    "            \"NY\":\"NYK\"\n",
    "        }\n",
    "\n",
    "    for i in range(0,len(teams_playing),2):\n",
    "        away = teams_playing[i].text.split()[-1]\n",
    "        home = teams_playing[i+1].text.split()[-1]\n",
    "        if away in error_name:\n",
    "            away = error_name[away]\n",
    "        if home in error_name:\n",
    "            home = error_name[home]\n",
    "        matchup_string = '{} (away) vs. {} (home)'.format(away, home)\n",
    "        matchup_list.append(matchup_string)\n",
    "    return matchup_list, game_date\n",
    "\n",
    "def get_team_stats(home_team, away_team):\n",
    "    \"\"\"\n",
    "    Retrieves both teams stats from \"team_stats.json\".\n",
    "    Calculate disparities between teams stats.\n",
    "\n",
    "    :return: match prediction inputs\n",
    "    :rtype: df\n",
    "    \"\"\"\n",
    "    with open(\"data/team_stats.json\", \"r\") as jsonFile:\n",
    "        data = json.load(jsonFile)\n",
    "\n",
    "    df = pd.DataFrame()\n",
    "    \n",
    "    df[\"HOME_TEAM\"] = [home_team]\n",
    "    df[\"AVG_PTS_x\"] = [data[home_team][\"AVG_PTS\"]]\n",
    "    df[\"AVG_AST_x\"] = [data[home_team][\"AVG_AST\"]]\n",
    "    df[\"AVG_OREB_x\"] = [data[home_team][\"AVG_OREB\"]]\n",
    "    df[\"AVG_DREB_x\"] = [data[home_team][\"AVG_DREB\"]]\n",
    "    df[\"OFFRATE_x\"] = [data[home_team][\"OFFRATE\"]]\n",
    "    df[\"DEFRATE_x\"] = [data[home_team][\"DEFRATE\"]]\n",
    "    df[\"ELO_x\"] = [data[home_team][\"ELO\"]]\n",
    "    \n",
    "    df[\"AWAY_TEAM\"] = [away_team]\n",
    "    df[\"AVG_PTS_y\"] = [data[away_team][\"AVG_PTS\"]]\n",
    "    df[\"AVG_AST_y\"] = [data[away_team][\"AVG_AST\"]]\n",
    "    df[\"AVG_OREB_y\"] = [data[away_team][\"AVG_OREB\"]]\n",
    "    df[\"AVG_DREB_y\"] = [data[away_team][\"AVG_DREB\"]]\n",
    "    df[\"OFFRATE_y\"] = [data[away_team][\"OFFRATE\"]]\n",
    "    df[\"DEFRATE_y\"] = [data[away_team][\"DEFRATE\"]]\n",
    "    df[\"ELO_y\"] = [data[away_team][\"ELO\"]]\n",
    "    \n",
    "    df[\"DIS_PTS\"] = [df[\"AVG_PTS_x\"][0] - df[\"AVG_PTS_y\"][0]]\n",
    "    df[\"DIS_AST\"] = [df[\"AVG_AST_x\"][0] - df[\"AVG_AST_y\"][0]]\n",
    "    df[\"DIS_OREB\"] = [df[\"AVG_OREB_x\"][0] - df[\"AVG_OREB_y\"][0]]\n",
    "    df[\"DIS_DREB\"] = [df[\"AVG_DREB_x\"][0] - df[\"AVG_DREB_y\"][0]]\n",
    "    df[\"DIS_OFFRATE\"] = [df[\"OFFRATE_x\"][0] - df[\"OFFRATE_y\"][0]]\n",
    "    df[\"DIS_DEFRATE\"] = [df[\"DEFRATE_x\"][0] - df[\"DEFRATE_y\"][0]]\n",
    "    df[\"DIS_ELO\"] = [df[\"ELO_x\"][0] - df[\"ELO_y\"][0]]\n",
    "    \n",
    "    return df"
   ]
  },
  {
   "cell_type": "code",
   "execution_count": 3,
   "metadata": {},
   "outputs": [
    {
     "output_type": "execute_result",
     "data": {
      "text/plain": [
       "(['UTA (away) vs. GSW (home)', 'HOU (away) vs. POR (home)'], 'Monday, May 10')"
      ]
     },
     "metadata": {},
     "execution_count": 3
    }
   ],
   "source": [
    "matchups, game_date = get_matchups()\n",
    "matchups, game_date"
   ]
  },
  {
   "cell_type": "code",
   "execution_count": 7,
   "metadata": {},
   "outputs": [
    {
     "output_type": "execute_result",
     "data": {
      "text/plain": [
       "  HOME_TEAM  AVG_PTS_x  AVG_AST_x  AVG_OREB_x  AVG_DREB_x  OFFRATE_x  \\\n",
       "0       GSW          0          0           0           0          0   \n",
       "\n",
       "   DEFRATE_x  ELO_x AWAY_TEAM  AVG_PTS_y  ...  OFFRATE_y  DEFRATE_y  ELO_y  \\\n",
       "0          0   1500       UTA          0  ...          0          0   1500   \n",
       "\n",
       "   DIS_PTS  DIS_AST  DIS_OREB  DIS_DREB  DIS_OFFRATE  DIS_DEFRATE  DIS_ELO  \n",
       "0        0        0         0         0            0            0        0  \n",
       "\n",
       "[1 rows x 23 columns]"
      ],
      "text/html": "<div>\n<style scoped>\n    .dataframe tbody tr th:only-of-type {\n        vertical-align: middle;\n    }\n\n    .dataframe tbody tr th {\n        vertical-align: top;\n    }\n\n    .dataframe thead th {\n        text-align: right;\n    }\n</style>\n<table border=\"1\" class=\"dataframe\">\n  <thead>\n    <tr style=\"text-align: right;\">\n      <th></th>\n      <th>HOME_TEAM</th>\n      <th>AVG_PTS_x</th>\n      <th>AVG_AST_x</th>\n      <th>AVG_OREB_x</th>\n      <th>AVG_DREB_x</th>\n      <th>OFFRATE_x</th>\n      <th>DEFRATE_x</th>\n      <th>ELO_x</th>\n      <th>AWAY_TEAM</th>\n      <th>AVG_PTS_y</th>\n      <th>...</th>\n      <th>OFFRATE_y</th>\n      <th>DEFRATE_y</th>\n      <th>ELO_y</th>\n      <th>DIS_PTS</th>\n      <th>DIS_AST</th>\n      <th>DIS_OREB</th>\n      <th>DIS_DREB</th>\n      <th>DIS_OFFRATE</th>\n      <th>DIS_DEFRATE</th>\n      <th>DIS_ELO</th>\n    </tr>\n  </thead>\n  <tbody>\n    <tr>\n      <th>0</th>\n      <td>GSW</td>\n      <td>0</td>\n      <td>0</td>\n      <td>0</td>\n      <td>0</td>\n      <td>0</td>\n      <td>0</td>\n      <td>1500</td>\n      <td>UTA</td>\n      <td>0</td>\n      <td>...</td>\n      <td>0</td>\n      <td>0</td>\n      <td>1500</td>\n      <td>0</td>\n      <td>0</td>\n      <td>0</td>\n      <td>0</td>\n      <td>0</td>\n      <td>0</td>\n      <td>0</td>\n    </tr>\n  </tbody>\n</table>\n<p>1 rows × 23 columns</p>\n</div>"
     },
     "metadata": {},
     "execution_count": 7
    }
   ],
   "source": [
    "game = matchups[0]\n",
    "away = game[0:3]\n",
    "home = game[15:18]\n",
    "df = get_team_stats(home, away)\n",
    "df"
   ]
  },
  {
   "cell_type": "code",
   "execution_count": null,
   "metadata": {},
   "outputs": [],
   "source": []
  }
 ]
}