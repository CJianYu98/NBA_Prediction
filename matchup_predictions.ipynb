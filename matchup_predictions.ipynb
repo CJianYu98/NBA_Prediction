{
 "metadata": {
  "language_info": {
   "codemirror_mode": {
    "name": "ipython",
    "version": 3
   },
   "file_extension": ".py",
   "mimetype": "text/x-python",
   "name": "python",
   "nbconvert_exporter": "python",
   "pygments_lexer": "ipython3",
   "version": "3.8.3"
  },
  "orig_nbformat": 2,
  "kernelspec": {
   "name": "python3",
   "display_name": "Python 3.8.3 64-bit",
   "metadata": {
    "interpreter": {
     "hash": "aee8b7b246df8f9039afb4144a1f6fd8d2ca17a180786b69acc140d282b71a49"
    }
   }
  }
 },
 "nbformat": 4,
 "nbformat_minor": 2,
 "cells": [
  {
   "cell_type": "code",
   "execution_count": 1,
   "metadata": {},
   "outputs": [],
   "source": [
    "from bs4 import BeautifulSoup\n",
    "import requests\n"
   ]
  },
  {
   "cell_type": "code",
   "execution_count": 2,
   "metadata": {},
   "outputs": [],
   "source": [
    "def get_matchups():\n",
    "    \"\"\"\n",
    "    Retrieves all the matchups from ESPN website for next day games.\n",
    "    The next day logic is implemented by checking if a gameday is found,\n",
    "    if found, the for loop breaks.\n",
    "\n",
    "    :return: a list containing matchup strings\n",
    "    :rtype: list\n",
    "    \"\"\"\n",
    "    matchup_list = []\n",
    "    game_date = ''\n",
    "    game_matchup = ''\n",
    "    url = 'https://www.espn.com.sg/nba/fixtures'\n",
    "    r = requests.get(url)\n",
    "    soup = BeautifulSoup(r.text,parser='html.parser',features=\"lxml\")\n",
    "    game_containers = soup.findAll('table', {'class':'schedule has-team-logos align-left'})\n",
    "    counter = 0\n",
    "    for game in game_containers:\n",
    "        try:\n",
    "            if 'time' in game.thead.text:\n",
    "                game_matchup = game.tbody\n",
    "                game_date = soup.findAll('div', {'id':'sched-container'})[0].findAll('h2')[counter].text\n",
    "        except AttributeError:\n",
    "            continue\n",
    "        counter += 1\n",
    "\n",
    "        if game_date != '':\n",
    "            break\n",
    "    if game_matchup == '':\n",
    "        game_date = 'No upcoming games.'\n",
    "        return matchup_list,game_date\n",
    "        \n",
    "    teams_playing = game_matchup.findAll('a', {'class':'team-name'})\n",
    "\n",
    "    # Not needed for our web app, but just filling it in here incase we need it\n",
    "    time_playing = game_matchup.findAll('td', {'data-behavior':'date_time'})\n",
    "\n",
    "    error_name = {\n",
    "            \"GS\":\"GSW\",\n",
    "            \"SA\":\"SAS\",\n",
    "            \"WSH\":\"WAS\",\n",
    "            \"NO\":\"NOP\",\n",
    "            \"UTAH\":\"UTA\",\n",
    "            \"NY\":\"NYK\"\n",
    "        }\n",
    "\n",
    "    for i in range(0,len(teams_playing),2):\n",
    "        away = teams_playing[i].text.split()[-1]\n",
    "        home = teams_playing[i+1].text.split()[-1]\n",
    "        if away in error_name:\n",
    "            away = error_name[away]\n",
    "        if home in error_name:\n",
    "            home = error_name[home]\n",
    "        matchup_string = '{} (away) vs. {} (home)'.format(away, home)\n",
    "        matchup_list.append(matchup_string)\n",
    "    return matchup_list, game_date"
   ]
  },
  {
   "cell_type": "code",
   "execution_count": 3,
   "metadata": {},
   "outputs": [
    {
     "output_type": "execute_result",
     "data": {
      "text/plain": [
       "(['IND (away) vs. CLE (home)',\n",
       "  'WAS (away) vs. ATL (home)',\n",
       "  'NOP (away) vs. MEM (home)',\n",
       "  'MIL (away) vs. SAS (home)',\n",
       "  'UTA (away) vs. GSW (home)',\n",
       "  'HOU (away) vs. POR (home)'],\n",
       " 'Tuesday, May 11')"
      ]
     },
     "metadata": {},
     "execution_count": 3
    }
   ],
   "source": [
    "matchup, game_date = get_matchups()\n",
    "matchup, game_date"
   ]
  }
 ]
}