{
 "metadata": {
  "language_info": {
   "codemirror_mode": {
    "name": "ipython",
    "version": 3
   },
   "file_extension": ".py",
   "mimetype": "text/x-python",
   "name": "python",
   "nbconvert_exporter": "python",
   "pygments_lexer": "ipython3",
   "version": "3.8.3"
  },
  "orig_nbformat": 2,
  "kernelspec": {
   "name": "python3",
   "display_name": "Python 3.8.3 64-bit",
   "metadata": {
    "interpreter": {
     "hash": "aee8b7b246df8f9039afb4144a1f6fd8d2ca17a180786b69acc140d282b71a49"
    }
   }
  }
 },
 "nbformat": 4,
 "nbformat_minor": 2,
 "cells": [
  {
   "cell_type": "code",
   "execution_count": 3,
   "metadata": {},
   "outputs": [],
   "source": [
    "import requests\n",
    "import pandas as pd\n",
    "import datetime\n",
    "\n",
    "from nba_api.stats.static import teams\n",
    "from nba_api.stats.endpoints import leaguegamefinder"
   ]
  },
  {
   "cell_type": "code",
   "execution_count": 4,
   "metadata": {},
   "outputs": [
    {
     "output_type": "execute_result",
     "data": {
      "text/plain": [
       "           id             full_name abbreviation   nickname         city  \\\n",
       "0  1610612737         Atlanta Hawks          ATL      Hawks      Atlanta   \n",
       "1  1610612738        Boston Celtics          BOS    Celtics       Boston   \n",
       "2  1610612739   Cleveland Cavaliers          CLE  Cavaliers    Cleveland   \n",
       "3  1610612740  New Orleans Pelicans          NOP   Pelicans  New Orleans   \n",
       "4  1610612741         Chicago Bulls          CHI      Bulls      Chicago   \n",
       "\n",
       "           state  year_founded  \n",
       "0        Atlanta          1949  \n",
       "1  Massachusetts          1946  \n",
       "2           Ohio          1970  \n",
       "3      Louisiana          2002  \n",
       "4       Illinois          1966  "
      ],
      "text/html": "<div>\n<style scoped>\n    .dataframe tbody tr th:only-of-type {\n        vertical-align: middle;\n    }\n\n    .dataframe tbody tr th {\n        vertical-align: top;\n    }\n\n    .dataframe thead th {\n        text-align: right;\n    }\n</style>\n<table border=\"1\" class=\"dataframe\">\n  <thead>\n    <tr style=\"text-align: right;\">\n      <th></th>\n      <th>id</th>\n      <th>full_name</th>\n      <th>abbreviation</th>\n      <th>nickname</th>\n      <th>city</th>\n      <th>state</th>\n      <th>year_founded</th>\n    </tr>\n  </thead>\n  <tbody>\n    <tr>\n      <th>0</th>\n      <td>1610612737</td>\n      <td>Atlanta Hawks</td>\n      <td>ATL</td>\n      <td>Hawks</td>\n      <td>Atlanta</td>\n      <td>Atlanta</td>\n      <td>1949</td>\n    </tr>\n    <tr>\n      <th>1</th>\n      <td>1610612738</td>\n      <td>Boston Celtics</td>\n      <td>BOS</td>\n      <td>Celtics</td>\n      <td>Boston</td>\n      <td>Massachusetts</td>\n      <td>1946</td>\n    </tr>\n    <tr>\n      <th>2</th>\n      <td>1610612739</td>\n      <td>Cleveland Cavaliers</td>\n      <td>CLE</td>\n      <td>Cavaliers</td>\n      <td>Cleveland</td>\n      <td>Ohio</td>\n      <td>1970</td>\n    </tr>\n    <tr>\n      <th>3</th>\n      <td>1610612740</td>\n      <td>New Orleans Pelicans</td>\n      <td>NOP</td>\n      <td>Pelicans</td>\n      <td>New Orleans</td>\n      <td>Louisiana</td>\n      <td>2002</td>\n    </tr>\n    <tr>\n      <th>4</th>\n      <td>1610612741</td>\n      <td>Chicago Bulls</td>\n      <td>CHI</td>\n      <td>Bulls</td>\n      <td>Chicago</td>\n      <td>Illinois</td>\n      <td>1966</td>\n    </tr>\n  </tbody>\n</table>\n</div>"
     },
     "metadata": {},
     "execution_count": 4
    }
   ],
   "source": [
    "nba_teams = pd.DataFrame(teams.get_teams())\n",
    "nba_teams.head()"
   ]
  },
  {
   "cell_type": "code",
   "execution_count": 5,
   "metadata": {},
   "outputs": [
    {
     "output_type": "execute_result",
     "data": {
      "text/plain": [
       "array([1610612737, 1610612738, 1610612739, 1610612740, 1610612741,\n",
       "       1610612742, 1610612743, 1610612744, 1610612745, 1610612746,\n",
       "       1610612747, 1610612748, 1610612749, 1610612750, 1610612751,\n",
       "       1610612752, 1610612753, 1610612754, 1610612755, 1610612756,\n",
       "       1610612757, 1610612758, 1610612759, 1610612760, 1610612761,\n",
       "       1610612762, 1610612763, 1610612764, 1610612765, 1610612766])"
      ]
     },
     "metadata": {},
     "execution_count": 5
    }
   ],
   "source": [
    "team_ids = nba_teams['id'].unique()\n",
    "team_ids"
   ]
  },
  {
   "source": [
    "# Getting all game records of season 20/21 up till now"
   ],
   "cell_type": "markdown",
   "metadata": {}
  },
  {
   "cell_type": "code",
   "execution_count": 19,
   "metadata": {},
   "outputs": [],
   "source": [
    "main_df = pd.DataFrame()\n",
    "for team_id in team_ids:\n",
    "    gamefinder = leaguegamefinder.LeagueGameFinder(team_id_nullable=team_id)\n",
    "    games = gamefinder.get_data_frames()[0]\n",
    "    games = games[(games['GAME_DATE'] >= '2020-12-22') & (games['WL'].isnull() == False)]\n",
    "    main_df = main_df.append(games)\n",
    "\n",
    "main_df = main_df.sort_values('GAME_DATE',ascending=False)"
   ]
  },
  {
   "cell_type": "code",
   "execution_count": 20,
   "metadata": {},
   "outputs": [
    {
     "output_type": "execute_result",
     "data": {
      "text/plain": [
       "   SEASON_ID     TEAM_ID TEAM_ABBREVIATION              TEAM_NAME     GAME_ID  \\\n",
       "0      22020  1610612738               BOS         Boston Celtics  0022000160   \n",
       "0      22020  1610612766               CHA      Charlotte Hornets  0022001004   \n",
       "0      22020  1610612755               PHI     Philadelphia 76ers  0022001003   \n",
       "0      22020  1610612745               HOU        Houston Rockets  0022001006   \n",
       "0      22020  1610612741               CHI          Chicago Bulls  0022000160   \n",
       "..       ...         ...               ...                    ...         ...   \n",
       "66     22020  1610612748               MIA             Miami Heat  0022000012   \n",
       "66     22020  1610612746               LAC            LA Clippers  0022000002   \n",
       "66     22020  1610612751               BKN          Brooklyn Nets  0022000001   \n",
       "66     22020  1610612747               LAL     Los Angeles Lakers  0022000002   \n",
       "66     22020  1610612744               GSW  Golden State Warriors  0022000001   \n",
       "\n",
       "     GAME_DATE      MATCHUP WL  MIN  PTS  ...  FT_PCT  OREB  DREB   REB  AST  \\\n",
       "0   2021-05-07    BOS @ CHI  L  239   99  ...   0.783  11.0  36.0  47.0   19   \n",
       "0   2021-05-07  CHA vs. ORL  W  241  122  ...   0.758  11.0  40.0  51.0   28   \n",
       "0   2021-05-07  PHI vs. NOP  W  240  109  ...   0.818  10.0  41.0  51.0   27   \n",
       "0   2021-05-07    HOU @ MIL  L  239  133  ...   0.667   7.0  30.0  37.0   36   \n",
       "0   2021-05-07  CHI vs. BOS  W  242  121  ...   0.944  15.0  37.0  52.0   26   \n",
       "..         ...          ... ..  ...  ...  ...     ...   ...   ...   ...  ...   \n",
       "66  2020-12-23    MIA @ ORL  L  241  107  ...   0.842   7.0  36.0  43.0   25   \n",
       "66  2020-12-22    LAC @ LAL  W  241  116  ...   0.737  11.0  29.0  40.0   22   \n",
       "66  2020-12-22  BKN vs. GSW  W  242  125  ...   0.813  13.0  44.0  57.0   24   \n",
       "66  2020-12-22  LAL vs. LAC  L  240  109  ...   0.774   8.0  37.0  45.0   22   \n",
       "66  2020-12-22    GSW @ BKN  L  240   99  ...   0.652  13.0  34.0  47.0   26   \n",
       "\n",
       "     STL  BLK  TOV  PF  PLUS_MINUS  \n",
       "0    5.0    8   13  15       -23.2  \n",
       "0    5.0    4   10  23         9.6  \n",
       "0    5.0    6   15  19         4.8  \n",
       "0   10.0    5   16  21        -8.0  \n",
       "0   10.0    4    9  20        26.0  \n",
       "..   ...  ...  ...  ..         ...  \n",
       "66  11.0    2   22  21        -6.0  \n",
       "66  10.0    3   16  29         7.0  \n",
       "66  11.0    7   20  22        26.0  \n",
       "66   4.0    2   19  20        -7.0  \n",
       "66   6.0    6   18  24       -26.0  \n",
       "\n",
       "[1998 rows x 28 columns]"
      ],
      "text/html": "<div>\n<style scoped>\n    .dataframe tbody tr th:only-of-type {\n        vertical-align: middle;\n    }\n\n    .dataframe tbody tr th {\n        vertical-align: top;\n    }\n\n    .dataframe thead th {\n        text-align: right;\n    }\n</style>\n<table border=\"1\" class=\"dataframe\">\n  <thead>\n    <tr style=\"text-align: right;\">\n      <th></th>\n      <th>SEASON_ID</th>\n      <th>TEAM_ID</th>\n      <th>TEAM_ABBREVIATION</th>\n      <th>TEAM_NAME</th>\n      <th>GAME_ID</th>\n      <th>GAME_DATE</th>\n      <th>MATCHUP</th>\n      <th>WL</th>\n      <th>MIN</th>\n      <th>PTS</th>\n      <th>...</th>\n      <th>FT_PCT</th>\n      <th>OREB</th>\n      <th>DREB</th>\n      <th>REB</th>\n      <th>AST</th>\n      <th>STL</th>\n      <th>BLK</th>\n      <th>TOV</th>\n      <th>PF</th>\n      <th>PLUS_MINUS</th>\n    </tr>\n  </thead>\n  <tbody>\n    <tr>\n      <th>0</th>\n      <td>22020</td>\n      <td>1610612738</td>\n      <td>BOS</td>\n      <td>Boston Celtics</td>\n      <td>0022000160</td>\n      <td>2021-05-07</td>\n      <td>BOS @ CHI</td>\n      <td>L</td>\n      <td>239</td>\n      <td>99</td>\n      <td>...</td>\n      <td>0.783</td>\n      <td>11.0</td>\n      <td>36.0</td>\n      <td>47.0</td>\n      <td>19</td>\n      <td>5.0</td>\n      <td>8</td>\n      <td>13</td>\n      <td>15</td>\n      <td>-23.2</td>\n    </tr>\n    <tr>\n      <th>0</th>\n      <td>22020</td>\n      <td>1610612766</td>\n      <td>CHA</td>\n      <td>Charlotte Hornets</td>\n      <td>0022001004</td>\n      <td>2021-05-07</td>\n      <td>CHA vs. ORL</td>\n      <td>W</td>\n      <td>241</td>\n      <td>122</td>\n      <td>...</td>\n      <td>0.758</td>\n      <td>11.0</td>\n      <td>40.0</td>\n      <td>51.0</td>\n      <td>28</td>\n      <td>5.0</td>\n      <td>4</td>\n      <td>10</td>\n      <td>23</td>\n      <td>9.6</td>\n    </tr>\n    <tr>\n      <th>0</th>\n      <td>22020</td>\n      <td>1610612755</td>\n      <td>PHI</td>\n      <td>Philadelphia 76ers</td>\n      <td>0022001003</td>\n      <td>2021-05-07</td>\n      <td>PHI vs. NOP</td>\n      <td>W</td>\n      <td>240</td>\n      <td>109</td>\n      <td>...</td>\n      <td>0.818</td>\n      <td>10.0</td>\n      <td>41.0</td>\n      <td>51.0</td>\n      <td>27</td>\n      <td>5.0</td>\n      <td>6</td>\n      <td>15</td>\n      <td>19</td>\n      <td>4.8</td>\n    </tr>\n    <tr>\n      <th>0</th>\n      <td>22020</td>\n      <td>1610612745</td>\n      <td>HOU</td>\n      <td>Houston Rockets</td>\n      <td>0022001006</td>\n      <td>2021-05-07</td>\n      <td>HOU @ MIL</td>\n      <td>L</td>\n      <td>239</td>\n      <td>133</td>\n      <td>...</td>\n      <td>0.667</td>\n      <td>7.0</td>\n      <td>30.0</td>\n      <td>37.0</td>\n      <td>36</td>\n      <td>10.0</td>\n      <td>5</td>\n      <td>16</td>\n      <td>21</td>\n      <td>-8.0</td>\n    </tr>\n    <tr>\n      <th>0</th>\n      <td>22020</td>\n      <td>1610612741</td>\n      <td>CHI</td>\n      <td>Chicago Bulls</td>\n      <td>0022000160</td>\n      <td>2021-05-07</td>\n      <td>CHI vs. BOS</td>\n      <td>W</td>\n      <td>242</td>\n      <td>121</td>\n      <td>...</td>\n      <td>0.944</td>\n      <td>15.0</td>\n      <td>37.0</td>\n      <td>52.0</td>\n      <td>26</td>\n      <td>10.0</td>\n      <td>4</td>\n      <td>9</td>\n      <td>20</td>\n      <td>26.0</td>\n    </tr>\n    <tr>\n      <th>...</th>\n      <td>...</td>\n      <td>...</td>\n      <td>...</td>\n      <td>...</td>\n      <td>...</td>\n      <td>...</td>\n      <td>...</td>\n      <td>...</td>\n      <td>...</td>\n      <td>...</td>\n      <td>...</td>\n      <td>...</td>\n      <td>...</td>\n      <td>...</td>\n      <td>...</td>\n      <td>...</td>\n      <td>...</td>\n      <td>...</td>\n      <td>...</td>\n      <td>...</td>\n      <td>...</td>\n    </tr>\n    <tr>\n      <th>66</th>\n      <td>22020</td>\n      <td>1610612748</td>\n      <td>MIA</td>\n      <td>Miami Heat</td>\n      <td>0022000012</td>\n      <td>2020-12-23</td>\n      <td>MIA @ ORL</td>\n      <td>L</td>\n      <td>241</td>\n      <td>107</td>\n      <td>...</td>\n      <td>0.842</td>\n      <td>7.0</td>\n      <td>36.0</td>\n      <td>43.0</td>\n      <td>25</td>\n      <td>11.0</td>\n      <td>2</td>\n      <td>22</td>\n      <td>21</td>\n      <td>-6.0</td>\n    </tr>\n    <tr>\n      <th>66</th>\n      <td>22020</td>\n      <td>1610612746</td>\n      <td>LAC</td>\n      <td>LA Clippers</td>\n      <td>0022000002</td>\n      <td>2020-12-22</td>\n      <td>LAC @ LAL</td>\n      <td>W</td>\n      <td>241</td>\n      <td>116</td>\n      <td>...</td>\n      <td>0.737</td>\n      <td>11.0</td>\n      <td>29.0</td>\n      <td>40.0</td>\n      <td>22</td>\n      <td>10.0</td>\n      <td>3</td>\n      <td>16</td>\n      <td>29</td>\n      <td>7.0</td>\n    </tr>\n    <tr>\n      <th>66</th>\n      <td>22020</td>\n      <td>1610612751</td>\n      <td>BKN</td>\n      <td>Brooklyn Nets</td>\n      <td>0022000001</td>\n      <td>2020-12-22</td>\n      <td>BKN vs. GSW</td>\n      <td>W</td>\n      <td>242</td>\n      <td>125</td>\n      <td>...</td>\n      <td>0.813</td>\n      <td>13.0</td>\n      <td>44.0</td>\n      <td>57.0</td>\n      <td>24</td>\n      <td>11.0</td>\n      <td>7</td>\n      <td>20</td>\n      <td>22</td>\n      <td>26.0</td>\n    </tr>\n    <tr>\n      <th>66</th>\n      <td>22020</td>\n      <td>1610612747</td>\n      <td>LAL</td>\n      <td>Los Angeles Lakers</td>\n      <td>0022000002</td>\n      <td>2020-12-22</td>\n      <td>LAL vs. LAC</td>\n      <td>L</td>\n      <td>240</td>\n      <td>109</td>\n      <td>...</td>\n      <td>0.774</td>\n      <td>8.0</td>\n      <td>37.0</td>\n      <td>45.0</td>\n      <td>22</td>\n      <td>4.0</td>\n      <td>2</td>\n      <td>19</td>\n      <td>20</td>\n      <td>-7.0</td>\n    </tr>\n    <tr>\n      <th>66</th>\n      <td>22020</td>\n      <td>1610612744</td>\n      <td>GSW</td>\n      <td>Golden State Warriors</td>\n      <td>0022000001</td>\n      <td>2020-12-22</td>\n      <td>GSW @ BKN</td>\n      <td>L</td>\n      <td>240</td>\n      <td>99</td>\n      <td>...</td>\n      <td>0.652</td>\n      <td>13.0</td>\n      <td>34.0</td>\n      <td>47.0</td>\n      <td>26</td>\n      <td>6.0</td>\n      <td>6</td>\n      <td>18</td>\n      <td>24</td>\n      <td>-26.0</td>\n    </tr>\n  </tbody>\n</table>\n<p>1998 rows × 28 columns</p>\n</div>"
     },
     "metadata": {},
     "execution_count": 20
    }
   ],
   "source": [
    "main_df"
   ]
  },
  {
   "cell_type": "code",
   "execution_count": 21,
   "metadata": {},
   "outputs": [],
   "source": [
    "main_df.to_csv('nba_api_0705.csv') # create base database, subsequent days to be added on"
   ]
  },
  {
   "source": [
    "# Get games for yesterday"
   ],
   "cell_type": "markdown",
   "metadata": {}
  },
  {
   "cell_type": "code",
   "execution_count": 106,
   "metadata": {},
   "outputs": [
    {
     "output_type": "execute_result",
     "data": {
      "text/plain": [
       "'2021-05-09'"
      ]
     },
     "metadata": {},
     "execution_count": 106
    }
   ],
   "source": [
    "yesterday = datetime.datetime.now() - datetime.timedelta(hours=24)  # based on US timezone\n",
    "ytd_date = yesterday.date().strftime(\"%Y-%m-%d\")   # convert to string format\n",
    "ytd_date"
   ]
  },
  {
   "cell_type": "code",
   "execution_count": 107,
   "metadata": {},
   "outputs": [
    {
     "output_type": "execute_result",
     "data": {
      "text/plain": [
       "  SEASON_ID     TEAM_ID TEAM_ABBREVIATION               TEAM_NAME     GAME_ID  \\\n",
       "0     22020  1610612738               BOS          Boston Celtics  0022000145   \n",
       "0     22020  1610612739               CLE     Cleveland Cavaliers  0022001021   \n",
       "0     22020  1610612740               NOP    New Orleans Pelicans  0022001020   \n",
       "0     22020  1610612741               CHI           Chicago Bulls  0022001023   \n",
       "0     22020  1610612742               DAL        Dallas Mavericks  0022001021   \n",
       "0     22020  1610612746               LAC             LA Clippers  0022001019   \n",
       "0     22020  1610612747               LAL      Los Angeles Lakers  0022001024   \n",
       "0     22020  1610612748               MIA              Miami Heat  0022000145   \n",
       "0     22020  1610612750               MIN  Minnesota Timberwolves  0022001022   \n",
       "0     22020  1610612752               NYK         New York Knicks  0022001019   \n",
       "0     22020  1610612753               ORL           Orlando Magic  0022001022   \n",
       "0     22020  1610612756               PHX            Phoenix Suns  0022001024   \n",
       "0     22020  1610612758               SAC        Sacramento Kings  0022001025   \n",
       "0     22020  1610612760               OKC   Oklahoma City Thunder  0022001025   \n",
       "0     22020  1610612765               DET         Detroit Pistons  0022001023   \n",
       "0     22020  1610612766               CHA       Charlotte Hornets  0022001020   \n",
       "\n",
       "    GAME_DATE      MATCHUP WL  MIN  PTS  ...  FT_PCT  OREB  DREB   REB  AST  \\\n",
       "0  2021-05-09  BOS vs. MIA  L  238  124  ...   0.800   6.0  28.0  34.0   29   \n",
       "0  2021-05-09  CLE vs. DAL  L  241   97  ...   0.645  10.0  28.0  38.0   18   \n",
       "0  2021-05-09    NOP @ CHA  W  240  112  ...   0.455  16.0  35.0  51.0   26   \n",
       "0  2021-05-09    CHI @ DET  W  241  108  ...   0.714   5.0  38.0  43.0   27   \n",
       "0  2021-05-09    DAL @ CLE  W  239  124  ...   0.818   8.0  34.0  42.0   33   \n",
       "0  2021-05-09  LAC vs. NYK  L  240  100  ...   0.875   7.0  36.0  43.0   24   \n",
       "0  2021-05-09  LAL vs. PHX  W  240  123  ...   0.780  14.0  27.0  41.0   24   \n",
       "0  2021-05-09    MIA @ BOS  W  240  130  ...   0.909   3.0  32.0  35.0   30   \n",
       "0  2021-05-09    MIN @ ORL  W  241  128  ...   0.750  12.0  45.0  57.0   30   \n",
       "0  2021-05-09    NYK @ LAC  W  241  106  ...   1.000   8.0  37.0  45.0   25   \n",
       "0  2021-05-09  ORL vs. MIN  L  241   96  ...   0.682  10.0  35.0  45.0   20   \n",
       "0  2021-05-09    PHX @ LAL  L  240  110  ...   0.840   3.0  29.0  32.0   23   \n",
       "0  2021-05-09  SAC vs. OKC  W  241  126  ...   0.833   9.0  42.0  51.0   30   \n",
       "0  2021-05-09    OKC @ SAC  L  240   98  ...   0.655  10.0  28.0  38.0   23   \n",
       "0  2021-05-09  DET vs. CHI  L  240   96  ...   0.591   4.0  32.0  36.0   22   \n",
       "0  2021-05-09  CHA vs. NOP  L  240  110  ...   0.722  11.0  35.0  46.0   22   \n",
       "\n",
       "    STL  BLK  TOV  PF  PLUS_MINUS  \n",
       "0   7.0    3   14  22        -6.0  \n",
       "0   5.0    2   14  12       -27.0  \n",
       "0  11.0    9   16  20         2.0  \n",
       "0   6.0    2    8  22        12.0  \n",
       "0   9.0    7   10  24        27.0  \n",
       "0   5.0    1   13  12        -6.0  \n",
       "0  11.0    3   13  21        13.0  \n",
       "0   8.0    2   11  20         6.0  \n",
       "0   5.0    9   10  20        32.0  \n",
       "0   7.0    5   10  17         6.0  \n",
       "0   5.0    5   13  20       -32.0  \n",
       "0   8.0    6   15  29       -13.0  \n",
       "0   8.0   11   14  19        28.0  \n",
       "0   9.0    3   14  18       -28.0  \n",
       "0   4.0    4   13  14       -12.0  \n",
       "0   6.0    8   17  19        -2.0  \n",
       "\n",
       "[16 rows x 28 columns]"
      ],
      "text/html": "<div>\n<style scoped>\n    .dataframe tbody tr th:only-of-type {\n        vertical-align: middle;\n    }\n\n    .dataframe tbody tr th {\n        vertical-align: top;\n    }\n\n    .dataframe thead th {\n        text-align: right;\n    }\n</style>\n<table border=\"1\" class=\"dataframe\">\n  <thead>\n    <tr style=\"text-align: right;\">\n      <th></th>\n      <th>SEASON_ID</th>\n      <th>TEAM_ID</th>\n      <th>TEAM_ABBREVIATION</th>\n      <th>TEAM_NAME</th>\n      <th>GAME_ID</th>\n      <th>GAME_DATE</th>\n      <th>MATCHUP</th>\n      <th>WL</th>\n      <th>MIN</th>\n      <th>PTS</th>\n      <th>...</th>\n      <th>FT_PCT</th>\n      <th>OREB</th>\n      <th>DREB</th>\n      <th>REB</th>\n      <th>AST</th>\n      <th>STL</th>\n      <th>BLK</th>\n      <th>TOV</th>\n      <th>PF</th>\n      <th>PLUS_MINUS</th>\n    </tr>\n  </thead>\n  <tbody>\n    <tr>\n      <th>0</th>\n      <td>22020</td>\n      <td>1610612738</td>\n      <td>BOS</td>\n      <td>Boston Celtics</td>\n      <td>0022000145</td>\n      <td>2021-05-09</td>\n      <td>BOS vs. MIA</td>\n      <td>L</td>\n      <td>238</td>\n      <td>124</td>\n      <td>...</td>\n      <td>0.800</td>\n      <td>6.0</td>\n      <td>28.0</td>\n      <td>34.0</td>\n      <td>29</td>\n      <td>7.0</td>\n      <td>3</td>\n      <td>14</td>\n      <td>22</td>\n      <td>-6.0</td>\n    </tr>\n    <tr>\n      <th>0</th>\n      <td>22020</td>\n      <td>1610612739</td>\n      <td>CLE</td>\n      <td>Cleveland Cavaliers</td>\n      <td>0022001021</td>\n      <td>2021-05-09</td>\n      <td>CLE vs. DAL</td>\n      <td>L</td>\n      <td>241</td>\n      <td>97</td>\n      <td>...</td>\n      <td>0.645</td>\n      <td>10.0</td>\n      <td>28.0</td>\n      <td>38.0</td>\n      <td>18</td>\n      <td>5.0</td>\n      <td>2</td>\n      <td>14</td>\n      <td>12</td>\n      <td>-27.0</td>\n    </tr>\n    <tr>\n      <th>0</th>\n      <td>22020</td>\n      <td>1610612740</td>\n      <td>NOP</td>\n      <td>New Orleans Pelicans</td>\n      <td>0022001020</td>\n      <td>2021-05-09</td>\n      <td>NOP @ CHA</td>\n      <td>W</td>\n      <td>240</td>\n      <td>112</td>\n      <td>...</td>\n      <td>0.455</td>\n      <td>16.0</td>\n      <td>35.0</td>\n      <td>51.0</td>\n      <td>26</td>\n      <td>11.0</td>\n      <td>9</td>\n      <td>16</td>\n      <td>20</td>\n      <td>2.0</td>\n    </tr>\n    <tr>\n      <th>0</th>\n      <td>22020</td>\n      <td>1610612741</td>\n      <td>CHI</td>\n      <td>Chicago Bulls</td>\n      <td>0022001023</td>\n      <td>2021-05-09</td>\n      <td>CHI @ DET</td>\n      <td>W</td>\n      <td>241</td>\n      <td>108</td>\n      <td>...</td>\n      <td>0.714</td>\n      <td>5.0</td>\n      <td>38.0</td>\n      <td>43.0</td>\n      <td>27</td>\n      <td>6.0</td>\n      <td>2</td>\n      <td>8</td>\n      <td>22</td>\n      <td>12.0</td>\n    </tr>\n    <tr>\n      <th>0</th>\n      <td>22020</td>\n      <td>1610612742</td>\n      <td>DAL</td>\n      <td>Dallas Mavericks</td>\n      <td>0022001021</td>\n      <td>2021-05-09</td>\n      <td>DAL @ CLE</td>\n      <td>W</td>\n      <td>239</td>\n      <td>124</td>\n      <td>...</td>\n      <td>0.818</td>\n      <td>8.0</td>\n      <td>34.0</td>\n      <td>42.0</td>\n      <td>33</td>\n      <td>9.0</td>\n      <td>7</td>\n      <td>10</td>\n      <td>24</td>\n      <td>27.0</td>\n    </tr>\n    <tr>\n      <th>0</th>\n      <td>22020</td>\n      <td>1610612746</td>\n      <td>LAC</td>\n      <td>LA Clippers</td>\n      <td>0022001019</td>\n      <td>2021-05-09</td>\n      <td>LAC vs. NYK</td>\n      <td>L</td>\n      <td>240</td>\n      <td>100</td>\n      <td>...</td>\n      <td>0.875</td>\n      <td>7.0</td>\n      <td>36.0</td>\n      <td>43.0</td>\n      <td>24</td>\n      <td>5.0</td>\n      <td>1</td>\n      <td>13</td>\n      <td>12</td>\n      <td>-6.0</td>\n    </tr>\n    <tr>\n      <th>0</th>\n      <td>22020</td>\n      <td>1610612747</td>\n      <td>LAL</td>\n      <td>Los Angeles Lakers</td>\n      <td>0022001024</td>\n      <td>2021-05-09</td>\n      <td>LAL vs. PHX</td>\n      <td>W</td>\n      <td>240</td>\n      <td>123</td>\n      <td>...</td>\n      <td>0.780</td>\n      <td>14.0</td>\n      <td>27.0</td>\n      <td>41.0</td>\n      <td>24</td>\n      <td>11.0</td>\n      <td>3</td>\n      <td>13</td>\n      <td>21</td>\n      <td>13.0</td>\n    </tr>\n    <tr>\n      <th>0</th>\n      <td>22020</td>\n      <td>1610612748</td>\n      <td>MIA</td>\n      <td>Miami Heat</td>\n      <td>0022000145</td>\n      <td>2021-05-09</td>\n      <td>MIA @ BOS</td>\n      <td>W</td>\n      <td>240</td>\n      <td>130</td>\n      <td>...</td>\n      <td>0.909</td>\n      <td>3.0</td>\n      <td>32.0</td>\n      <td>35.0</td>\n      <td>30</td>\n      <td>8.0</td>\n      <td>2</td>\n      <td>11</td>\n      <td>20</td>\n      <td>6.0</td>\n    </tr>\n    <tr>\n      <th>0</th>\n      <td>22020</td>\n      <td>1610612750</td>\n      <td>MIN</td>\n      <td>Minnesota Timberwolves</td>\n      <td>0022001022</td>\n      <td>2021-05-09</td>\n      <td>MIN @ ORL</td>\n      <td>W</td>\n      <td>241</td>\n      <td>128</td>\n      <td>...</td>\n      <td>0.750</td>\n      <td>12.0</td>\n      <td>45.0</td>\n      <td>57.0</td>\n      <td>30</td>\n      <td>5.0</td>\n      <td>9</td>\n      <td>10</td>\n      <td>20</td>\n      <td>32.0</td>\n    </tr>\n    <tr>\n      <th>0</th>\n      <td>22020</td>\n      <td>1610612752</td>\n      <td>NYK</td>\n      <td>New York Knicks</td>\n      <td>0022001019</td>\n      <td>2021-05-09</td>\n      <td>NYK @ LAC</td>\n      <td>W</td>\n      <td>241</td>\n      <td>106</td>\n      <td>...</td>\n      <td>1.000</td>\n      <td>8.0</td>\n      <td>37.0</td>\n      <td>45.0</td>\n      <td>25</td>\n      <td>7.0</td>\n      <td>5</td>\n      <td>10</td>\n      <td>17</td>\n      <td>6.0</td>\n    </tr>\n    <tr>\n      <th>0</th>\n      <td>22020</td>\n      <td>1610612753</td>\n      <td>ORL</td>\n      <td>Orlando Magic</td>\n      <td>0022001022</td>\n      <td>2021-05-09</td>\n      <td>ORL vs. MIN</td>\n      <td>L</td>\n      <td>241</td>\n      <td>96</td>\n      <td>...</td>\n      <td>0.682</td>\n      <td>10.0</td>\n      <td>35.0</td>\n      <td>45.0</td>\n      <td>20</td>\n      <td>5.0</td>\n      <td>5</td>\n      <td>13</td>\n      <td>20</td>\n      <td>-32.0</td>\n    </tr>\n    <tr>\n      <th>0</th>\n      <td>22020</td>\n      <td>1610612756</td>\n      <td>PHX</td>\n      <td>Phoenix Suns</td>\n      <td>0022001024</td>\n      <td>2021-05-09</td>\n      <td>PHX @ LAL</td>\n      <td>L</td>\n      <td>240</td>\n      <td>110</td>\n      <td>...</td>\n      <td>0.840</td>\n      <td>3.0</td>\n      <td>29.0</td>\n      <td>32.0</td>\n      <td>23</td>\n      <td>8.0</td>\n      <td>6</td>\n      <td>15</td>\n      <td>29</td>\n      <td>-13.0</td>\n    </tr>\n    <tr>\n      <th>0</th>\n      <td>22020</td>\n      <td>1610612758</td>\n      <td>SAC</td>\n      <td>Sacramento Kings</td>\n      <td>0022001025</td>\n      <td>2021-05-09</td>\n      <td>SAC vs. OKC</td>\n      <td>W</td>\n      <td>241</td>\n      <td>126</td>\n      <td>...</td>\n      <td>0.833</td>\n      <td>9.0</td>\n      <td>42.0</td>\n      <td>51.0</td>\n      <td>30</td>\n      <td>8.0</td>\n      <td>11</td>\n      <td>14</td>\n      <td>19</td>\n      <td>28.0</td>\n    </tr>\n    <tr>\n      <th>0</th>\n      <td>22020</td>\n      <td>1610612760</td>\n      <td>OKC</td>\n      <td>Oklahoma City Thunder</td>\n      <td>0022001025</td>\n      <td>2021-05-09</td>\n      <td>OKC @ SAC</td>\n      <td>L</td>\n      <td>240</td>\n      <td>98</td>\n      <td>...</td>\n      <td>0.655</td>\n      <td>10.0</td>\n      <td>28.0</td>\n      <td>38.0</td>\n      <td>23</td>\n      <td>9.0</td>\n      <td>3</td>\n      <td>14</td>\n      <td>18</td>\n      <td>-28.0</td>\n    </tr>\n    <tr>\n      <th>0</th>\n      <td>22020</td>\n      <td>1610612765</td>\n      <td>DET</td>\n      <td>Detroit Pistons</td>\n      <td>0022001023</td>\n      <td>2021-05-09</td>\n      <td>DET vs. CHI</td>\n      <td>L</td>\n      <td>240</td>\n      <td>96</td>\n      <td>...</td>\n      <td>0.591</td>\n      <td>4.0</td>\n      <td>32.0</td>\n      <td>36.0</td>\n      <td>22</td>\n      <td>4.0</td>\n      <td>4</td>\n      <td>13</td>\n      <td>14</td>\n      <td>-12.0</td>\n    </tr>\n    <tr>\n      <th>0</th>\n      <td>22020</td>\n      <td>1610612766</td>\n      <td>CHA</td>\n      <td>Charlotte Hornets</td>\n      <td>0022001020</td>\n      <td>2021-05-09</td>\n      <td>CHA vs. NOP</td>\n      <td>L</td>\n      <td>240</td>\n      <td>110</td>\n      <td>...</td>\n      <td>0.722</td>\n      <td>11.0</td>\n      <td>35.0</td>\n      <td>46.0</td>\n      <td>22</td>\n      <td>6.0</td>\n      <td>8</td>\n      <td>17</td>\n      <td>19</td>\n      <td>-2.0</td>\n    </tr>\n  </tbody>\n</table>\n<p>16 rows × 28 columns</p>\n</div>"
     },
     "metadata": {},
     "execution_count": 107
    }
   ],
   "source": [
    "df = pd.DataFrame()\n",
    "for team_id in team_ids:\n",
    "    gamefinder = leaguegamefinder.LeagueGameFinder(team_id_nullable=team_id)\n",
    "    games = gamefinder.get_data_frames()[0]\n",
    "    games = games[games['GAME_DATE'] == ytd_date]\n",
    "    df = df.append(games)\n",
    "\n",
    "df"
   ]
  },
  {
   "cell_type": "code",
   "execution_count": 78,
   "metadata": {},
   "outputs": [
    {
     "output_type": "execute_result",
     "data": {
      "text/plain": [
       "      Unnamed: 0  SEASON_ID     TEAM_ID TEAM_ABBREVIATION  \\\n",
       "0              0      22020  1610612738               BOS   \n",
       "1              0      22020  1610612766               CHA   \n",
       "2              0      22020  1610612755               PHI   \n",
       "3              0      22020  1610612745               HOU   \n",
       "4              0      22020  1610612741               CHI   \n",
       "...          ...        ...         ...               ...   \n",
       "1993          66      22020  1610612748               MIA   \n",
       "1994          66      22020  1610612746               LAC   \n",
       "1995          66      22020  1610612751               BKN   \n",
       "1996          66      22020  1610612747               LAL   \n",
       "1997          66      22020  1610612744               GSW   \n",
       "\n",
       "                  TEAM_NAME   GAME_ID   GAME_DATE      MATCHUP WL  MIN  ...  \\\n",
       "0            Boston Celtics  22000160  2021-05-07    BOS @ CHI  L  239  ...   \n",
       "1         Charlotte Hornets  22001004  2021-05-07  CHA vs. ORL  W  241  ...   \n",
       "2        Philadelphia 76ers  22001003  2021-05-07  PHI vs. NOP  W  240  ...   \n",
       "3           Houston Rockets  22001006  2021-05-07    HOU @ MIL  L  239  ...   \n",
       "4             Chicago Bulls  22000160  2021-05-07  CHI vs. BOS  W  242  ...   \n",
       "...                     ...       ...         ...          ... ..  ...  ...   \n",
       "1993             Miami Heat  22000012  2020-12-23    MIA @ ORL  L  241  ...   \n",
       "1994            LA Clippers  22000002  2020-12-22    LAC @ LAL  W  241  ...   \n",
       "1995          Brooklyn Nets  22000001  2020-12-22  BKN vs. GSW  W  242  ...   \n",
       "1996     Los Angeles Lakers  22000002  2020-12-22  LAL vs. LAC  L  240  ...   \n",
       "1997  Golden State Warriors  22000001  2020-12-22    GSW @ BKN  L  240  ...   \n",
       "\n",
       "      FT_PCT  OREB  DREB   REB  AST   STL  BLK  TOV  PF  PLUS_MINUS  \n",
       "0      0.783  11.0  36.0  47.0   19   5.0    8   13  15       -23.2  \n",
       "1      0.758  11.0  40.0  51.0   28   5.0    4   10  23         9.6  \n",
       "2      0.818  10.0  41.0  51.0   27   5.0    6   15  19         4.8  \n",
       "3      0.667   7.0  30.0  37.0   36  10.0    5   16  21        -8.0  \n",
       "4      0.944  15.0  37.0  52.0   26  10.0    4    9  20        26.0  \n",
       "...      ...   ...   ...   ...  ...   ...  ...  ...  ..         ...  \n",
       "1993   0.842   7.0  36.0  43.0   25  11.0    2   22  21        -6.0  \n",
       "1994   0.737  11.0  29.0  40.0   22  10.0    3   16  29         7.0  \n",
       "1995   0.813  13.0  44.0  57.0   24  11.0    7   20  22        26.0  \n",
       "1996   0.774   8.0  37.0  45.0   22   4.0    2   19  20        -7.0  \n",
       "1997   0.652  13.0  34.0  47.0   26   6.0    6   18  24       -26.0  \n",
       "\n",
       "[1998 rows x 29 columns]"
      ],
      "text/html": "<div>\n<style scoped>\n    .dataframe tbody tr th:only-of-type {\n        vertical-align: middle;\n    }\n\n    .dataframe tbody tr th {\n        vertical-align: top;\n    }\n\n    .dataframe thead th {\n        text-align: right;\n    }\n</style>\n<table border=\"1\" class=\"dataframe\">\n  <thead>\n    <tr style=\"text-align: right;\">\n      <th></th>\n      <th>Unnamed: 0</th>\n      <th>SEASON_ID</th>\n      <th>TEAM_ID</th>\n      <th>TEAM_ABBREVIATION</th>\n      <th>TEAM_NAME</th>\n      <th>GAME_ID</th>\n      <th>GAME_DATE</th>\n      <th>MATCHUP</th>\n      <th>WL</th>\n      <th>MIN</th>\n      <th>...</th>\n      <th>FT_PCT</th>\n      <th>OREB</th>\n      <th>DREB</th>\n      <th>REB</th>\n      <th>AST</th>\n      <th>STL</th>\n      <th>BLK</th>\n      <th>TOV</th>\n      <th>PF</th>\n      <th>PLUS_MINUS</th>\n    </tr>\n  </thead>\n  <tbody>\n    <tr>\n      <th>0</th>\n      <td>0</td>\n      <td>22020</td>\n      <td>1610612738</td>\n      <td>BOS</td>\n      <td>Boston Celtics</td>\n      <td>22000160</td>\n      <td>2021-05-07</td>\n      <td>BOS @ CHI</td>\n      <td>L</td>\n      <td>239</td>\n      <td>...</td>\n      <td>0.783</td>\n      <td>11.0</td>\n      <td>36.0</td>\n      <td>47.0</td>\n      <td>19</td>\n      <td>5.0</td>\n      <td>8</td>\n      <td>13</td>\n      <td>15</td>\n      <td>-23.2</td>\n    </tr>\n    <tr>\n      <th>1</th>\n      <td>0</td>\n      <td>22020</td>\n      <td>1610612766</td>\n      <td>CHA</td>\n      <td>Charlotte Hornets</td>\n      <td>22001004</td>\n      <td>2021-05-07</td>\n      <td>CHA vs. ORL</td>\n      <td>W</td>\n      <td>241</td>\n      <td>...</td>\n      <td>0.758</td>\n      <td>11.0</td>\n      <td>40.0</td>\n      <td>51.0</td>\n      <td>28</td>\n      <td>5.0</td>\n      <td>4</td>\n      <td>10</td>\n      <td>23</td>\n      <td>9.6</td>\n    </tr>\n    <tr>\n      <th>2</th>\n      <td>0</td>\n      <td>22020</td>\n      <td>1610612755</td>\n      <td>PHI</td>\n      <td>Philadelphia 76ers</td>\n      <td>22001003</td>\n      <td>2021-05-07</td>\n      <td>PHI vs. NOP</td>\n      <td>W</td>\n      <td>240</td>\n      <td>...</td>\n      <td>0.818</td>\n      <td>10.0</td>\n      <td>41.0</td>\n      <td>51.0</td>\n      <td>27</td>\n      <td>5.0</td>\n      <td>6</td>\n      <td>15</td>\n      <td>19</td>\n      <td>4.8</td>\n    </tr>\n    <tr>\n      <th>3</th>\n      <td>0</td>\n      <td>22020</td>\n      <td>1610612745</td>\n      <td>HOU</td>\n      <td>Houston Rockets</td>\n      <td>22001006</td>\n      <td>2021-05-07</td>\n      <td>HOU @ MIL</td>\n      <td>L</td>\n      <td>239</td>\n      <td>...</td>\n      <td>0.667</td>\n      <td>7.0</td>\n      <td>30.0</td>\n      <td>37.0</td>\n      <td>36</td>\n      <td>10.0</td>\n      <td>5</td>\n      <td>16</td>\n      <td>21</td>\n      <td>-8.0</td>\n    </tr>\n    <tr>\n      <th>4</th>\n      <td>0</td>\n      <td>22020</td>\n      <td>1610612741</td>\n      <td>CHI</td>\n      <td>Chicago Bulls</td>\n      <td>22000160</td>\n      <td>2021-05-07</td>\n      <td>CHI vs. BOS</td>\n      <td>W</td>\n      <td>242</td>\n      <td>...</td>\n      <td>0.944</td>\n      <td>15.0</td>\n      <td>37.0</td>\n      <td>52.0</td>\n      <td>26</td>\n      <td>10.0</td>\n      <td>4</td>\n      <td>9</td>\n      <td>20</td>\n      <td>26.0</td>\n    </tr>\n    <tr>\n      <th>...</th>\n      <td>...</td>\n      <td>...</td>\n      <td>...</td>\n      <td>...</td>\n      <td>...</td>\n      <td>...</td>\n      <td>...</td>\n      <td>...</td>\n      <td>...</td>\n      <td>...</td>\n      <td>...</td>\n      <td>...</td>\n      <td>...</td>\n      <td>...</td>\n      <td>...</td>\n      <td>...</td>\n      <td>...</td>\n      <td>...</td>\n      <td>...</td>\n      <td>...</td>\n      <td>...</td>\n    </tr>\n    <tr>\n      <th>1993</th>\n      <td>66</td>\n      <td>22020</td>\n      <td>1610612748</td>\n      <td>MIA</td>\n      <td>Miami Heat</td>\n      <td>22000012</td>\n      <td>2020-12-23</td>\n      <td>MIA @ ORL</td>\n      <td>L</td>\n      <td>241</td>\n      <td>...</td>\n      <td>0.842</td>\n      <td>7.0</td>\n      <td>36.0</td>\n      <td>43.0</td>\n      <td>25</td>\n      <td>11.0</td>\n      <td>2</td>\n      <td>22</td>\n      <td>21</td>\n      <td>-6.0</td>\n    </tr>\n    <tr>\n      <th>1994</th>\n      <td>66</td>\n      <td>22020</td>\n      <td>1610612746</td>\n      <td>LAC</td>\n      <td>LA Clippers</td>\n      <td>22000002</td>\n      <td>2020-12-22</td>\n      <td>LAC @ LAL</td>\n      <td>W</td>\n      <td>241</td>\n      <td>...</td>\n      <td>0.737</td>\n      <td>11.0</td>\n      <td>29.0</td>\n      <td>40.0</td>\n      <td>22</td>\n      <td>10.0</td>\n      <td>3</td>\n      <td>16</td>\n      <td>29</td>\n      <td>7.0</td>\n    </tr>\n    <tr>\n      <th>1995</th>\n      <td>66</td>\n      <td>22020</td>\n      <td>1610612751</td>\n      <td>BKN</td>\n      <td>Brooklyn Nets</td>\n      <td>22000001</td>\n      <td>2020-12-22</td>\n      <td>BKN vs. GSW</td>\n      <td>W</td>\n      <td>242</td>\n      <td>...</td>\n      <td>0.813</td>\n      <td>13.0</td>\n      <td>44.0</td>\n      <td>57.0</td>\n      <td>24</td>\n      <td>11.0</td>\n      <td>7</td>\n      <td>20</td>\n      <td>22</td>\n      <td>26.0</td>\n    </tr>\n    <tr>\n      <th>1996</th>\n      <td>66</td>\n      <td>22020</td>\n      <td>1610612747</td>\n      <td>LAL</td>\n      <td>Los Angeles Lakers</td>\n      <td>22000002</td>\n      <td>2020-12-22</td>\n      <td>LAL vs. LAC</td>\n      <td>L</td>\n      <td>240</td>\n      <td>...</td>\n      <td>0.774</td>\n      <td>8.0</td>\n      <td>37.0</td>\n      <td>45.0</td>\n      <td>22</td>\n      <td>4.0</td>\n      <td>2</td>\n      <td>19</td>\n      <td>20</td>\n      <td>-7.0</td>\n    </tr>\n    <tr>\n      <th>1997</th>\n      <td>66</td>\n      <td>22020</td>\n      <td>1610612744</td>\n      <td>GSW</td>\n      <td>Golden State Warriors</td>\n      <td>22000001</td>\n      <td>2020-12-22</td>\n      <td>GSW @ BKN</td>\n      <td>L</td>\n      <td>240</td>\n      <td>...</td>\n      <td>0.652</td>\n      <td>13.0</td>\n      <td>34.0</td>\n      <td>47.0</td>\n      <td>26</td>\n      <td>6.0</td>\n      <td>6</td>\n      <td>18</td>\n      <td>24</td>\n      <td>-26.0</td>\n    </tr>\n  </tbody>\n</table>\n<p>1998 rows × 29 columns</p>\n</div>"
     },
     "metadata": {},
     "execution_count": 78
    }
   ],
   "source": [
    "df = pd.read_csv(\"nba_api_0705.csv\")\n",
    "df\n"
   ]
  },
  {
   "cell_type": "code",
   "execution_count": 109,
   "metadata": {},
   "outputs": [
    {
     "output_type": "execute_result",
     "data": {
      "text/plain": [
       "  SEASON_ID     TEAM_ID TEAM_ABBREVIATION               TEAM_NAME     GAME_ID  \\\n",
       "0     22020  1610612740               NOP    New Orleans Pelicans  0022001020   \n",
       "0     22020  1610612741               CHI           Chicago Bulls  0022001023   \n",
       "0     22020  1610612742               DAL        Dallas Mavericks  0022001021   \n",
       "0     22020  1610612748               MIA              Miami Heat  0022000145   \n",
       "0     22020  1610612750               MIN  Minnesota Timberwolves  0022001022   \n",
       "0     22020  1610612752               NYK         New York Knicks  0022001019   \n",
       "0     22020  1610612756               PHX            Phoenix Suns  0022001024   \n",
       "0     22020  1610612760               OKC   Oklahoma City Thunder  0022001025   \n",
       "0     22020  1610612738               BOS          Boston Celtics  0022000145   \n",
       "0     22020  1610612739               CLE     Cleveland Cavaliers  0022001021   \n",
       "0     22020  1610612746               LAC             LA Clippers  0022001019   \n",
       "0     22020  1610612747               LAL      Los Angeles Lakers  0022001024   \n",
       "0     22020  1610612753               ORL           Orlando Magic  0022001022   \n",
       "0     22020  1610612758               SAC        Sacramento Kings  0022001025   \n",
       "0     22020  1610612765               DET         Detroit Pistons  0022001023   \n",
       "0     22020  1610612766               CHA       Charlotte Hornets  0022001020   \n",
       "\n",
       "    GAME_DATE      MATCHUP WL  MIN  PTS  ...  FT_PCT  OREB  DREB   REB  AST  \\\n",
       "0  2021-05-09    NOP @ CHA  W  240  112  ...   0.455  16.0  35.0  51.0   26   \n",
       "0  2021-05-09    CHI @ DET  W  241  108  ...   0.714   5.0  38.0  43.0   27   \n",
       "0  2021-05-09    DAL @ CLE  W  239  124  ...   0.818   8.0  34.0  42.0   33   \n",
       "0  2021-05-09    MIA @ BOS  W  240  130  ...   0.909   3.0  32.0  35.0   30   \n",
       "0  2021-05-09    MIN @ ORL  W  241  128  ...   0.750  12.0  45.0  57.0   30   \n",
       "0  2021-05-09    NYK @ LAC  W  241  106  ...   1.000   8.0  37.0  45.0   25   \n",
       "0  2021-05-09    PHX @ LAL  L  240  110  ...   0.840   3.0  29.0  32.0   23   \n",
       "0  2021-05-09    OKC @ SAC  L  240   98  ...   0.655  10.0  28.0  38.0   23   \n",
       "0  2021-05-09  BOS vs. MIA  L  238  124  ...   0.800   6.0  28.0  34.0   29   \n",
       "0  2021-05-09  CLE vs. DAL  L  241   97  ...   0.645  10.0  28.0  38.0   18   \n",
       "0  2021-05-09  LAC vs. NYK  L  240  100  ...   0.875   7.0  36.0  43.0   24   \n",
       "0  2021-05-09  LAL vs. PHX  W  240  123  ...   0.780  14.0  27.0  41.0   24   \n",
       "0  2021-05-09  ORL vs. MIN  L  241   96  ...   0.682  10.0  35.0  45.0   20   \n",
       "0  2021-05-09  SAC vs. OKC  W  241  126  ...   0.833   9.0  42.0  51.0   30   \n",
       "0  2021-05-09  DET vs. CHI  L  240   96  ...   0.591   4.0  32.0  36.0   22   \n",
       "0  2021-05-09  CHA vs. NOP  L  240  110  ...   0.722  11.0  35.0  46.0   22   \n",
       "\n",
       "    STL  BLK  TOV  PF  PLUS_MINUS  \n",
       "0  11.0    9   16  20         2.0  \n",
       "0   6.0    2    8  22        12.0  \n",
       "0   9.0    7   10  24        27.0  \n",
       "0   8.0    2   11  20         6.0  \n",
       "0   5.0    9   10  20        32.0  \n",
       "0   7.0    5   10  17         6.0  \n",
       "0   8.0    6   15  29       -13.0  \n",
       "0   9.0    3   14  18       -28.0  \n",
       "0   7.0    3   14  22        -6.0  \n",
       "0   5.0    2   14  12       -27.0  \n",
       "0   5.0    1   13  12        -6.0  \n",
       "0  11.0    3   13  21        13.0  \n",
       "0   5.0    5   13  20       -32.0  \n",
       "0   8.0   11   14  19        28.0  \n",
       "0   4.0    4   13  14       -12.0  \n",
       "0   6.0    8   17  19        -2.0  \n",
       "\n",
       "[16 rows x 28 columns]"
      ],
      "text/html": "<div>\n<style scoped>\n    .dataframe tbody tr th:only-of-type {\n        vertical-align: middle;\n    }\n\n    .dataframe tbody tr th {\n        vertical-align: top;\n    }\n\n    .dataframe thead th {\n        text-align: right;\n    }\n</style>\n<table border=\"1\" class=\"dataframe\">\n  <thead>\n    <tr style=\"text-align: right;\">\n      <th></th>\n      <th>SEASON_ID</th>\n      <th>TEAM_ID</th>\n      <th>TEAM_ABBREVIATION</th>\n      <th>TEAM_NAME</th>\n      <th>GAME_ID</th>\n      <th>GAME_DATE</th>\n      <th>MATCHUP</th>\n      <th>WL</th>\n      <th>MIN</th>\n      <th>PTS</th>\n      <th>...</th>\n      <th>FT_PCT</th>\n      <th>OREB</th>\n      <th>DREB</th>\n      <th>REB</th>\n      <th>AST</th>\n      <th>STL</th>\n      <th>BLK</th>\n      <th>TOV</th>\n      <th>PF</th>\n      <th>PLUS_MINUS</th>\n    </tr>\n  </thead>\n  <tbody>\n    <tr>\n      <th>0</th>\n      <td>22020</td>\n      <td>1610612740</td>\n      <td>NOP</td>\n      <td>New Orleans Pelicans</td>\n      <td>0022001020</td>\n      <td>2021-05-09</td>\n      <td>NOP @ CHA</td>\n      <td>W</td>\n      <td>240</td>\n      <td>112</td>\n      <td>...</td>\n      <td>0.455</td>\n      <td>16.0</td>\n      <td>35.0</td>\n      <td>51.0</td>\n      <td>26</td>\n      <td>11.0</td>\n      <td>9</td>\n      <td>16</td>\n      <td>20</td>\n      <td>2.0</td>\n    </tr>\n    <tr>\n      <th>0</th>\n      <td>22020</td>\n      <td>1610612741</td>\n      <td>CHI</td>\n      <td>Chicago Bulls</td>\n      <td>0022001023</td>\n      <td>2021-05-09</td>\n      <td>CHI @ DET</td>\n      <td>W</td>\n      <td>241</td>\n      <td>108</td>\n      <td>...</td>\n      <td>0.714</td>\n      <td>5.0</td>\n      <td>38.0</td>\n      <td>43.0</td>\n      <td>27</td>\n      <td>6.0</td>\n      <td>2</td>\n      <td>8</td>\n      <td>22</td>\n      <td>12.0</td>\n    </tr>\n    <tr>\n      <th>0</th>\n      <td>22020</td>\n      <td>1610612742</td>\n      <td>DAL</td>\n      <td>Dallas Mavericks</td>\n      <td>0022001021</td>\n      <td>2021-05-09</td>\n      <td>DAL @ CLE</td>\n      <td>W</td>\n      <td>239</td>\n      <td>124</td>\n      <td>...</td>\n      <td>0.818</td>\n      <td>8.0</td>\n      <td>34.0</td>\n      <td>42.0</td>\n      <td>33</td>\n      <td>9.0</td>\n      <td>7</td>\n      <td>10</td>\n      <td>24</td>\n      <td>27.0</td>\n    </tr>\n    <tr>\n      <th>0</th>\n      <td>22020</td>\n      <td>1610612748</td>\n      <td>MIA</td>\n      <td>Miami Heat</td>\n      <td>0022000145</td>\n      <td>2021-05-09</td>\n      <td>MIA @ BOS</td>\n      <td>W</td>\n      <td>240</td>\n      <td>130</td>\n      <td>...</td>\n      <td>0.909</td>\n      <td>3.0</td>\n      <td>32.0</td>\n      <td>35.0</td>\n      <td>30</td>\n      <td>8.0</td>\n      <td>2</td>\n      <td>11</td>\n      <td>20</td>\n      <td>6.0</td>\n    </tr>\n    <tr>\n      <th>0</th>\n      <td>22020</td>\n      <td>1610612750</td>\n      <td>MIN</td>\n      <td>Minnesota Timberwolves</td>\n      <td>0022001022</td>\n      <td>2021-05-09</td>\n      <td>MIN @ ORL</td>\n      <td>W</td>\n      <td>241</td>\n      <td>128</td>\n      <td>...</td>\n      <td>0.750</td>\n      <td>12.0</td>\n      <td>45.0</td>\n      <td>57.0</td>\n      <td>30</td>\n      <td>5.0</td>\n      <td>9</td>\n      <td>10</td>\n      <td>20</td>\n      <td>32.0</td>\n    </tr>\n    <tr>\n      <th>0</th>\n      <td>22020</td>\n      <td>1610612752</td>\n      <td>NYK</td>\n      <td>New York Knicks</td>\n      <td>0022001019</td>\n      <td>2021-05-09</td>\n      <td>NYK @ LAC</td>\n      <td>W</td>\n      <td>241</td>\n      <td>106</td>\n      <td>...</td>\n      <td>1.000</td>\n      <td>8.0</td>\n      <td>37.0</td>\n      <td>45.0</td>\n      <td>25</td>\n      <td>7.0</td>\n      <td>5</td>\n      <td>10</td>\n      <td>17</td>\n      <td>6.0</td>\n    </tr>\n    <tr>\n      <th>0</th>\n      <td>22020</td>\n      <td>1610612756</td>\n      <td>PHX</td>\n      <td>Phoenix Suns</td>\n      <td>0022001024</td>\n      <td>2021-05-09</td>\n      <td>PHX @ LAL</td>\n      <td>L</td>\n      <td>240</td>\n      <td>110</td>\n      <td>...</td>\n      <td>0.840</td>\n      <td>3.0</td>\n      <td>29.0</td>\n      <td>32.0</td>\n      <td>23</td>\n      <td>8.0</td>\n      <td>6</td>\n      <td>15</td>\n      <td>29</td>\n      <td>-13.0</td>\n    </tr>\n    <tr>\n      <th>0</th>\n      <td>22020</td>\n      <td>1610612760</td>\n      <td>OKC</td>\n      <td>Oklahoma City Thunder</td>\n      <td>0022001025</td>\n      <td>2021-05-09</td>\n      <td>OKC @ SAC</td>\n      <td>L</td>\n      <td>240</td>\n      <td>98</td>\n      <td>...</td>\n      <td>0.655</td>\n      <td>10.0</td>\n      <td>28.0</td>\n      <td>38.0</td>\n      <td>23</td>\n      <td>9.0</td>\n      <td>3</td>\n      <td>14</td>\n      <td>18</td>\n      <td>-28.0</td>\n    </tr>\n    <tr>\n      <th>0</th>\n      <td>22020</td>\n      <td>1610612738</td>\n      <td>BOS</td>\n      <td>Boston Celtics</td>\n      <td>0022000145</td>\n      <td>2021-05-09</td>\n      <td>BOS vs. MIA</td>\n      <td>L</td>\n      <td>238</td>\n      <td>124</td>\n      <td>...</td>\n      <td>0.800</td>\n      <td>6.0</td>\n      <td>28.0</td>\n      <td>34.0</td>\n      <td>29</td>\n      <td>7.0</td>\n      <td>3</td>\n      <td>14</td>\n      <td>22</td>\n      <td>-6.0</td>\n    </tr>\n    <tr>\n      <th>0</th>\n      <td>22020</td>\n      <td>1610612739</td>\n      <td>CLE</td>\n      <td>Cleveland Cavaliers</td>\n      <td>0022001021</td>\n      <td>2021-05-09</td>\n      <td>CLE vs. DAL</td>\n      <td>L</td>\n      <td>241</td>\n      <td>97</td>\n      <td>...</td>\n      <td>0.645</td>\n      <td>10.0</td>\n      <td>28.0</td>\n      <td>38.0</td>\n      <td>18</td>\n      <td>5.0</td>\n      <td>2</td>\n      <td>14</td>\n      <td>12</td>\n      <td>-27.0</td>\n    </tr>\n    <tr>\n      <th>0</th>\n      <td>22020</td>\n      <td>1610612746</td>\n      <td>LAC</td>\n      <td>LA Clippers</td>\n      <td>0022001019</td>\n      <td>2021-05-09</td>\n      <td>LAC vs. NYK</td>\n      <td>L</td>\n      <td>240</td>\n      <td>100</td>\n      <td>...</td>\n      <td>0.875</td>\n      <td>7.0</td>\n      <td>36.0</td>\n      <td>43.0</td>\n      <td>24</td>\n      <td>5.0</td>\n      <td>1</td>\n      <td>13</td>\n      <td>12</td>\n      <td>-6.0</td>\n    </tr>\n    <tr>\n      <th>0</th>\n      <td>22020</td>\n      <td>1610612747</td>\n      <td>LAL</td>\n      <td>Los Angeles Lakers</td>\n      <td>0022001024</td>\n      <td>2021-05-09</td>\n      <td>LAL vs. PHX</td>\n      <td>W</td>\n      <td>240</td>\n      <td>123</td>\n      <td>...</td>\n      <td>0.780</td>\n      <td>14.0</td>\n      <td>27.0</td>\n      <td>41.0</td>\n      <td>24</td>\n      <td>11.0</td>\n      <td>3</td>\n      <td>13</td>\n      <td>21</td>\n      <td>13.0</td>\n    </tr>\n    <tr>\n      <th>0</th>\n      <td>22020</td>\n      <td>1610612753</td>\n      <td>ORL</td>\n      <td>Orlando Magic</td>\n      <td>0022001022</td>\n      <td>2021-05-09</td>\n      <td>ORL vs. MIN</td>\n      <td>L</td>\n      <td>241</td>\n      <td>96</td>\n      <td>...</td>\n      <td>0.682</td>\n      <td>10.0</td>\n      <td>35.0</td>\n      <td>45.0</td>\n      <td>20</td>\n      <td>5.0</td>\n      <td>5</td>\n      <td>13</td>\n      <td>20</td>\n      <td>-32.0</td>\n    </tr>\n    <tr>\n      <th>0</th>\n      <td>22020</td>\n      <td>1610612758</td>\n      <td>SAC</td>\n      <td>Sacramento Kings</td>\n      <td>0022001025</td>\n      <td>2021-05-09</td>\n      <td>SAC vs. OKC</td>\n      <td>W</td>\n      <td>241</td>\n      <td>126</td>\n      <td>...</td>\n      <td>0.833</td>\n      <td>9.0</td>\n      <td>42.0</td>\n      <td>51.0</td>\n      <td>30</td>\n      <td>8.0</td>\n      <td>11</td>\n      <td>14</td>\n      <td>19</td>\n      <td>28.0</td>\n    </tr>\n    <tr>\n      <th>0</th>\n      <td>22020</td>\n      <td>1610612765</td>\n      <td>DET</td>\n      <td>Detroit Pistons</td>\n      <td>0022001023</td>\n      <td>2021-05-09</td>\n      <td>DET vs. CHI</td>\n      <td>L</td>\n      <td>240</td>\n      <td>96</td>\n      <td>...</td>\n      <td>0.591</td>\n      <td>4.0</td>\n      <td>32.0</td>\n      <td>36.0</td>\n      <td>22</td>\n      <td>4.0</td>\n      <td>4</td>\n      <td>13</td>\n      <td>14</td>\n      <td>-12.0</td>\n    </tr>\n    <tr>\n      <th>0</th>\n      <td>22020</td>\n      <td>1610612766</td>\n      <td>CHA</td>\n      <td>Charlotte Hornets</td>\n      <td>0022001020</td>\n      <td>2021-05-09</td>\n      <td>CHA vs. NOP</td>\n      <td>L</td>\n      <td>240</td>\n      <td>110</td>\n      <td>...</td>\n      <td>0.722</td>\n      <td>11.0</td>\n      <td>35.0</td>\n      <td>46.0</td>\n      <td>22</td>\n      <td>6.0</td>\n      <td>8</td>\n      <td>17</td>\n      <td>19</td>\n      <td>-2.0</td>\n    </tr>\n  </tbody>\n</table>\n<p>16 rows × 28 columns</p>\n</div>"
     },
     "metadata": {},
     "execution_count": 109
    }
   ],
   "source": [
    "df['length'] = df['MATCHUP'].str.len()\n",
    "df.sort_values('length', inplace=True)\n",
    "df.drop(columns=['length'], inplace=True)\n",
    "df"
   ]
  },
  {
   "cell_type": "code",
   "execution_count": 110,
   "metadata": {},
   "outputs": [
    {
     "output_type": "execute_result",
     "data": {
      "text/plain": [
       "   SEASON_ID_x   TEAM_ID_x TEAM_ABBREVIATION_x             TEAM_NAME_x  \\\n",
       "0        22020  1610612740                 NOP    New Orleans Pelicans   \n",
       "1        22020  1610612740                 NOP    New Orleans Pelicans   \n",
       "2        22020  1610612766                 CHA       Charlotte Hornets   \n",
       "3        22020  1610612766                 CHA       Charlotte Hornets   \n",
       "4        22020  1610612741                 CHI           Chicago Bulls   \n",
       "5        22020  1610612741                 CHI           Chicago Bulls   \n",
       "6        22020  1610612765                 DET         Detroit Pistons   \n",
       "7        22020  1610612765                 DET         Detroit Pistons   \n",
       "8        22020  1610612742                 DAL        Dallas Mavericks   \n",
       "9        22020  1610612742                 DAL        Dallas Mavericks   \n",
       "10       22020  1610612739                 CLE     Cleveland Cavaliers   \n",
       "11       22020  1610612739                 CLE     Cleveland Cavaliers   \n",
       "12       22020  1610612748                 MIA              Miami Heat   \n",
       "13       22020  1610612748                 MIA              Miami Heat   \n",
       "14       22020  1610612738                 BOS          Boston Celtics   \n",
       "15       22020  1610612738                 BOS          Boston Celtics   \n",
       "16       22020  1610612750                 MIN  Minnesota Timberwolves   \n",
       "17       22020  1610612750                 MIN  Minnesota Timberwolves   \n",
       "18       22020  1610612753                 ORL           Orlando Magic   \n",
       "19       22020  1610612753                 ORL           Orlando Magic   \n",
       "20       22020  1610612752                 NYK         New York Knicks   \n",
       "21       22020  1610612752                 NYK         New York Knicks   \n",
       "22       22020  1610612746                 LAC             LA Clippers   \n",
       "23       22020  1610612746                 LAC             LA Clippers   \n",
       "24       22020  1610612756                 PHX            Phoenix Suns   \n",
       "25       22020  1610612756                 PHX            Phoenix Suns   \n",
       "26       22020  1610612747                 LAL      Los Angeles Lakers   \n",
       "27       22020  1610612747                 LAL      Los Angeles Lakers   \n",
       "28       22020  1610612760                 OKC   Oklahoma City Thunder   \n",
       "29       22020  1610612760                 OKC   Oklahoma City Thunder   \n",
       "30       22020  1610612758                 SAC        Sacramento Kings   \n",
       "31       22020  1610612758                 SAC        Sacramento Kings   \n",
       "\n",
       "       GAME_ID GAME_DATE_x    MATCHUP_x WL_x  MIN_x  PTS_x  ...  FT_PCT_y  \\\n",
       "0   0022001020  2021-05-09    NOP @ CHA    W    240    112  ...     0.455   \n",
       "1   0022001020  2021-05-09    NOP @ CHA    W    240    112  ...     0.722   \n",
       "2   0022001020  2021-05-09  CHA vs. NOP    L    240    110  ...     0.455   \n",
       "3   0022001020  2021-05-09  CHA vs. NOP    L    240    110  ...     0.722   \n",
       "4   0022001023  2021-05-09    CHI @ DET    W    241    108  ...     0.714   \n",
       "5   0022001023  2021-05-09    CHI @ DET    W    241    108  ...     0.591   \n",
       "6   0022001023  2021-05-09  DET vs. CHI    L    240     96  ...     0.714   \n",
       "7   0022001023  2021-05-09  DET vs. CHI    L    240     96  ...     0.591   \n",
       "8   0022001021  2021-05-09    DAL @ CLE    W    239    124  ...     0.818   \n",
       "9   0022001021  2021-05-09    DAL @ CLE    W    239    124  ...     0.645   \n",
       "10  0022001021  2021-05-09  CLE vs. DAL    L    241     97  ...     0.818   \n",
       "11  0022001021  2021-05-09  CLE vs. DAL    L    241     97  ...     0.645   \n",
       "12  0022000145  2021-05-09    MIA @ BOS    W    240    130  ...     0.909   \n",
       "13  0022000145  2021-05-09    MIA @ BOS    W    240    130  ...     0.800   \n",
       "14  0022000145  2021-05-09  BOS vs. MIA    L    238    124  ...     0.909   \n",
       "15  0022000145  2021-05-09  BOS vs. MIA    L    238    124  ...     0.800   \n",
       "16  0022001022  2021-05-09    MIN @ ORL    W    241    128  ...     0.750   \n",
       "17  0022001022  2021-05-09    MIN @ ORL    W    241    128  ...     0.682   \n",
       "18  0022001022  2021-05-09  ORL vs. MIN    L    241     96  ...     0.750   \n",
       "19  0022001022  2021-05-09  ORL vs. MIN    L    241     96  ...     0.682   \n",
       "20  0022001019  2021-05-09    NYK @ LAC    W    241    106  ...     1.000   \n",
       "21  0022001019  2021-05-09    NYK @ LAC    W    241    106  ...     0.875   \n",
       "22  0022001019  2021-05-09  LAC vs. NYK    L    240    100  ...     1.000   \n",
       "23  0022001019  2021-05-09  LAC vs. NYK    L    240    100  ...     0.875   \n",
       "24  0022001024  2021-05-09    PHX @ LAL    L    240    110  ...     0.840   \n",
       "25  0022001024  2021-05-09    PHX @ LAL    L    240    110  ...     0.780   \n",
       "26  0022001024  2021-05-09  LAL vs. PHX    W    240    123  ...     0.840   \n",
       "27  0022001024  2021-05-09  LAL vs. PHX    W    240    123  ...     0.780   \n",
       "28  0022001025  2021-05-09    OKC @ SAC    L    240     98  ...     0.655   \n",
       "29  0022001025  2021-05-09    OKC @ SAC    L    240     98  ...     0.833   \n",
       "30  0022001025  2021-05-09  SAC vs. OKC    W    241    126  ...     0.655   \n",
       "31  0022001025  2021-05-09  SAC vs. OKC    W    241    126  ...     0.833   \n",
       "\n",
       "    OREB_y  DREB_y  REB_y  AST_y  STL_y  BLK_y  TOV_y  PF_y  PLUS_MINUS_y  \n",
       "0     16.0    35.0   51.0     26   11.0      9     16    20           2.0  \n",
       "1     11.0    35.0   46.0     22    6.0      8     17    19          -2.0  \n",
       "2     16.0    35.0   51.0     26   11.0      9     16    20           2.0  \n",
       "3     11.0    35.0   46.0     22    6.0      8     17    19          -2.0  \n",
       "4      5.0    38.0   43.0     27    6.0      2      8    22          12.0  \n",
       "5      4.0    32.0   36.0     22    4.0      4     13    14         -12.0  \n",
       "6      5.0    38.0   43.0     27    6.0      2      8    22          12.0  \n",
       "7      4.0    32.0   36.0     22    4.0      4     13    14         -12.0  \n",
       "8      8.0    34.0   42.0     33    9.0      7     10    24          27.0  \n",
       "9     10.0    28.0   38.0     18    5.0      2     14    12         -27.0  \n",
       "10     8.0    34.0   42.0     33    9.0      7     10    24          27.0  \n",
       "11    10.0    28.0   38.0     18    5.0      2     14    12         -27.0  \n",
       "12     3.0    32.0   35.0     30    8.0      2     11    20           6.0  \n",
       "13     6.0    28.0   34.0     29    7.0      3     14    22          -6.0  \n",
       "14     3.0    32.0   35.0     30    8.0      2     11    20           6.0  \n",
       "15     6.0    28.0   34.0     29    7.0      3     14    22          -6.0  \n",
       "16    12.0    45.0   57.0     30    5.0      9     10    20          32.0  \n",
       "17    10.0    35.0   45.0     20    5.0      5     13    20         -32.0  \n",
       "18    12.0    45.0   57.0     30    5.0      9     10    20          32.0  \n",
       "19    10.0    35.0   45.0     20    5.0      5     13    20         -32.0  \n",
       "20     8.0    37.0   45.0     25    7.0      5     10    17           6.0  \n",
       "21     7.0    36.0   43.0     24    5.0      1     13    12          -6.0  \n",
       "22     8.0    37.0   45.0     25    7.0      5     10    17           6.0  \n",
       "23     7.0    36.0   43.0     24    5.0      1     13    12          -6.0  \n",
       "24     3.0    29.0   32.0     23    8.0      6     15    29         -13.0  \n",
       "25    14.0    27.0   41.0     24   11.0      3     13    21          13.0  \n",
       "26     3.0    29.0   32.0     23    8.0      6     15    29         -13.0  \n",
       "27    14.0    27.0   41.0     24   11.0      3     13    21          13.0  \n",
       "28    10.0    28.0   38.0     23    9.0      3     14    18         -28.0  \n",
       "29     9.0    42.0   51.0     30    8.0     11     14    19          28.0  \n",
       "30    10.0    28.0   38.0     23    9.0      3     14    18         -28.0  \n",
       "31     9.0    42.0   51.0     30    8.0     11     14    19          28.0  \n",
       "\n",
       "[32 rows x 55 columns]"
      ],
      "text/html": "<div>\n<style scoped>\n    .dataframe tbody tr th:only-of-type {\n        vertical-align: middle;\n    }\n\n    .dataframe tbody tr th {\n        vertical-align: top;\n    }\n\n    .dataframe thead th {\n        text-align: right;\n    }\n</style>\n<table border=\"1\" class=\"dataframe\">\n  <thead>\n    <tr style=\"text-align: right;\">\n      <th></th>\n      <th>SEASON_ID_x</th>\n      <th>TEAM_ID_x</th>\n      <th>TEAM_ABBREVIATION_x</th>\n      <th>TEAM_NAME_x</th>\n      <th>GAME_ID</th>\n      <th>GAME_DATE_x</th>\n      <th>MATCHUP_x</th>\n      <th>WL_x</th>\n      <th>MIN_x</th>\n      <th>PTS_x</th>\n      <th>...</th>\n      <th>FT_PCT_y</th>\n      <th>OREB_y</th>\n      <th>DREB_y</th>\n      <th>REB_y</th>\n      <th>AST_y</th>\n      <th>STL_y</th>\n      <th>BLK_y</th>\n      <th>TOV_y</th>\n      <th>PF_y</th>\n      <th>PLUS_MINUS_y</th>\n    </tr>\n  </thead>\n  <tbody>\n    <tr>\n      <th>0</th>\n      <td>22020</td>\n      <td>1610612740</td>\n      <td>NOP</td>\n      <td>New Orleans Pelicans</td>\n      <td>0022001020</td>\n      <td>2021-05-09</td>\n      <td>NOP @ CHA</td>\n      <td>W</td>\n      <td>240</td>\n      <td>112</td>\n      <td>...</td>\n      <td>0.455</td>\n      <td>16.0</td>\n      <td>35.0</td>\n      <td>51.0</td>\n      <td>26</td>\n      <td>11.0</td>\n      <td>9</td>\n      <td>16</td>\n      <td>20</td>\n      <td>2.0</td>\n    </tr>\n    <tr>\n      <th>1</th>\n      <td>22020</td>\n      <td>1610612740</td>\n      <td>NOP</td>\n      <td>New Orleans Pelicans</td>\n      <td>0022001020</td>\n      <td>2021-05-09</td>\n      <td>NOP @ CHA</td>\n      <td>W</td>\n      <td>240</td>\n      <td>112</td>\n      <td>...</td>\n      <td>0.722</td>\n      <td>11.0</td>\n      <td>35.0</td>\n      <td>46.0</td>\n      <td>22</td>\n      <td>6.0</td>\n      <td>8</td>\n      <td>17</td>\n      <td>19</td>\n      <td>-2.0</td>\n    </tr>\n    <tr>\n      <th>2</th>\n      <td>22020</td>\n      <td>1610612766</td>\n      <td>CHA</td>\n      <td>Charlotte Hornets</td>\n      <td>0022001020</td>\n      <td>2021-05-09</td>\n      <td>CHA vs. NOP</td>\n      <td>L</td>\n      <td>240</td>\n      <td>110</td>\n      <td>...</td>\n      <td>0.455</td>\n      <td>16.0</td>\n      <td>35.0</td>\n      <td>51.0</td>\n      <td>26</td>\n      <td>11.0</td>\n      <td>9</td>\n      <td>16</td>\n      <td>20</td>\n      <td>2.0</td>\n    </tr>\n    <tr>\n      <th>3</th>\n      <td>22020</td>\n      <td>1610612766</td>\n      <td>CHA</td>\n      <td>Charlotte Hornets</td>\n      <td>0022001020</td>\n      <td>2021-05-09</td>\n      <td>CHA vs. NOP</td>\n      <td>L</td>\n      <td>240</td>\n      <td>110</td>\n      <td>...</td>\n      <td>0.722</td>\n      <td>11.0</td>\n      <td>35.0</td>\n      <td>46.0</td>\n      <td>22</td>\n      <td>6.0</td>\n      <td>8</td>\n      <td>17</td>\n      <td>19</td>\n      <td>-2.0</td>\n    </tr>\n    <tr>\n      <th>4</th>\n      <td>22020</td>\n      <td>1610612741</td>\n      <td>CHI</td>\n      <td>Chicago Bulls</td>\n      <td>0022001023</td>\n      <td>2021-05-09</td>\n      <td>CHI @ DET</td>\n      <td>W</td>\n      <td>241</td>\n      <td>108</td>\n      <td>...</td>\n      <td>0.714</td>\n      <td>5.0</td>\n      <td>38.0</td>\n      <td>43.0</td>\n      <td>27</td>\n      <td>6.0</td>\n      <td>2</td>\n      <td>8</td>\n      <td>22</td>\n      <td>12.0</td>\n    </tr>\n    <tr>\n      <th>5</th>\n      <td>22020</td>\n      <td>1610612741</td>\n      <td>CHI</td>\n      <td>Chicago Bulls</td>\n      <td>0022001023</td>\n      <td>2021-05-09</td>\n      <td>CHI @ DET</td>\n      <td>W</td>\n      <td>241</td>\n      <td>108</td>\n      <td>...</td>\n      <td>0.591</td>\n      <td>4.0</td>\n      <td>32.0</td>\n      <td>36.0</td>\n      <td>22</td>\n      <td>4.0</td>\n      <td>4</td>\n      <td>13</td>\n      <td>14</td>\n      <td>-12.0</td>\n    </tr>\n    <tr>\n      <th>6</th>\n      <td>22020</td>\n      <td>1610612765</td>\n      <td>DET</td>\n      <td>Detroit Pistons</td>\n      <td>0022001023</td>\n      <td>2021-05-09</td>\n      <td>DET vs. CHI</td>\n      <td>L</td>\n      <td>240</td>\n      <td>96</td>\n      <td>...</td>\n      <td>0.714</td>\n      <td>5.0</td>\n      <td>38.0</td>\n      <td>43.0</td>\n      <td>27</td>\n      <td>6.0</td>\n      <td>2</td>\n      <td>8</td>\n      <td>22</td>\n      <td>12.0</td>\n    </tr>\n    <tr>\n      <th>7</th>\n      <td>22020</td>\n      <td>1610612765</td>\n      <td>DET</td>\n      <td>Detroit Pistons</td>\n      <td>0022001023</td>\n      <td>2021-05-09</td>\n      <td>DET vs. CHI</td>\n      <td>L</td>\n      <td>240</td>\n      <td>96</td>\n      <td>...</td>\n      <td>0.591</td>\n      <td>4.0</td>\n      <td>32.0</td>\n      <td>36.0</td>\n      <td>22</td>\n      <td>4.0</td>\n      <td>4</td>\n      <td>13</td>\n      <td>14</td>\n      <td>-12.0</td>\n    </tr>\n    <tr>\n      <th>8</th>\n      <td>22020</td>\n      <td>1610612742</td>\n      <td>DAL</td>\n      <td>Dallas Mavericks</td>\n      <td>0022001021</td>\n      <td>2021-05-09</td>\n      <td>DAL @ CLE</td>\n      <td>W</td>\n      <td>239</td>\n      <td>124</td>\n      <td>...</td>\n      <td>0.818</td>\n      <td>8.0</td>\n      <td>34.0</td>\n      <td>42.0</td>\n      <td>33</td>\n      <td>9.0</td>\n      <td>7</td>\n      <td>10</td>\n      <td>24</td>\n      <td>27.0</td>\n    </tr>\n    <tr>\n      <th>9</th>\n      <td>22020</td>\n      <td>1610612742</td>\n      <td>DAL</td>\n      <td>Dallas Mavericks</td>\n      <td>0022001021</td>\n      <td>2021-05-09</td>\n      <td>DAL @ CLE</td>\n      <td>W</td>\n      <td>239</td>\n      <td>124</td>\n      <td>...</td>\n      <td>0.645</td>\n      <td>10.0</td>\n      <td>28.0</td>\n      <td>38.0</td>\n      <td>18</td>\n      <td>5.0</td>\n      <td>2</td>\n      <td>14</td>\n      <td>12</td>\n      <td>-27.0</td>\n    </tr>\n    <tr>\n      <th>10</th>\n      <td>22020</td>\n      <td>1610612739</td>\n      <td>CLE</td>\n      <td>Cleveland Cavaliers</td>\n      <td>0022001021</td>\n      <td>2021-05-09</td>\n      <td>CLE vs. DAL</td>\n      <td>L</td>\n      <td>241</td>\n      <td>97</td>\n      <td>...</td>\n      <td>0.818</td>\n      <td>8.0</td>\n      <td>34.0</td>\n      <td>42.0</td>\n      <td>33</td>\n      <td>9.0</td>\n      <td>7</td>\n      <td>10</td>\n      <td>24</td>\n      <td>27.0</td>\n    </tr>\n    <tr>\n      <th>11</th>\n      <td>22020</td>\n      <td>1610612739</td>\n      <td>CLE</td>\n      <td>Cleveland Cavaliers</td>\n      <td>0022001021</td>\n      <td>2021-05-09</td>\n      <td>CLE vs. DAL</td>\n      <td>L</td>\n      <td>241</td>\n      <td>97</td>\n      <td>...</td>\n      <td>0.645</td>\n      <td>10.0</td>\n      <td>28.0</td>\n      <td>38.0</td>\n      <td>18</td>\n      <td>5.0</td>\n      <td>2</td>\n      <td>14</td>\n      <td>12</td>\n      <td>-27.0</td>\n    </tr>\n    <tr>\n      <th>12</th>\n      <td>22020</td>\n      <td>1610612748</td>\n      <td>MIA</td>\n      <td>Miami Heat</td>\n      <td>0022000145</td>\n      <td>2021-05-09</td>\n      <td>MIA @ BOS</td>\n      <td>W</td>\n      <td>240</td>\n      <td>130</td>\n      <td>...</td>\n      <td>0.909</td>\n      <td>3.0</td>\n      <td>32.0</td>\n      <td>35.0</td>\n      <td>30</td>\n      <td>8.0</td>\n      <td>2</td>\n      <td>11</td>\n      <td>20</td>\n      <td>6.0</td>\n    </tr>\n    <tr>\n      <th>13</th>\n      <td>22020</td>\n      <td>1610612748</td>\n      <td>MIA</td>\n      <td>Miami Heat</td>\n      <td>0022000145</td>\n      <td>2021-05-09</td>\n      <td>MIA @ BOS</td>\n      <td>W</td>\n      <td>240</td>\n      <td>130</td>\n      <td>...</td>\n      <td>0.800</td>\n      <td>6.0</td>\n      <td>28.0</td>\n      <td>34.0</td>\n      <td>29</td>\n      <td>7.0</td>\n      <td>3</td>\n      <td>14</td>\n      <td>22</td>\n      <td>-6.0</td>\n    </tr>\n    <tr>\n      <th>14</th>\n      <td>22020</td>\n      <td>1610612738</td>\n      <td>BOS</td>\n      <td>Boston Celtics</td>\n      <td>0022000145</td>\n      <td>2021-05-09</td>\n      <td>BOS vs. MIA</td>\n      <td>L</td>\n      <td>238</td>\n      <td>124</td>\n      <td>...</td>\n      <td>0.909</td>\n      <td>3.0</td>\n      <td>32.0</td>\n      <td>35.0</td>\n      <td>30</td>\n      <td>8.0</td>\n      <td>2</td>\n      <td>11</td>\n      <td>20</td>\n      <td>6.0</td>\n    </tr>\n    <tr>\n      <th>15</th>\n      <td>22020</td>\n      <td>1610612738</td>\n      <td>BOS</td>\n      <td>Boston Celtics</td>\n      <td>0022000145</td>\n      <td>2021-05-09</td>\n      <td>BOS vs. MIA</td>\n      <td>L</td>\n      <td>238</td>\n      <td>124</td>\n      <td>...</td>\n      <td>0.800</td>\n      <td>6.0</td>\n      <td>28.0</td>\n      <td>34.0</td>\n      <td>29</td>\n      <td>7.0</td>\n      <td>3</td>\n      <td>14</td>\n      <td>22</td>\n      <td>-6.0</td>\n    </tr>\n    <tr>\n      <th>16</th>\n      <td>22020</td>\n      <td>1610612750</td>\n      <td>MIN</td>\n      <td>Minnesota Timberwolves</td>\n      <td>0022001022</td>\n      <td>2021-05-09</td>\n      <td>MIN @ ORL</td>\n      <td>W</td>\n      <td>241</td>\n      <td>128</td>\n      <td>...</td>\n      <td>0.750</td>\n      <td>12.0</td>\n      <td>45.0</td>\n      <td>57.0</td>\n      <td>30</td>\n      <td>5.0</td>\n      <td>9</td>\n      <td>10</td>\n      <td>20</td>\n      <td>32.0</td>\n    </tr>\n    <tr>\n      <th>17</th>\n      <td>22020</td>\n      <td>1610612750</td>\n      <td>MIN</td>\n      <td>Minnesota Timberwolves</td>\n      <td>0022001022</td>\n      <td>2021-05-09</td>\n      <td>MIN @ ORL</td>\n      <td>W</td>\n      <td>241</td>\n      <td>128</td>\n      <td>...</td>\n      <td>0.682</td>\n      <td>10.0</td>\n      <td>35.0</td>\n      <td>45.0</td>\n      <td>20</td>\n      <td>5.0</td>\n      <td>5</td>\n      <td>13</td>\n      <td>20</td>\n      <td>-32.0</td>\n    </tr>\n    <tr>\n      <th>18</th>\n      <td>22020</td>\n      <td>1610612753</td>\n      <td>ORL</td>\n      <td>Orlando Magic</td>\n      <td>0022001022</td>\n      <td>2021-05-09</td>\n      <td>ORL vs. MIN</td>\n      <td>L</td>\n      <td>241</td>\n      <td>96</td>\n      <td>...</td>\n      <td>0.750</td>\n      <td>12.0</td>\n      <td>45.0</td>\n      <td>57.0</td>\n      <td>30</td>\n      <td>5.0</td>\n      <td>9</td>\n      <td>10</td>\n      <td>20</td>\n      <td>32.0</td>\n    </tr>\n    <tr>\n      <th>19</th>\n      <td>22020</td>\n      <td>1610612753</td>\n      <td>ORL</td>\n      <td>Orlando Magic</td>\n      <td>0022001022</td>\n      <td>2021-05-09</td>\n      <td>ORL vs. MIN</td>\n      <td>L</td>\n      <td>241</td>\n      <td>96</td>\n      <td>...</td>\n      <td>0.682</td>\n      <td>10.0</td>\n      <td>35.0</td>\n      <td>45.0</td>\n      <td>20</td>\n      <td>5.0</td>\n      <td>5</td>\n      <td>13</td>\n      <td>20</td>\n      <td>-32.0</td>\n    </tr>\n    <tr>\n      <th>20</th>\n      <td>22020</td>\n      <td>1610612752</td>\n      <td>NYK</td>\n      <td>New York Knicks</td>\n      <td>0022001019</td>\n      <td>2021-05-09</td>\n      <td>NYK @ LAC</td>\n      <td>W</td>\n      <td>241</td>\n      <td>106</td>\n      <td>...</td>\n      <td>1.000</td>\n      <td>8.0</td>\n      <td>37.0</td>\n      <td>45.0</td>\n      <td>25</td>\n      <td>7.0</td>\n      <td>5</td>\n      <td>10</td>\n      <td>17</td>\n      <td>6.0</td>\n    </tr>\n    <tr>\n      <th>21</th>\n      <td>22020</td>\n      <td>1610612752</td>\n      <td>NYK</td>\n      <td>New York Knicks</td>\n      <td>0022001019</td>\n      <td>2021-05-09</td>\n      <td>NYK @ LAC</td>\n      <td>W</td>\n      <td>241</td>\n      <td>106</td>\n      <td>...</td>\n      <td>0.875</td>\n      <td>7.0</td>\n      <td>36.0</td>\n      <td>43.0</td>\n      <td>24</td>\n      <td>5.0</td>\n      <td>1</td>\n      <td>13</td>\n      <td>12</td>\n      <td>-6.0</td>\n    </tr>\n    <tr>\n      <th>22</th>\n      <td>22020</td>\n      <td>1610612746</td>\n      <td>LAC</td>\n      <td>LA Clippers</td>\n      <td>0022001019</td>\n      <td>2021-05-09</td>\n      <td>LAC vs. NYK</td>\n      <td>L</td>\n      <td>240</td>\n      <td>100</td>\n      <td>...</td>\n      <td>1.000</td>\n      <td>8.0</td>\n      <td>37.0</td>\n      <td>45.0</td>\n      <td>25</td>\n      <td>7.0</td>\n      <td>5</td>\n      <td>10</td>\n      <td>17</td>\n      <td>6.0</td>\n    </tr>\n    <tr>\n      <th>23</th>\n      <td>22020</td>\n      <td>1610612746</td>\n      <td>LAC</td>\n      <td>LA Clippers</td>\n      <td>0022001019</td>\n      <td>2021-05-09</td>\n      <td>LAC vs. NYK</td>\n      <td>L</td>\n      <td>240</td>\n      <td>100</td>\n      <td>...</td>\n      <td>0.875</td>\n      <td>7.0</td>\n      <td>36.0</td>\n      <td>43.0</td>\n      <td>24</td>\n      <td>5.0</td>\n      <td>1</td>\n      <td>13</td>\n      <td>12</td>\n      <td>-6.0</td>\n    </tr>\n    <tr>\n      <th>24</th>\n      <td>22020</td>\n      <td>1610612756</td>\n      <td>PHX</td>\n      <td>Phoenix Suns</td>\n      <td>0022001024</td>\n      <td>2021-05-09</td>\n      <td>PHX @ LAL</td>\n      <td>L</td>\n      <td>240</td>\n      <td>110</td>\n      <td>...</td>\n      <td>0.840</td>\n      <td>3.0</td>\n      <td>29.0</td>\n      <td>32.0</td>\n      <td>23</td>\n      <td>8.0</td>\n      <td>6</td>\n      <td>15</td>\n      <td>29</td>\n      <td>-13.0</td>\n    </tr>\n    <tr>\n      <th>25</th>\n      <td>22020</td>\n      <td>1610612756</td>\n      <td>PHX</td>\n      <td>Phoenix Suns</td>\n      <td>0022001024</td>\n      <td>2021-05-09</td>\n      <td>PHX @ LAL</td>\n      <td>L</td>\n      <td>240</td>\n      <td>110</td>\n      <td>...</td>\n      <td>0.780</td>\n      <td>14.0</td>\n      <td>27.0</td>\n      <td>41.0</td>\n      <td>24</td>\n      <td>11.0</td>\n      <td>3</td>\n      <td>13</td>\n      <td>21</td>\n      <td>13.0</td>\n    </tr>\n    <tr>\n      <th>26</th>\n      <td>22020</td>\n      <td>1610612747</td>\n      <td>LAL</td>\n      <td>Los Angeles Lakers</td>\n      <td>0022001024</td>\n      <td>2021-05-09</td>\n      <td>LAL vs. PHX</td>\n      <td>W</td>\n      <td>240</td>\n      <td>123</td>\n      <td>...</td>\n      <td>0.840</td>\n      <td>3.0</td>\n      <td>29.0</td>\n      <td>32.0</td>\n      <td>23</td>\n      <td>8.0</td>\n      <td>6</td>\n      <td>15</td>\n      <td>29</td>\n      <td>-13.0</td>\n    </tr>\n    <tr>\n      <th>27</th>\n      <td>22020</td>\n      <td>1610612747</td>\n      <td>LAL</td>\n      <td>Los Angeles Lakers</td>\n      <td>0022001024</td>\n      <td>2021-05-09</td>\n      <td>LAL vs. PHX</td>\n      <td>W</td>\n      <td>240</td>\n      <td>123</td>\n      <td>...</td>\n      <td>0.780</td>\n      <td>14.0</td>\n      <td>27.0</td>\n      <td>41.0</td>\n      <td>24</td>\n      <td>11.0</td>\n      <td>3</td>\n      <td>13</td>\n      <td>21</td>\n      <td>13.0</td>\n    </tr>\n    <tr>\n      <th>28</th>\n      <td>22020</td>\n      <td>1610612760</td>\n      <td>OKC</td>\n      <td>Oklahoma City Thunder</td>\n      <td>0022001025</td>\n      <td>2021-05-09</td>\n      <td>OKC @ SAC</td>\n      <td>L</td>\n      <td>240</td>\n      <td>98</td>\n      <td>...</td>\n      <td>0.655</td>\n      <td>10.0</td>\n      <td>28.0</td>\n      <td>38.0</td>\n      <td>23</td>\n      <td>9.0</td>\n      <td>3</td>\n      <td>14</td>\n      <td>18</td>\n      <td>-28.0</td>\n    </tr>\n    <tr>\n      <th>29</th>\n      <td>22020</td>\n      <td>1610612760</td>\n      <td>OKC</td>\n      <td>Oklahoma City Thunder</td>\n      <td>0022001025</td>\n      <td>2021-05-09</td>\n      <td>OKC @ SAC</td>\n      <td>L</td>\n      <td>240</td>\n      <td>98</td>\n      <td>...</td>\n      <td>0.833</td>\n      <td>9.0</td>\n      <td>42.0</td>\n      <td>51.0</td>\n      <td>30</td>\n      <td>8.0</td>\n      <td>11</td>\n      <td>14</td>\n      <td>19</td>\n      <td>28.0</td>\n    </tr>\n    <tr>\n      <th>30</th>\n      <td>22020</td>\n      <td>1610612758</td>\n      <td>SAC</td>\n      <td>Sacramento Kings</td>\n      <td>0022001025</td>\n      <td>2021-05-09</td>\n      <td>SAC vs. OKC</td>\n      <td>W</td>\n      <td>241</td>\n      <td>126</td>\n      <td>...</td>\n      <td>0.655</td>\n      <td>10.0</td>\n      <td>28.0</td>\n      <td>38.0</td>\n      <td>23</td>\n      <td>9.0</td>\n      <td>3</td>\n      <td>14</td>\n      <td>18</td>\n      <td>-28.0</td>\n    </tr>\n    <tr>\n      <th>31</th>\n      <td>22020</td>\n      <td>1610612758</td>\n      <td>SAC</td>\n      <td>Sacramento Kings</td>\n      <td>0022001025</td>\n      <td>2021-05-09</td>\n      <td>SAC vs. OKC</td>\n      <td>W</td>\n      <td>241</td>\n      <td>126</td>\n      <td>...</td>\n      <td>0.833</td>\n      <td>9.0</td>\n      <td>42.0</td>\n      <td>51.0</td>\n      <td>30</td>\n      <td>8.0</td>\n      <td>11</td>\n      <td>14</td>\n      <td>19</td>\n      <td>28.0</td>\n    </tr>\n  </tbody>\n</table>\n<p>32 rows × 55 columns</p>\n</div>"
     },
     "metadata": {},
     "execution_count": 110
    }
   ],
   "source": [
    "df_combined = df.merge(df, on='GAME_ID')\n",
    "df_combined"
   ]
  },
  {
   "cell_type": "code",
   "execution_count": 111,
   "metadata": {},
   "outputs": [
    {
     "output_type": "execute_result",
     "data": {
      "text/plain": [
       "   SEASON_ID_x   TEAM_ID_x TEAM_ABBREVIATION_x          TEAM_NAME_x  \\\n",
       "2        22020  1610612766                 CHA    Charlotte Hornets   \n",
       "6        22020  1610612765                 DET      Detroit Pistons   \n",
       "10       22020  1610612739                 CLE  Cleveland Cavaliers   \n",
       "14       22020  1610612738                 BOS       Boston Celtics   \n",
       "18       22020  1610612753                 ORL        Orlando Magic   \n",
       "22       22020  1610612746                 LAC          LA Clippers   \n",
       "26       22020  1610612747                 LAL   Los Angeles Lakers   \n",
       "30       22020  1610612758                 SAC     Sacramento Kings   \n",
       "\n",
       "       GAME_ID GAME_DATE_x    MATCHUP_x WL_x  MIN_x  PTS_x  ...  FT_PCT_y  \\\n",
       "2   0022001020  2021-05-09  CHA vs. NOP    L    240    110  ...     0.455   \n",
       "6   0022001023  2021-05-09  DET vs. CHI    L    240     96  ...     0.714   \n",
       "10  0022001021  2021-05-09  CLE vs. DAL    L    241     97  ...     0.818   \n",
       "14  0022000145  2021-05-09  BOS vs. MIA    L    238    124  ...     0.909   \n",
       "18  0022001022  2021-05-09  ORL vs. MIN    L    241     96  ...     0.750   \n",
       "22  0022001019  2021-05-09  LAC vs. NYK    L    240    100  ...     1.000   \n",
       "26  0022001024  2021-05-09  LAL vs. PHX    W    240    123  ...     0.840   \n",
       "30  0022001025  2021-05-09  SAC vs. OKC    W    241    126  ...     0.655   \n",
       "\n",
       "    OREB_y  DREB_y  REB_y  AST_y  STL_y  BLK_y  TOV_y  PF_y  PLUS_MINUS_y  \n",
       "2     16.0    35.0   51.0     26   11.0      9     16    20           2.0  \n",
       "6      5.0    38.0   43.0     27    6.0      2      8    22          12.0  \n",
       "10     8.0    34.0   42.0     33    9.0      7     10    24          27.0  \n",
       "14     3.0    32.0   35.0     30    8.0      2     11    20           6.0  \n",
       "18    12.0    45.0   57.0     30    5.0      9     10    20          32.0  \n",
       "22     8.0    37.0   45.0     25    7.0      5     10    17           6.0  \n",
       "26     3.0    29.0   32.0     23    8.0      6     15    29         -13.0  \n",
       "30    10.0    28.0   38.0     23    9.0      3     14    18         -28.0  \n",
       "\n",
       "[8 rows x 55 columns]"
      ],
      "text/html": "<div>\n<style scoped>\n    .dataframe tbody tr th:only-of-type {\n        vertical-align: middle;\n    }\n\n    .dataframe tbody tr th {\n        vertical-align: top;\n    }\n\n    .dataframe thead th {\n        text-align: right;\n    }\n</style>\n<table border=\"1\" class=\"dataframe\">\n  <thead>\n    <tr style=\"text-align: right;\">\n      <th></th>\n      <th>SEASON_ID_x</th>\n      <th>TEAM_ID_x</th>\n      <th>TEAM_ABBREVIATION_x</th>\n      <th>TEAM_NAME_x</th>\n      <th>GAME_ID</th>\n      <th>GAME_DATE_x</th>\n      <th>MATCHUP_x</th>\n      <th>WL_x</th>\n      <th>MIN_x</th>\n      <th>PTS_x</th>\n      <th>...</th>\n      <th>FT_PCT_y</th>\n      <th>OREB_y</th>\n      <th>DREB_y</th>\n      <th>REB_y</th>\n      <th>AST_y</th>\n      <th>STL_y</th>\n      <th>BLK_y</th>\n      <th>TOV_y</th>\n      <th>PF_y</th>\n      <th>PLUS_MINUS_y</th>\n    </tr>\n  </thead>\n  <tbody>\n    <tr>\n      <th>2</th>\n      <td>22020</td>\n      <td>1610612766</td>\n      <td>CHA</td>\n      <td>Charlotte Hornets</td>\n      <td>0022001020</td>\n      <td>2021-05-09</td>\n      <td>CHA vs. NOP</td>\n      <td>L</td>\n      <td>240</td>\n      <td>110</td>\n      <td>...</td>\n      <td>0.455</td>\n      <td>16.0</td>\n      <td>35.0</td>\n      <td>51.0</td>\n      <td>26</td>\n      <td>11.0</td>\n      <td>9</td>\n      <td>16</td>\n      <td>20</td>\n      <td>2.0</td>\n    </tr>\n    <tr>\n      <th>6</th>\n      <td>22020</td>\n      <td>1610612765</td>\n      <td>DET</td>\n      <td>Detroit Pistons</td>\n      <td>0022001023</td>\n      <td>2021-05-09</td>\n      <td>DET vs. CHI</td>\n      <td>L</td>\n      <td>240</td>\n      <td>96</td>\n      <td>...</td>\n      <td>0.714</td>\n      <td>5.0</td>\n      <td>38.0</td>\n      <td>43.0</td>\n      <td>27</td>\n      <td>6.0</td>\n      <td>2</td>\n      <td>8</td>\n      <td>22</td>\n      <td>12.0</td>\n    </tr>\n    <tr>\n      <th>10</th>\n      <td>22020</td>\n      <td>1610612739</td>\n      <td>CLE</td>\n      <td>Cleveland Cavaliers</td>\n      <td>0022001021</td>\n      <td>2021-05-09</td>\n      <td>CLE vs. DAL</td>\n      <td>L</td>\n      <td>241</td>\n      <td>97</td>\n      <td>...</td>\n      <td>0.818</td>\n      <td>8.0</td>\n      <td>34.0</td>\n      <td>42.0</td>\n      <td>33</td>\n      <td>9.0</td>\n      <td>7</td>\n      <td>10</td>\n      <td>24</td>\n      <td>27.0</td>\n    </tr>\n    <tr>\n      <th>14</th>\n      <td>22020</td>\n      <td>1610612738</td>\n      <td>BOS</td>\n      <td>Boston Celtics</td>\n      <td>0022000145</td>\n      <td>2021-05-09</td>\n      <td>BOS vs. MIA</td>\n      <td>L</td>\n      <td>238</td>\n      <td>124</td>\n      <td>...</td>\n      <td>0.909</td>\n      <td>3.0</td>\n      <td>32.0</td>\n      <td>35.0</td>\n      <td>30</td>\n      <td>8.0</td>\n      <td>2</td>\n      <td>11</td>\n      <td>20</td>\n      <td>6.0</td>\n    </tr>\n    <tr>\n      <th>18</th>\n      <td>22020</td>\n      <td>1610612753</td>\n      <td>ORL</td>\n      <td>Orlando Magic</td>\n      <td>0022001022</td>\n      <td>2021-05-09</td>\n      <td>ORL vs. MIN</td>\n      <td>L</td>\n      <td>241</td>\n      <td>96</td>\n      <td>...</td>\n      <td>0.750</td>\n      <td>12.0</td>\n      <td>45.0</td>\n      <td>57.0</td>\n      <td>30</td>\n      <td>5.0</td>\n      <td>9</td>\n      <td>10</td>\n      <td>20</td>\n      <td>32.0</td>\n    </tr>\n    <tr>\n      <th>22</th>\n      <td>22020</td>\n      <td>1610612746</td>\n      <td>LAC</td>\n      <td>LA Clippers</td>\n      <td>0022001019</td>\n      <td>2021-05-09</td>\n      <td>LAC vs. NYK</td>\n      <td>L</td>\n      <td>240</td>\n      <td>100</td>\n      <td>...</td>\n      <td>1.000</td>\n      <td>8.0</td>\n      <td>37.0</td>\n      <td>45.0</td>\n      <td>25</td>\n      <td>7.0</td>\n      <td>5</td>\n      <td>10</td>\n      <td>17</td>\n      <td>6.0</td>\n    </tr>\n    <tr>\n      <th>26</th>\n      <td>22020</td>\n      <td>1610612747</td>\n      <td>LAL</td>\n      <td>Los Angeles Lakers</td>\n      <td>0022001024</td>\n      <td>2021-05-09</td>\n      <td>LAL vs. PHX</td>\n      <td>W</td>\n      <td>240</td>\n      <td>123</td>\n      <td>...</td>\n      <td>0.840</td>\n      <td>3.0</td>\n      <td>29.0</td>\n      <td>32.0</td>\n      <td>23</td>\n      <td>8.0</td>\n      <td>6</td>\n      <td>15</td>\n      <td>29</td>\n      <td>-13.0</td>\n    </tr>\n    <tr>\n      <th>30</th>\n      <td>22020</td>\n      <td>1610612758</td>\n      <td>SAC</td>\n      <td>Sacramento Kings</td>\n      <td>0022001025</td>\n      <td>2021-05-09</td>\n      <td>SAC vs. OKC</td>\n      <td>W</td>\n      <td>241</td>\n      <td>126</td>\n      <td>...</td>\n      <td>0.655</td>\n      <td>10.0</td>\n      <td>28.0</td>\n      <td>38.0</td>\n      <td>23</td>\n      <td>9.0</td>\n      <td>3</td>\n      <td>14</td>\n      <td>18</td>\n      <td>-28.0</td>\n    </tr>\n  </tbody>\n</table>\n<p>8 rows × 55 columns</p>\n</div>"
     },
     "metadata": {},
     "execution_count": 111
    }
   ],
   "source": [
    "df_combined = df_combined.drop(df_combined[df_combined['TEAM_ID_x'] == df_combined['TEAM_ID_y']].index)\n",
    "df_combined = df_combined.iloc[1:].iloc[::2]\n",
    "df_combined"
   ]
  }
 ]
}