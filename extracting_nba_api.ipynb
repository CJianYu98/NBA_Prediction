{
 "metadata": {
  "language_info": {
   "codemirror_mode": {
    "name": "ipython",
    "version": 3
   },
   "file_extension": ".py",
   "mimetype": "text/x-python",
   "name": "python",
   "nbconvert_exporter": "python",
   "pygments_lexer": "ipython3",
   "version": "3.8.3"
  },
  "orig_nbformat": 2,
  "kernelspec": {
   "name": "python383jvsc74a57bd00adcc2737ebf6a4a119f135174df96668767fca1ef1112612db5ecadf2b6d608",
   "display_name": "Python 3.8.3 64-bit"
  }
 },
 "nbformat": 4,
 "nbformat_minor": 2,
 "cells": [
  {
   "cell_type": "code",
   "execution_count": 1,
   "metadata": {},
   "outputs": [],
   "source": [
    "import requests\n",
    "import pandas as pd\n",
    "import datetime\n",
    "import time\n",
    "\n",
    "from nba_api.stats.static import teams\n",
    "from nba_api.stats.endpoints import leaguegamefinder"
   ]
  },
  {
   "cell_type": "code",
   "execution_count": 2,
   "metadata": {},
   "outputs": [
    {
     "output_type": "execute_result",
     "data": {
      "text/plain": [
       "           id             full_name abbreviation   nickname         city  \\\n",
       "0  1610612737         Atlanta Hawks          ATL      Hawks      Atlanta   \n",
       "1  1610612738        Boston Celtics          BOS    Celtics       Boston   \n",
       "2  1610612739   Cleveland Cavaliers          CLE  Cavaliers    Cleveland   \n",
       "3  1610612740  New Orleans Pelicans          NOP   Pelicans  New Orleans   \n",
       "4  1610612741         Chicago Bulls          CHI      Bulls      Chicago   \n",
       "\n",
       "           state  year_founded  \n",
       "0        Atlanta          1949  \n",
       "1  Massachusetts          1946  \n",
       "2           Ohio          1970  \n",
       "3      Louisiana          2002  \n",
       "4       Illinois          1966  "
      ],
      "text/html": "<div>\n<style scoped>\n    .dataframe tbody tr th:only-of-type {\n        vertical-align: middle;\n    }\n\n    .dataframe tbody tr th {\n        vertical-align: top;\n    }\n\n    .dataframe thead th {\n        text-align: right;\n    }\n</style>\n<table border=\"1\" class=\"dataframe\">\n  <thead>\n    <tr style=\"text-align: right;\">\n      <th></th>\n      <th>id</th>\n      <th>full_name</th>\n      <th>abbreviation</th>\n      <th>nickname</th>\n      <th>city</th>\n      <th>state</th>\n      <th>year_founded</th>\n    </tr>\n  </thead>\n  <tbody>\n    <tr>\n      <th>0</th>\n      <td>1610612737</td>\n      <td>Atlanta Hawks</td>\n      <td>ATL</td>\n      <td>Hawks</td>\n      <td>Atlanta</td>\n      <td>Atlanta</td>\n      <td>1949</td>\n    </tr>\n    <tr>\n      <th>1</th>\n      <td>1610612738</td>\n      <td>Boston Celtics</td>\n      <td>BOS</td>\n      <td>Celtics</td>\n      <td>Boston</td>\n      <td>Massachusetts</td>\n      <td>1946</td>\n    </tr>\n    <tr>\n      <th>2</th>\n      <td>1610612739</td>\n      <td>Cleveland Cavaliers</td>\n      <td>CLE</td>\n      <td>Cavaliers</td>\n      <td>Cleveland</td>\n      <td>Ohio</td>\n      <td>1970</td>\n    </tr>\n    <tr>\n      <th>3</th>\n      <td>1610612740</td>\n      <td>New Orleans Pelicans</td>\n      <td>NOP</td>\n      <td>Pelicans</td>\n      <td>New Orleans</td>\n      <td>Louisiana</td>\n      <td>2002</td>\n    </tr>\n    <tr>\n      <th>4</th>\n      <td>1610612741</td>\n      <td>Chicago Bulls</td>\n      <td>CHI</td>\n      <td>Bulls</td>\n      <td>Chicago</td>\n      <td>Illinois</td>\n      <td>1966</td>\n    </tr>\n  </tbody>\n</table>\n</div>"
     },
     "metadata": {},
     "execution_count": 2
    }
   ],
   "source": [
    "nba_teams = pd.DataFrame(teams.get_teams())\n",
    "nba_teams.head()"
   ]
  },
  {
   "cell_type": "code",
   "execution_count": 3,
   "metadata": {},
   "outputs": [
    {
     "output_type": "execute_result",
     "data": {
      "text/plain": [
       "array([1610612737, 1610612738, 1610612739, 1610612740, 1610612741,\n",
       "       1610612742, 1610612743, 1610612744, 1610612745, 1610612746,\n",
       "       1610612747, 1610612748, 1610612749, 1610612750, 1610612751,\n",
       "       1610612752, 1610612753, 1610612754, 1610612755, 1610612756,\n",
       "       1610612757, 1610612758, 1610612759, 1610612760, 1610612761,\n",
       "       1610612762, 1610612763, 1610612764, 1610612765, 1610612766])"
      ]
     },
     "metadata": {},
     "execution_count": 3
    }
   ],
   "source": [
    "team_ids = nba_teams['id'].unique()\n",
    "team_ids"
   ]
  },
  {
   "source": [
    "# Getting all game records of season 20/21 up till now"
   ],
   "cell_type": "markdown",
   "metadata": {}
  },
  {
   "cell_type": "code",
   "execution_count": 10,
   "metadata": {},
   "outputs": [
    {
     "output_type": "stream",
     "name": "stdout",
     "text": [
      "Execution time = 21.352790 seconds\n"
     ]
    }
   ],
   "source": [
    "start_time = time.time()\n",
    "\n",
    "main_df = pd.DataFrame()\n",
    "for team_id in team_ids:\n",
    "    gamefinder = leaguegamefinder.LeagueGameFinder(team_id_nullable=team_id, season_nullable=\"2020-21\", season_type_nullable=\"Regular Season\")\n",
    "    games = gamefinder.get_data_frames()[0]\n",
    "    main_df = main_df.append(games)\n",
    "\n",
    "main_df = main_df.sort_values('GAME_DATE',ascending=False)\n",
    "\n",
    "end_time = time.time()\n",
    "print('Execution time = %.6f seconds' % (end_time-start_time))"
   ]
  },
  {
   "cell_type": "code",
   "execution_count": 7,
   "metadata": {},
   "outputs": [
    {
     "output_type": "execute_result",
     "data": {
      "text/plain": [
       "   SEASON_ID     TEAM_ID TEAM_ABBREVIATION               TEAM_NAME  \\\n",
       "0      22020  1610612755               PHI      Philadelphia 76ers   \n",
       "0      22020  1610612757               POR  Portland Trail Blazers   \n",
       "0      22020  1610612766               CHA       Charlotte Hornets   \n",
       "0      22020  1610612738               BOS          Boston Celtics   \n",
       "0      22020  1610612748               MIA              Miami Heat   \n",
       "..       ...         ...               ...                     ...   \n",
       "66     22020  1610612766               CHA       Charlotte Hornets   \n",
       "66     22020  1610612747               LAL      Los Angeles Lakers   \n",
       "66     22020  1610612751               BKN           Brooklyn Nets   \n",
       "66     22020  1610612744               GSW   Golden State Warriors   \n",
       "66     22020  1610612746               LAC             LA Clippers   \n",
       "\n",
       "       GAME_ID   GAME_DATE      MATCHUP WL  MIN  PTS  ...  FT_PCT  OREB  DREB  \\\n",
       "0   0022001003  2021-05-07  PHI vs. NOP  W  240  109  ...   0.818    10    41   \n",
       "0   0022001010  2021-05-07  POR vs. LAL  W  241  106  ...   0.952     6    38   \n",
       "0   0022001004  2021-05-07  CHA vs. ORL  W  241  122  ...   0.758    11    40   \n",
       "0   0022000160  2021-05-07    BOS @ CHI  L  239   99  ...   0.783    11    36   \n",
       "0   0022001005  2021-05-07  MIA vs. MIN  W  240  121  ...   0.741     8    29   \n",
       "..         ...         ...          ... ..  ...  ...  ...     ...   ...   ...   \n",
       "66  0022000010  2020-12-23    CHA @ CLE  L  240  114  ...   0.533     8    24   \n",
       "66  0022000002  2020-12-22  LAL vs. LAC  L  240  109  ...   0.774     8    37   \n",
       "66  0022000001  2020-12-22  BKN vs. GSW  W  242  125  ...   0.813    13    44   \n",
       "66  0022000001  2020-12-22    GSW @ BKN  L  240   99  ...   0.652    13    34   \n",
       "66  0022000002  2020-12-22    LAC @ LAL  W  241  116  ...   0.737    11    29   \n",
       "\n",
       "    REB  AST  STL  BLK  TOV  PF  PLUS_MINUS  \n",
       "0    51   27    5    6   15  19         2.0  \n",
       "0    44   22    6    2    8  20         5.0  \n",
       "0    51   28    5    4   11  23        10.0  \n",
       "0    47   19    5    8   13  15       -22.0  \n",
       "0    37   27    9    2   14  22         9.0  \n",
       "..  ...  ...  ...  ...  ...  ..         ...  \n",
       "66   32   29   10    4   15  17        -7.0  \n",
       "66   45   22    4    2   19  20        -7.0  \n",
       "66   57   24   11    7   20  22        26.0  \n",
       "66   47   26    6    6   18  24       -26.0  \n",
       "66   40   22   10    3   16  29         7.0  \n",
       "\n",
       "[2008 rows x 28 columns]"
      ],
      "text/html": "<div>\n<style scoped>\n    .dataframe tbody tr th:only-of-type {\n        vertical-align: middle;\n    }\n\n    .dataframe tbody tr th {\n        vertical-align: top;\n    }\n\n    .dataframe thead th {\n        text-align: right;\n    }\n</style>\n<table border=\"1\" class=\"dataframe\">\n  <thead>\n    <tr style=\"text-align: right;\">\n      <th></th>\n      <th>SEASON_ID</th>\n      <th>TEAM_ID</th>\n      <th>TEAM_ABBREVIATION</th>\n      <th>TEAM_NAME</th>\n      <th>GAME_ID</th>\n      <th>GAME_DATE</th>\n      <th>MATCHUP</th>\n      <th>WL</th>\n      <th>MIN</th>\n      <th>PTS</th>\n      <th>...</th>\n      <th>FT_PCT</th>\n      <th>OREB</th>\n      <th>DREB</th>\n      <th>REB</th>\n      <th>AST</th>\n      <th>STL</th>\n      <th>BLK</th>\n      <th>TOV</th>\n      <th>PF</th>\n      <th>PLUS_MINUS</th>\n    </tr>\n  </thead>\n  <tbody>\n    <tr>\n      <th>0</th>\n      <td>22020</td>\n      <td>1610612755</td>\n      <td>PHI</td>\n      <td>Philadelphia 76ers</td>\n      <td>0022001003</td>\n      <td>2021-05-07</td>\n      <td>PHI vs. NOP</td>\n      <td>W</td>\n      <td>240</td>\n      <td>109</td>\n      <td>...</td>\n      <td>0.818</td>\n      <td>10</td>\n      <td>41</td>\n      <td>51</td>\n      <td>27</td>\n      <td>5</td>\n      <td>6</td>\n      <td>15</td>\n      <td>19</td>\n      <td>2.0</td>\n    </tr>\n    <tr>\n      <th>0</th>\n      <td>22020</td>\n      <td>1610612757</td>\n      <td>POR</td>\n      <td>Portland Trail Blazers</td>\n      <td>0022001010</td>\n      <td>2021-05-07</td>\n      <td>POR vs. LAL</td>\n      <td>W</td>\n      <td>241</td>\n      <td>106</td>\n      <td>...</td>\n      <td>0.952</td>\n      <td>6</td>\n      <td>38</td>\n      <td>44</td>\n      <td>22</td>\n      <td>6</td>\n      <td>2</td>\n      <td>8</td>\n      <td>20</td>\n      <td>5.0</td>\n    </tr>\n    <tr>\n      <th>0</th>\n      <td>22020</td>\n      <td>1610612766</td>\n      <td>CHA</td>\n      <td>Charlotte Hornets</td>\n      <td>0022001004</td>\n      <td>2021-05-07</td>\n      <td>CHA vs. ORL</td>\n      <td>W</td>\n      <td>241</td>\n      <td>122</td>\n      <td>...</td>\n      <td>0.758</td>\n      <td>11</td>\n      <td>40</td>\n      <td>51</td>\n      <td>28</td>\n      <td>5</td>\n      <td>4</td>\n      <td>11</td>\n      <td>23</td>\n      <td>10.0</td>\n    </tr>\n    <tr>\n      <th>0</th>\n      <td>22020</td>\n      <td>1610612738</td>\n      <td>BOS</td>\n      <td>Boston Celtics</td>\n      <td>0022000160</td>\n      <td>2021-05-07</td>\n      <td>BOS @ CHI</td>\n      <td>L</td>\n      <td>239</td>\n      <td>99</td>\n      <td>...</td>\n      <td>0.783</td>\n      <td>11</td>\n      <td>36</td>\n      <td>47</td>\n      <td>19</td>\n      <td>5</td>\n      <td>8</td>\n      <td>13</td>\n      <td>15</td>\n      <td>-22.0</td>\n    </tr>\n    <tr>\n      <th>0</th>\n      <td>22020</td>\n      <td>1610612748</td>\n      <td>MIA</td>\n      <td>Miami Heat</td>\n      <td>0022001005</td>\n      <td>2021-05-07</td>\n      <td>MIA vs. MIN</td>\n      <td>W</td>\n      <td>240</td>\n      <td>121</td>\n      <td>...</td>\n      <td>0.741</td>\n      <td>8</td>\n      <td>29</td>\n      <td>37</td>\n      <td>27</td>\n      <td>9</td>\n      <td>2</td>\n      <td>14</td>\n      <td>22</td>\n      <td>9.0</td>\n    </tr>\n    <tr>\n      <th>...</th>\n      <td>...</td>\n      <td>...</td>\n      <td>...</td>\n      <td>...</td>\n      <td>...</td>\n      <td>...</td>\n      <td>...</td>\n      <td>...</td>\n      <td>...</td>\n      <td>...</td>\n      <td>...</td>\n      <td>...</td>\n      <td>...</td>\n      <td>...</td>\n      <td>...</td>\n      <td>...</td>\n      <td>...</td>\n      <td>...</td>\n      <td>...</td>\n      <td>...</td>\n      <td>...</td>\n    </tr>\n    <tr>\n      <th>66</th>\n      <td>22020</td>\n      <td>1610612766</td>\n      <td>CHA</td>\n      <td>Charlotte Hornets</td>\n      <td>0022000010</td>\n      <td>2020-12-23</td>\n      <td>CHA @ CLE</td>\n      <td>L</td>\n      <td>240</td>\n      <td>114</td>\n      <td>...</td>\n      <td>0.533</td>\n      <td>8</td>\n      <td>24</td>\n      <td>32</td>\n      <td>29</td>\n      <td>10</td>\n      <td>4</td>\n      <td>15</td>\n      <td>17</td>\n      <td>-7.0</td>\n    </tr>\n    <tr>\n      <th>66</th>\n      <td>22020</td>\n      <td>1610612747</td>\n      <td>LAL</td>\n      <td>Los Angeles Lakers</td>\n      <td>0022000002</td>\n      <td>2020-12-22</td>\n      <td>LAL vs. LAC</td>\n      <td>L</td>\n      <td>240</td>\n      <td>109</td>\n      <td>...</td>\n      <td>0.774</td>\n      <td>8</td>\n      <td>37</td>\n      <td>45</td>\n      <td>22</td>\n      <td>4</td>\n      <td>2</td>\n      <td>19</td>\n      <td>20</td>\n      <td>-7.0</td>\n    </tr>\n    <tr>\n      <th>66</th>\n      <td>22020</td>\n      <td>1610612751</td>\n      <td>BKN</td>\n      <td>Brooklyn Nets</td>\n      <td>0022000001</td>\n      <td>2020-12-22</td>\n      <td>BKN vs. GSW</td>\n      <td>W</td>\n      <td>242</td>\n      <td>125</td>\n      <td>...</td>\n      <td>0.813</td>\n      <td>13</td>\n      <td>44</td>\n      <td>57</td>\n      <td>24</td>\n      <td>11</td>\n      <td>7</td>\n      <td>20</td>\n      <td>22</td>\n      <td>26.0</td>\n    </tr>\n    <tr>\n      <th>66</th>\n      <td>22020</td>\n      <td>1610612744</td>\n      <td>GSW</td>\n      <td>Golden State Warriors</td>\n      <td>0022000001</td>\n      <td>2020-12-22</td>\n      <td>GSW @ BKN</td>\n      <td>L</td>\n      <td>240</td>\n      <td>99</td>\n      <td>...</td>\n      <td>0.652</td>\n      <td>13</td>\n      <td>34</td>\n      <td>47</td>\n      <td>26</td>\n      <td>6</td>\n      <td>6</td>\n      <td>18</td>\n      <td>24</td>\n      <td>-26.0</td>\n    </tr>\n    <tr>\n      <th>66</th>\n      <td>22020</td>\n      <td>1610612746</td>\n      <td>LAC</td>\n      <td>LA Clippers</td>\n      <td>0022000002</td>\n      <td>2020-12-22</td>\n      <td>LAC @ LAL</td>\n      <td>W</td>\n      <td>241</td>\n      <td>116</td>\n      <td>...</td>\n      <td>0.737</td>\n      <td>11</td>\n      <td>29</td>\n      <td>40</td>\n      <td>22</td>\n      <td>10</td>\n      <td>3</td>\n      <td>16</td>\n      <td>29</td>\n      <td>7.0</td>\n    </tr>\n  </tbody>\n</table>\n<p>2008 rows × 28 columns</p>\n</div>"
     },
     "metadata": {},
     "execution_count": 7
    }
   ],
   "source": [
    "main_df"
   ]
  },
  {
   "cell_type": "code",
   "execution_count": 21,
   "metadata": {},
   "outputs": [],
   "source": [
    "main_df.to_csv('nba_api_0705.csv') # create base database, subsequent days to be added on"
   ]
  },
  {
   "source": [
    "# Get games for yesterday"
   ],
   "cell_type": "markdown",
   "metadata": {}
  },
  {
   "cell_type": "code",
   "execution_count": 22,
   "metadata": {},
   "outputs": [
    {
     "output_type": "execute_result",
     "data": {
      "text/plain": [
       "'2021-05-06'"
      ]
     },
     "metadata": {},
     "execution_count": 22
    }
   ],
   "source": [
    "yesterday = datetime.datetime.now() - datetime.timedelta(hours=36)  # based on US timezone\n",
    "ytd_date = yesterday.date().strftime(\"%Y-%m-%d\")   # convert to string format\n",
    "ytd_date"
   ]
  },
  {
   "cell_type": "code",
   "execution_count": 23,
   "metadata": {},
   "outputs": [
    {
     "output_type": "execute_result",
     "data": {
      "text/plain": [
       "  SEASON_ID     TEAM_ID TEAM_ABBREVIATION              TEAM_NAME     GAME_ID  \\\n",
       "0     22020  1610612737               ATL          Atlanta Hawks  0022001000   \n",
       "1     22020  1610612741               CHI          Chicago Bulls  0022000434   \n",
       "1     22020  1610612742               DAL       Dallas Mavericks  0022000998   \n",
       "0     22020  1610612744               GSW  Golden State Warriors  0022001001   \n",
       "0     22020  1610612746               LAC            LA Clippers  0022001002   \n",
       "1     22020  1610612747               LAL     Los Angeles Lakers  0022001002   \n",
       "0     22020  1610612751               BKN          Brooklyn Nets  0022000998   \n",
       "0     22020  1610612754               IND         Indiana Pacers  0022001000   \n",
       "0     22020  1610612760               OKC  Oklahoma City Thunder  0022001001   \n",
       "0     22020  1610612761               TOR        Toronto Raptors  0022000997   \n",
       "0     22020  1610612763               MEM      Memphis Grizzlies  0022000999   \n",
       "0     22020  1610612764               WAS     Washington Wizards  0022000997   \n",
       "0     22020  1610612765               DET        Detroit Pistons  0022000999   \n",
       "1     22020  1610612766               CHA      Charlotte Hornets  0022000434   \n",
       "\n",
       "    GAME_DATE      MATCHUP WL  MIN  PTS  ...  FT_PCT  OREB  DREB   REB  AST  \\\n",
       "0  2021-05-06    ATL @ IND  L  239  126  ...   0.833  10.0  24.0  34.0   27   \n",
       "1  2021-05-06    CHI @ CHA  W  240  120  ...   0.588  15.0  41.0  56.0   33   \n",
       "1  2021-05-06  DAL vs. BKN  W  240  113  ...   0.692  12.0  39.0  51.0   23   \n",
       "0  2021-05-06  GSW vs. OKC  W  238  118  ...   0.833   7.0  42.0  49.0   36   \n",
       "0  2021-05-06  LAC vs. LAL  W  239  118  ...   0.885   9.0  39.0  48.0   23   \n",
       "1  2021-05-06    LAL @ LAC  L  241   94  ...   0.621  11.0  23.0  34.0   21   \n",
       "0  2021-05-06    BKN @ DAL  L  241  109  ...   0.933  10.0  41.0  51.0   18   \n",
       "0  2021-05-06  IND vs. ATL  W  240  133  ...   0.895   4.0  32.0  36.0   35   \n",
       "0  2021-05-06    OKC @ GSW  L  241   97  ...   0.800   5.0  34.0  39.0   21   \n",
       "0  2021-05-06  TOR vs. WAS  L  265  129  ...   0.778  18.0  32.0  50.0   23   \n",
       "0  2021-05-06    MEM @ DET  L  241   97  ...   0.647  12.0  30.0  42.0   25   \n",
       "0  2021-05-06    WAS @ TOR  W  266  131  ...   0.837  11.0  36.0  47.0   29   \n",
       "0  2021-05-06  DET vs. MEM  W  241  111  ...   0.857   5.0  34.0  39.0   24   \n",
       "1  2021-05-06  CHA vs. CHI  L  238   99  ...   0.389  13.0  32.0  45.0   29   \n",
       "\n",
       "    STL  BLK  TOV  PF  PLUS_MINUS  \n",
       "0   8.0    6   12  17        -7.0  \n",
       "1  10.0    8   17  20        21.0  \n",
       "1  10.0    3   12  15         4.0  \n",
       "0   4.0    1   13  19        21.0  \n",
       "0   4.0    5   22  25        24.0  \n",
       "1   8.0    6   10  23       -24.0  \n",
       "0   8.0    4   13  18        -4.0  \n",
       "0  11.0    4   15  19         7.0  \n",
       "0   9.0    1    9  19       -21.0  \n",
       "0   9.0    5   12  30        -2.0  \n",
       "0   7.0    5   15  14       -14.0  \n",
       "0   4.0    6   13  22         2.0  \n",
       "0   9.0    6   11  18        14.0  \n",
       "1  11.0    3   15  16       -21.0  \n",
       "\n",
       "[14 rows x 28 columns]"
      ],
      "text/html": "<div>\n<style scoped>\n    .dataframe tbody tr th:only-of-type {\n        vertical-align: middle;\n    }\n\n    .dataframe tbody tr th {\n        vertical-align: top;\n    }\n\n    .dataframe thead th {\n        text-align: right;\n    }\n</style>\n<table border=\"1\" class=\"dataframe\">\n  <thead>\n    <tr style=\"text-align: right;\">\n      <th></th>\n      <th>SEASON_ID</th>\n      <th>TEAM_ID</th>\n      <th>TEAM_ABBREVIATION</th>\n      <th>TEAM_NAME</th>\n      <th>GAME_ID</th>\n      <th>GAME_DATE</th>\n      <th>MATCHUP</th>\n      <th>WL</th>\n      <th>MIN</th>\n      <th>PTS</th>\n      <th>...</th>\n      <th>FT_PCT</th>\n      <th>OREB</th>\n      <th>DREB</th>\n      <th>REB</th>\n      <th>AST</th>\n      <th>STL</th>\n      <th>BLK</th>\n      <th>TOV</th>\n      <th>PF</th>\n      <th>PLUS_MINUS</th>\n    </tr>\n  </thead>\n  <tbody>\n    <tr>\n      <th>0</th>\n      <td>22020</td>\n      <td>1610612737</td>\n      <td>ATL</td>\n      <td>Atlanta Hawks</td>\n      <td>0022001000</td>\n      <td>2021-05-06</td>\n      <td>ATL @ IND</td>\n      <td>L</td>\n      <td>239</td>\n      <td>126</td>\n      <td>...</td>\n      <td>0.833</td>\n      <td>10.0</td>\n      <td>24.0</td>\n      <td>34.0</td>\n      <td>27</td>\n      <td>8.0</td>\n      <td>6</td>\n      <td>12</td>\n      <td>17</td>\n      <td>-7.0</td>\n    </tr>\n    <tr>\n      <th>1</th>\n      <td>22020</td>\n      <td>1610612741</td>\n      <td>CHI</td>\n      <td>Chicago Bulls</td>\n      <td>0022000434</td>\n      <td>2021-05-06</td>\n      <td>CHI @ CHA</td>\n      <td>W</td>\n      <td>240</td>\n      <td>120</td>\n      <td>...</td>\n      <td>0.588</td>\n      <td>15.0</td>\n      <td>41.0</td>\n      <td>56.0</td>\n      <td>33</td>\n      <td>10.0</td>\n      <td>8</td>\n      <td>17</td>\n      <td>20</td>\n      <td>21.0</td>\n    </tr>\n    <tr>\n      <th>1</th>\n      <td>22020</td>\n      <td>1610612742</td>\n      <td>DAL</td>\n      <td>Dallas Mavericks</td>\n      <td>0022000998</td>\n      <td>2021-05-06</td>\n      <td>DAL vs. BKN</td>\n      <td>W</td>\n      <td>240</td>\n      <td>113</td>\n      <td>...</td>\n      <td>0.692</td>\n      <td>12.0</td>\n      <td>39.0</td>\n      <td>51.0</td>\n      <td>23</td>\n      <td>10.0</td>\n      <td>3</td>\n      <td>12</td>\n      <td>15</td>\n      <td>4.0</td>\n    </tr>\n    <tr>\n      <th>0</th>\n      <td>22020</td>\n      <td>1610612744</td>\n      <td>GSW</td>\n      <td>Golden State Warriors</td>\n      <td>0022001001</td>\n      <td>2021-05-06</td>\n      <td>GSW vs. OKC</td>\n      <td>W</td>\n      <td>238</td>\n      <td>118</td>\n      <td>...</td>\n      <td>0.833</td>\n      <td>7.0</td>\n      <td>42.0</td>\n      <td>49.0</td>\n      <td>36</td>\n      <td>4.0</td>\n      <td>1</td>\n      <td>13</td>\n      <td>19</td>\n      <td>21.0</td>\n    </tr>\n    <tr>\n      <th>0</th>\n      <td>22020</td>\n      <td>1610612746</td>\n      <td>LAC</td>\n      <td>LA Clippers</td>\n      <td>0022001002</td>\n      <td>2021-05-06</td>\n      <td>LAC vs. LAL</td>\n      <td>W</td>\n      <td>239</td>\n      <td>118</td>\n      <td>...</td>\n      <td>0.885</td>\n      <td>9.0</td>\n      <td>39.0</td>\n      <td>48.0</td>\n      <td>23</td>\n      <td>4.0</td>\n      <td>5</td>\n      <td>22</td>\n      <td>25</td>\n      <td>24.0</td>\n    </tr>\n    <tr>\n      <th>1</th>\n      <td>22020</td>\n      <td>1610612747</td>\n      <td>LAL</td>\n      <td>Los Angeles Lakers</td>\n      <td>0022001002</td>\n      <td>2021-05-06</td>\n      <td>LAL @ LAC</td>\n      <td>L</td>\n      <td>241</td>\n      <td>94</td>\n      <td>...</td>\n      <td>0.621</td>\n      <td>11.0</td>\n      <td>23.0</td>\n      <td>34.0</td>\n      <td>21</td>\n      <td>8.0</td>\n      <td>6</td>\n      <td>10</td>\n      <td>23</td>\n      <td>-24.0</td>\n    </tr>\n    <tr>\n      <th>0</th>\n      <td>22020</td>\n      <td>1610612751</td>\n      <td>BKN</td>\n      <td>Brooklyn Nets</td>\n      <td>0022000998</td>\n      <td>2021-05-06</td>\n      <td>BKN @ DAL</td>\n      <td>L</td>\n      <td>241</td>\n      <td>109</td>\n      <td>...</td>\n      <td>0.933</td>\n      <td>10.0</td>\n      <td>41.0</td>\n      <td>51.0</td>\n      <td>18</td>\n      <td>8.0</td>\n      <td>4</td>\n      <td>13</td>\n      <td>18</td>\n      <td>-4.0</td>\n    </tr>\n    <tr>\n      <th>0</th>\n      <td>22020</td>\n      <td>1610612754</td>\n      <td>IND</td>\n      <td>Indiana Pacers</td>\n      <td>0022001000</td>\n      <td>2021-05-06</td>\n      <td>IND vs. ATL</td>\n      <td>W</td>\n      <td>240</td>\n      <td>133</td>\n      <td>...</td>\n      <td>0.895</td>\n      <td>4.0</td>\n      <td>32.0</td>\n      <td>36.0</td>\n      <td>35</td>\n      <td>11.0</td>\n      <td>4</td>\n      <td>15</td>\n      <td>19</td>\n      <td>7.0</td>\n    </tr>\n    <tr>\n      <th>0</th>\n      <td>22020</td>\n      <td>1610612760</td>\n      <td>OKC</td>\n      <td>Oklahoma City Thunder</td>\n      <td>0022001001</td>\n      <td>2021-05-06</td>\n      <td>OKC @ GSW</td>\n      <td>L</td>\n      <td>241</td>\n      <td>97</td>\n      <td>...</td>\n      <td>0.800</td>\n      <td>5.0</td>\n      <td>34.0</td>\n      <td>39.0</td>\n      <td>21</td>\n      <td>9.0</td>\n      <td>1</td>\n      <td>9</td>\n      <td>19</td>\n      <td>-21.0</td>\n    </tr>\n    <tr>\n      <th>0</th>\n      <td>22020</td>\n      <td>1610612761</td>\n      <td>TOR</td>\n      <td>Toronto Raptors</td>\n      <td>0022000997</td>\n      <td>2021-05-06</td>\n      <td>TOR vs. WAS</td>\n      <td>L</td>\n      <td>265</td>\n      <td>129</td>\n      <td>...</td>\n      <td>0.778</td>\n      <td>18.0</td>\n      <td>32.0</td>\n      <td>50.0</td>\n      <td>23</td>\n      <td>9.0</td>\n      <td>5</td>\n      <td>12</td>\n      <td>30</td>\n      <td>-2.0</td>\n    </tr>\n    <tr>\n      <th>0</th>\n      <td>22020</td>\n      <td>1610612763</td>\n      <td>MEM</td>\n      <td>Memphis Grizzlies</td>\n      <td>0022000999</td>\n      <td>2021-05-06</td>\n      <td>MEM @ DET</td>\n      <td>L</td>\n      <td>241</td>\n      <td>97</td>\n      <td>...</td>\n      <td>0.647</td>\n      <td>12.0</td>\n      <td>30.0</td>\n      <td>42.0</td>\n      <td>25</td>\n      <td>7.0</td>\n      <td>5</td>\n      <td>15</td>\n      <td>14</td>\n      <td>-14.0</td>\n    </tr>\n    <tr>\n      <th>0</th>\n      <td>22020</td>\n      <td>1610612764</td>\n      <td>WAS</td>\n      <td>Washington Wizards</td>\n      <td>0022000997</td>\n      <td>2021-05-06</td>\n      <td>WAS @ TOR</td>\n      <td>W</td>\n      <td>266</td>\n      <td>131</td>\n      <td>...</td>\n      <td>0.837</td>\n      <td>11.0</td>\n      <td>36.0</td>\n      <td>47.0</td>\n      <td>29</td>\n      <td>4.0</td>\n      <td>6</td>\n      <td>13</td>\n      <td>22</td>\n      <td>2.0</td>\n    </tr>\n    <tr>\n      <th>0</th>\n      <td>22020</td>\n      <td>1610612765</td>\n      <td>DET</td>\n      <td>Detroit Pistons</td>\n      <td>0022000999</td>\n      <td>2021-05-06</td>\n      <td>DET vs. MEM</td>\n      <td>W</td>\n      <td>241</td>\n      <td>111</td>\n      <td>...</td>\n      <td>0.857</td>\n      <td>5.0</td>\n      <td>34.0</td>\n      <td>39.0</td>\n      <td>24</td>\n      <td>9.0</td>\n      <td>6</td>\n      <td>11</td>\n      <td>18</td>\n      <td>14.0</td>\n    </tr>\n    <tr>\n      <th>1</th>\n      <td>22020</td>\n      <td>1610612766</td>\n      <td>CHA</td>\n      <td>Charlotte Hornets</td>\n      <td>0022000434</td>\n      <td>2021-05-06</td>\n      <td>CHA vs. CHI</td>\n      <td>L</td>\n      <td>238</td>\n      <td>99</td>\n      <td>...</td>\n      <td>0.389</td>\n      <td>13.0</td>\n      <td>32.0</td>\n      <td>45.0</td>\n      <td>29</td>\n      <td>11.0</td>\n      <td>3</td>\n      <td>15</td>\n      <td>16</td>\n      <td>-21.0</td>\n    </tr>\n  </tbody>\n</table>\n<p>14 rows × 28 columns</p>\n</div>"
     },
     "metadata": {},
     "execution_count": 23
    }
   ],
   "source": [
    "df = pd.DataFrame()\n",
    "for team_id in team_ids:\n",
    "    gamefinder = leaguegamefinder.LeagueGameFinder(team_id_nullable=team_id)\n",
    "    games = gamefinder.get_data_frames()[0]\n",
    "    games = games[games['GAME_DATE'] == ytd_date] # the NBA season usually starts around october\n",
    "    df = df.append(games)\n",
    "\n",
    "df"
   ]
  },
  {
   "cell_type": "code",
   "execution_count": null,
   "metadata": {},
   "outputs": [],
   "source": []
  }
 ]
}